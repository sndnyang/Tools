{
 "cells": [
  {
   "cell_type": "markdown",
   "metadata": {},
   "source": [
    "# 有道词典爬取\n",
    "\n",
    "去爬取几万个单词的词意——语音库可能也要缓存下来， 有想法没资源，只能这样了。\n",
    "\n",
    "[代码来源](https://github.com/longcw/youdao/blob/master/youdao/spider.py)"
   ]
  },
  {
   "cell_type": "code",
   "execution_count": 4,
   "metadata": {},
   "outputs": [],
   "source": [
    "import re\n",
    "import json\n",
    "import os\n",
    "import requests\n",
    "import webbrowser\n",
    "from bs4 import BeautifulSoup\n"
   ]
  },
  {
   "cell_type": "code",
   "execution_count": 5,
   "metadata": {
    "collapsed": true
   },
   "outputs": [],
   "source": [
    "def printDeep(item, deep):\n",
    "    if isinstance(item, (str, bool, int, float)):\n",
    "        print ' '*deep, item\n",
    "    elif isinstance(item, (list, tuple)):\n",
    "        print ' '*deep, 'a list'\n",
    "        for e in item:\n",
    "            if isinstance(e, (str, bool, int, float, unicode)):\n",
    "                print ' '*(deep+4), e\n",
    "            else:\n",
    "                printDeep(e, deep+4)\n",
    "    elif isinstance(item, dict):\n",
    "        print ' '*deep, 'a dict'\n",
    "        for e in item:\n",
    "            print ' '*(deep+4), e, ':', item[e]\n",
    "            if not isinstance(item[e], (str, bool, int, float)):\n",
    "                printDeep(item[e], deep+4)"
   ]
  },
  {
   "cell_type": "code",
   "execution_count": 6,
   "metadata": {
    "collapsed": true
   },
   "outputs": [],
   "source": [
    "def addBilingual(example):\n",
    "    bilingual = example.find(id='bilingual')\n",
    "    if not bilingual:\n",
    "        return None\n",
    "    ul = bilingual.find_all('li')\n",
    "    b = []\n",
    "    for l in ul:\n",
    "        t = l.find_all('p')\n",
    "        en = ''.join(e.string for e in t[0].find_all('span'))\n",
    "        zh = ''.join(e.string for e in t[1].find_all('span'))\n",
    "        b.append(':' + en + '    ' + zh)\n",
    "    return b"
   ]
  },
  {
   "cell_type": "code",
   "execution_count": 7,
   "metadata": {
    "collapsed": true
   },
   "outputs": [],
   "source": [
    "def addExample(example, name):\n",
    "    items = example.find(id=name)\n",
    "    if not items:\n",
    "        return None\n",
    "    ul = items.find_all('li')\n",
    "    b = []\n",
    "    for l in ul:\n",
    "        en = l.find('p').text\n",
    "        b.append(':' + en.strip())\n",
    "    return b"
   ]
  },
  {
   "cell_type": "code",
   "execution_count": 8,
   "metadata": {
    "collapsed": true
   },
   "outputs": [],
   "source": [
    "\n",
    "class YoudaoSpider:\n",
    "    \"\"\"\n",
    "    通过有道获取单词解释, 以及展示查询结果\n",
    "    \"\"\"\n",
    "\n",
    "    params = {\n",
    "        'keyfrom': 'longcwang',\n",
    "        'key': '131895274',\n",
    "        'type': 'data',\n",
    "        'doctype': 'json',\n",
    "        'version': '1.1',\n",
    "        'q': 'query'\n",
    "    }\n",
    "    api_url = u'http://fanyi.youdao.com/openapi.do'\n",
    "    voice_url = u'http://dict.youdao.com/dictvoice?type=2&audio={word}'\n",
    "    web_url = u'http://dict.youdao.com/search?keyfrom=dict.top&q='\n",
    "    translation_url = u'http://fanyi.youdao.com/translate?keyfrom=dict.top&i='\n",
    "\n",
    "    error_code = {\n",
    "        0: u'正常',\n",
    "        20: u'要翻译的文本过长',\n",
    "        30: u'无法进行有效的翻译',\n",
    "        40: u'不支持的语言类型',\n",
    "        50: u'无效的key',\n",
    "        60: u'无词典结果，仅在获取词典结果生效'\n",
    "    }\n",
    "\n",
    "    result = {\n",
    "        \"query\": \"\",\n",
    "        \"errorCode\": 0,\n",
    "    }\n",
    "\n",
    "    def __init__(self, word):\n",
    "        self.word = word\n",
    "\n",
    "    def get_result(self, use_api=False):\n",
    "        \"\"\"\n",
    "        获取查询结果\n",
    "        :param use_api:是否使用有道API, 否则解析web版有道获取结果\n",
    "        :return:与有道API返回的json数据一致的dict\n",
    "        \"\"\"\n",
    "        if use_api:\n",
    "            self.params['q'] = self.word\n",
    "            r = requests.get(self.api_url, params=self.params)\n",
    "            r.raise_for_status()    # a 4XX client error or 5XX server error response\n",
    "            self.result = r.json()\n",
    "        else:\n",
    "            r = requests.get(self.web_url + self.word)\n",
    "            r.raise_for_status()\n",
    "            self.parse_html(r.text)\n",
    "        return self.result\n",
    "\n",
    "    def parse_html(self, html):\n",
    "        \"\"\"\n",
    "        解析web版有道的网页\n",
    "        :param html:网页内容\n",
    "        :return:result\n",
    "        \"\"\"\n",
    "        soup = BeautifulSoup(html, \"lxml\")\n",
    "        root = soup.find(id='results-contents')\n",
    "\n",
    "        # query 搜索的关键字\n",
    "        keyword = root.find(class_='keyword')\n",
    "        if not keyword:\n",
    "            self.result['query'] = self.word\n",
    "        else:\n",
    "            self.result['query'] = unicode(keyword.string)\n",
    "\n",
    "        # 基本解释\n",
    "        basic = root.find(id='phrsListTab')\n",
    "        if basic:\n",
    "            trans = basic.find(class_='trans-container')\n",
    "            if trans:\n",
    "                self.result['basic'] = {}\n",
    "                self.result['basic']['explains'] = [unicode(tran.string) for tran in trans.find_all('li')]\n",
    "                # 中文\n",
    "                if len(self.result['basic']['explains']) == 0:\n",
    "                    exp = trans.find(class_='wordGroup').stripped_strings\n",
    "                    self.result['basic']['explains'].append(' '.join(exp))\n",
    "\n",
    "                # 音标\n",
    "                phons = basic(class_='phonetic', limit=2)\n",
    "                if len(phons) == 2:\n",
    "                    self.result['basic']['uk-phonetic'], self.result['basic']['us-phonetic'] = \\\n",
    "                        [unicode(p.string)[1:-1] for p in phons]\n",
    "                elif len(phons) == 1:\n",
    "                    self.result['basic']['phonetic'] = unicode(phons[0].string)[1:-1]\n",
    "        # 英文译义\n",
    "        # meanEn = root.find(id='tEETrans')\n",
    "        # 翻译\n",
    "        if 'basic' not in self.result:\n",
    "            self.result['translation'] = self.get_translation(self.word)\n",
    "\n",
    "        # 网络释义(短语)\n",
    "        web = root.find(id='webPhrase')\n",
    "        if web:\n",
    "            self.result['web'] = [\n",
    "                {\n",
    "                    'key': unicode(wordgroup.find(class_='search-js').string).strip(),\n",
    "                    'value': [v.strip() for v in unicode(wordgroup.find('span').next_sibling).split(';')]\n",
    "                } for wordgroup in web.find_all(class_='wordGroup', limit=4)\n",
    "            ]\n",
    "            \n",
    "        example = root.find(id='examplesToggle')\n",
    "        self.result['example'] = []\n",
    "        if not example:\n",
    "            return\n",
    "        \n",
    "        bi = addBilingual(example)\n",
    "\n",
    "        if bi:\n",
    "            self.result['example'] += bi\n",
    "        other = addExample(example, 'originalSound')\n",
    "        if other:\n",
    "            self.result['example'] += other\n",
    "        other = addExample(example, 'authority')\n",
    "        if other:\n",
    "            self.result['example'] += other        \n",
    "\n",
    "    def get_translation(self, word):\n",
    "        \"\"\"\n",
    "        通过web版有道翻译抓取翻译结果\n",
    "        :param word:str 关键字\n",
    "        :return:list 翻译结果\n",
    "        \"\"\"\n",
    "        r = requests.get(self.translation_url+word)\n",
    "        if r.status_code != requests.codes.ok:\n",
    "            return None\n",
    "\n",
    "        pattern = re.compile(r'\"translateResult\":\\[(\\[.+\\])\\]')\n",
    "        m = pattern.search(r.text)\n",
    "        result = json.loads(m.group(1))\n",
    "        return [item['tgt'] for item in result]\n",
    "\n",
    "    @classmethod\n",
    "    def get_voice(cls, word):\n",
    "        voice_file = os.path.join(VOICE_DIR, word+'.mp3')\n",
    "        if not os.path.isfile(voice_file):\n",
    "            r = requests.get(cls.voice_url.format(word=word))\n",
    "            with open(voice_file, 'wb') as f:\n",
    "                f.write(r.content)\n",
    "        return voice_file"
   ]
  },
  {
   "cell_type": "code",
   "execution_count": 9,
   "metadata": {
    "collapsed": true
   },
   "outputs": [],
   "source": [
    "# word\tlevel\tlenovo\tetyma\tmeanZh\tmeanEn\texample\tphonetic\n",
    "def transform(sample):\n",
    "    result = {'word': sample['query'], 'example': '\\n'.join(sample['example']),\n",
    "             'meanZh': '\\n'.join(sample['basic']['explains'])}\n",
    "    if 'phonetic' in sample['basic']:\n",
    "        result['phonetic'] = sample['basic']['phonetic']\n",
    "    elif 'uk-phonetic' in sample['basic'] and 'us-phonetic' in sample['basic']:\n",
    "        result['phonetic'] = u'英:[' + sample['basic']['uk-phonetic'] + u'] 美:[' +\\\n",
    "            sample['basic']['uk-phonetic'] + u']'\n",
    "    return result"
   ]
  },
  {
   "cell_type": "code",
   "execution_count": 32,
   "metadata": {},
   "outputs": [
    {
     "name": "stdout",
     "output_type": "stream",
     "text": [
      "   a dict\n",
      "       phonetic : 英:[fɔːn] 美:[fɔːn]\n",
      "       word : fawn\n",
      "       example : :The chief hunter very soon espied the beautiful fawn with the golden collar, pointed it out to the king, and they determined to hunt it.    首席猎手很快就远远的看到了这个漂亮的带着金色脖套的小鹿，指给国王看，于是他们决定要猎到它。\n",
      ":But his sister wept, and begged him not to go: \"If they kill you, dear fawn, I shall be here alone in the forest, forsaken by the whole world.    但是他的妹妹开始哭泣，并且请求他不要去：“如果他们杀了你，亲爱的小鹿，我就一个人孤零零的在树林里了，被整个世界遗弃了。”\n",
      ":She quickly washed off the blood, and, after bathing the wound, placed healing herbs on it, and said, \"Lie down on your bed, dear fawn, and the wound will soon heal, if you rest your foot.    她很快擦干了血迹，并且，清洗了伤口，在上面敷上了治疗的草药，并且说，“躺到你的床上去，亲爱的小鹿，这个伤口会很快治愈，如果你能让你的脚休息一下。”\n",
      ":No reader of this deliciously combative book would ever compare him to a meek fawn.\n",
      ":The ones media sellers fawn over, vying to take them golfing or to tennis tournaments or NASCAR rallies.\n",
      ":Let's drag them before a U.S. Senate subcommittee and fawn all over them.\n",
      "       meanZh : vi. 奉承\n",
      "n. 小鹿；浅黄褐色；小动物\n",
      "adj. 浅黄褐色的\n",
      "vt. 生（小鹿或小动物）\n",
      "n. (Fawn)人名；(英)福恩\n"
     ]
    }
   ],
   "source": [
    "if __name__ == '__main__':\n",
    "    if False:\n",
    "        url = \"http://dict.youdao.com/search?keyfrom=dict.top&q=dramatically\"\n",
    "        r = requests.get(url)\n",
    "        r.raise_for_status()\n",
    "        soup = BeautifulSoup(r.text, \"lxml\")\n",
    "        root = soup.find(id='results-contents')\n",
    "        bilingual = example.find(id='originalSound')\n",
    "        ul = bilingual.find_all('li')\n",
    "        print len(ul)\n",
    "        for l in ul:\n",
    "            print l.find(\"p\").text\n",
    "        example = root.find(id='examplesToggle')\n",
    "        result = {'example': []}\n",
    "\n",
    "        bi = addBilingual(example)\n",
    "\n",
    "        other = addExample(example, 'originalSound')\n",
    "        print other\n",
    "        other = addExample(example, 'authority')\n",
    "        print other    \n",
    "    test = YoudaoSpider('fawn')\n",
    "    sample = test.get_result()\n",
    "    result = transform(sample)\n",
    "    printDeep(result, 2)"
   ]
  },
  {
   "cell_type": "code",
   "execution_count": 10,
   "metadata": {},
   "outputs": [],
   "source": [
    "url = \"http://dict.youdao.com/search?keyfrom=dict.top&q=abjectly\"\n",
    "r = requests.get(url)\n",
    "r.raise_for_status()\n",
    "soup = BeautifulSoup(r.text, \"lxml\")\n",
    "root = soup.find(id='results-contents')\n",
    "\n",
    "example = root.find(id='examplesToggle')\n",
    "result = {'example': []}\n"
   ]
  },
  {
   "cell_type": "code",
   "execution_count": 11,
   "metadata": {},
   "outputs": [],
   "source": [
    "bilingual = example.find(id='bilingual')\n",
    "ul = bilingual.find_all('li')\n",
    "b = []\n",
    "for l in ul:\n",
    "    t = l.find_all('p')\n",
    "\n",
    "    en = ''.join(e.string if e.string else e.text for e in t[0].find_all('span'))\n",
    "    zh = ''.join(e.string for e in t[1].find_all('span'))\n",
    "    b.append(':' + en + '    ' + zh)"
   ]
  },
  {
   "cell_type": "code",
   "execution_count": 21,
   "metadata": {},
   "outputs": [
    {
     "name": "stdout",
     "output_type": "stream",
     "text": [
      "[u':One difficulty they face is the cussed tendency of biological things to evolve.    \\u4ed6\\u4eec\\u9762\\u4e34\\u7684\\u4e00\\u4e2a\\u56f0\\u96be\\u4e4b\\u4e00\\u5c31\\u662f\\u751f\\u7269\\u7269\\u8d28\\u987d\\u56fa\\u7684\\u7279\\u6027\\u3002', u':Abstract: The problems of air flotation process to remove algae in waterworks are summarized. The causes are dis-cussed and counter-measurements are suggested.    \\u6587\\u6458\\uff1a\\u603b\\u7ed3\\u4e86\\u81ea\\u6765\\u6c34\\u5382\\u6c14\\u6d6e\\u9664\\u85fb\\u5b9e\\u8df5\\u4e2d\\u5b58\\u5728\\u7684\\u95ee\\u9898\\uff0c\\u5e76\\u5206\\u6790\\u4ea7\\u751f\\u8fd9\\u4e9b\\u95ee\\u9898\\u7684\\u539f\\u56e0\\uff0c\\u63d0\\u51fa\\u4e00\\u4e9b\\u5bf9\\u7b56\\u3002', u':Nobody, but nobody, has ever cussed more colorfully on screen than Gleason as the redneck SHERIFF BUFORD T. JUSTICE, OF TEXAS!!!    \\u6ca1\\u6709\\u4eba\\u80fd\\u50cf\\u6770\\u514b\\xb7\\u683c\\u91cc\\u68ee\\u90a3\\u6837\\u80fd\\u5c06\\u4e00\\u4e2a\\u4e61\\u5df4\\u4f6c\\u4f3c\\u7684\\u8b66\\u957f\\u6f14\\u5f97\\u5982\\u6b64\\u751f\\u52a8\\uff0c\\u7535\\u5f71\\u4e2d\\u8fd9\\u4f4d\\u5e03\\u798f\\u5fb7\\u8b66\\u957f\\u53f7\\u79f0\\u662f\\u5fb7\\u514b\\u8428\\u65af\\u7684\\u6b63\\u4e49\\u5316\\u8eab\\u3002']\n"
     ]
    }
   ],
   "source": [
    "print b"
   ]
  },
  {
   "cell_type": "markdown",
   "metadata": {},
   "source": []
  }
 ],
 "metadata": {
  "anaconda-cloud": {},
  "kernelspec": {
   "display_name": "Python 2",
   "language": "python",
   "name": "python2"
  },
  "language_info": {
   "codemirror_mode": {
    "name": "ipython",
    "version": 2
   },
   "file_extension": ".py",
   "mimetype": "text/x-python",
   "name": "python",
   "nbconvert_exporter": "python",
   "pygments_lexer": "ipython2",
   "version": "2.7.12"
  }
 },
 "nbformat": 4,
 "nbformat_minor": 1
}
