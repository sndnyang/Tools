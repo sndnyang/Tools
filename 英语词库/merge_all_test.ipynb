{
 "cells": [
  {
   "cell_type": "code",
   "execution_count": 5,
   "metadata": {
    "collapsed": true
   },
   "outputs": [],
   "source": [
    "import json\n",
    "import string\n",
    "import xml.dom.minidom\n",
    "from collections import defaultdict\n",
    "\n",
    "import sys\n",
    "import xlrd\n",
    "\n",
    "import numpy as np\n",
    "import pandas as pd\n",
    "import sqlite3 as sq\n",
    "\n",
    "from  openpyxl.workbook  import  Workbook\n",
    "from  openpyxl.writer.excel import ExcelWriter\n",
    "\n",
    "from YouDaoSpider import YoudaoSpider"
   ]
  },
  {
   "cell_type": "code",
   "execution_count": 2,
   "metadata": {
    "collapsed": true
   },
   "outputs": [],
   "source": [
    "def xml2json(name, word_dict, level):\n",
    "    import json\n",
    "\n",
    "    dom = xml.dom.minidom.parse(name)\n",
    "    root = dom.documentElement\n",
    "    items = root.getElementsByTagName('item')\n",
    "    # print len(items)\n",
    "\n",
    "    c = 0\n",
    "    for item in items:\n",
    "\n",
    "        word = item.getElementsByTagName('word')[0].firstChild.data\n",
    "        if word in word_dict:\n",
    "            if level not in word_dict[word]['test']:\n",
    "                word_dict[word]['test'] += ' ' + level\n",
    "            continue\n",
    "\n",
    "        trans = item.getElementsByTagName('trans')[0].firstChild.data\n",
    "        phonetic = item.getElementsByTagName('phonetic')[0].firstChild.data\n",
    "\n",
    "        mean_list, example_list = parse_tran(trans)\n",
    "        mean_str = '\\n'.join(mean_list)\n",
    "        example_str = '\\n'.join(example_list)\n",
    "\n",
    "        word_dict[word] = {'phonetic': phonetic, 'mean': mean_str, 'example': example_str, 'test': level}\n",
    "\n"
   ]
  },
  {
   "cell_type": "code",
   "execution_count": 3,
   "metadata": {
    "collapsed": false
   },
   "outputs": [],
   "source": [
    "\n",
    "def is_meaning(line):\n",
    "    if line[0] in string.letters and '.' in line:\n",
    "        return True\n",
    "    return False\n",
    "        \n",
    "def parse_tran(tran):\n",
    "    lines = tran.split('\\n')\n",
    "\n",
    "    mean_list = []\n",
    "    example_list = []\n",
    "    method = None\n",
    "    \n",
    "    for line in lines:\n",
    "        if not line:\n",
    "            continue\n",
    "\n",
    "        if is_meaning(line):\n",
    "            mean_list.append(line)\n",
    "        elif line.startswith(u'【'):\n",
    "            method = line.split(u'】')[1].strip()\n",
    "        elif line[0] in string.letters and ':' in line and ' ' in line.split(':')[0]:\n",
    "            example = line.split(':')\n",
    "            example_list.append(example[1] + ': '+ example[0])\n",
    "\n",
    "    # print len(mean_list), len(example_list)\n",
    "    return mean_list, example_list\n",
    "# tran = trans[0].firstChild.data\n",
    "# parse_tran(tran)"
   ]
  },
  {
   "cell_type": "code",
   "execution_count": 4,
   "metadata": {
    "collapsed": false
   },
   "outputs": [
    {
     "ename": "IOError",
     "evalue": "[Errno 2] No such file or directory: '700CET4.xml'",
     "output_type": "error",
     "traceback": [
      "\u001b[1;31m\u001b[0m",
      "\u001b[1;31mIOError\u001b[0mTraceback (most recent call last)",
      "\u001b[1;32m<ipython-input-4-53f23dd4c1b2>\u001b[0m in \u001b[0;36m<module>\u001b[1;34m()\u001b[0m\n\u001b[0;32m      2\u001b[0m \u001b[0mword_dict\u001b[0m \u001b[1;33m=\u001b[0m \u001b[1;33m{\u001b[0m\u001b[1;33m}\u001b[0m\u001b[1;33m\u001b[0m\u001b[0m\n\u001b[0;32m      3\u001b[0m \u001b[1;33m\u001b[0m\u001b[0m\n\u001b[1;32m----> 4\u001b[1;33m \u001b[0mxml2json\u001b[0m\u001b[1;33m(\u001b[0m\u001b[1;34m'700CET4.xml'\u001b[0m\u001b[1;33m,\u001b[0m \u001b[0mword_dict\u001b[0m\u001b[1;33m,\u001b[0m \u001b[1;34m'CET4'\u001b[0m\u001b[1;33m)\u001b[0m\u001b[1;33m\u001b[0m\u001b[0m\n\u001b[0m\u001b[0;32m      5\u001b[0m \u001b[1;33m\u001b[0m\u001b[0m\n\u001b[0;32m      6\u001b[0m \u001b[1;32mprint\u001b[0m \u001b[0mlen\u001b[0m\u001b[1;33m(\u001b[0m\u001b[0mword_dict\u001b[0m\u001b[1;33m)\u001b[0m\u001b[1;33m\u001b[0m\u001b[0m\n",
      "\u001b[1;32m<ipython-input-2-8731dc34e521>\u001b[0m in \u001b[0;36mxml2json\u001b[1;34m(name, word_dict, level)\u001b[0m\n\u001b[0;32m      2\u001b[0m     \u001b[1;32mimport\u001b[0m \u001b[0mjson\u001b[0m\u001b[1;33m\u001b[0m\u001b[0m\n\u001b[0;32m      3\u001b[0m \u001b[1;33m\u001b[0m\u001b[0m\n\u001b[1;32m----> 4\u001b[1;33m     \u001b[0mdom\u001b[0m \u001b[1;33m=\u001b[0m \u001b[0mxml\u001b[0m\u001b[1;33m.\u001b[0m\u001b[0mdom\u001b[0m\u001b[1;33m.\u001b[0m\u001b[0mminidom\u001b[0m\u001b[1;33m.\u001b[0m\u001b[0mparse\u001b[0m\u001b[1;33m(\u001b[0m\u001b[0mname\u001b[0m\u001b[1;33m)\u001b[0m\u001b[1;33m\u001b[0m\u001b[0m\n\u001b[0m\u001b[0;32m      5\u001b[0m     \u001b[0mroot\u001b[0m \u001b[1;33m=\u001b[0m \u001b[0mdom\u001b[0m\u001b[1;33m.\u001b[0m\u001b[0mdocumentElement\u001b[0m\u001b[1;33m\u001b[0m\u001b[0m\n\u001b[0;32m      6\u001b[0m     \u001b[0mitems\u001b[0m \u001b[1;33m=\u001b[0m \u001b[0mroot\u001b[0m\u001b[1;33m.\u001b[0m\u001b[0mgetElementsByTagName\u001b[0m\u001b[1;33m(\u001b[0m\u001b[1;34m'item'\u001b[0m\u001b[1;33m)\u001b[0m\u001b[1;33m\u001b[0m\u001b[0m\n",
      "\u001b[1;32mE:\\Program Files\\Anaconda\\lib\\xml\\dom\\minidom.pyc\u001b[0m in \u001b[0;36mparse\u001b[1;34m(file, parser, bufsize)\u001b[0m\n\u001b[0;32m   1916\u001b[0m     \u001b[1;32mif\u001b[0m \u001b[0mparser\u001b[0m \u001b[1;32mis\u001b[0m \u001b[0mNone\u001b[0m \u001b[1;32mand\u001b[0m \u001b[1;32mnot\u001b[0m \u001b[0mbufsize\u001b[0m\u001b[1;33m:\u001b[0m\u001b[1;33m\u001b[0m\u001b[0m\n\u001b[0;32m   1917\u001b[0m         \u001b[1;32mfrom\u001b[0m \u001b[0mxml\u001b[0m\u001b[1;33m.\u001b[0m\u001b[0mdom\u001b[0m \u001b[1;32mimport\u001b[0m \u001b[0mexpatbuilder\u001b[0m\u001b[1;33m\u001b[0m\u001b[0m\n\u001b[1;32m-> 1918\u001b[1;33m         \u001b[1;32mreturn\u001b[0m \u001b[0mexpatbuilder\u001b[0m\u001b[1;33m.\u001b[0m\u001b[0mparse\u001b[0m\u001b[1;33m(\u001b[0m\u001b[0mfile\u001b[0m\u001b[1;33m)\u001b[0m\u001b[1;33m\u001b[0m\u001b[0m\n\u001b[0m\u001b[0;32m   1919\u001b[0m     \u001b[1;32melse\u001b[0m\u001b[1;33m:\u001b[0m\u001b[1;33m\u001b[0m\u001b[0m\n\u001b[0;32m   1920\u001b[0m         \u001b[1;32mfrom\u001b[0m \u001b[0mxml\u001b[0m\u001b[1;33m.\u001b[0m\u001b[0mdom\u001b[0m \u001b[1;32mimport\u001b[0m \u001b[0mpulldom\u001b[0m\u001b[1;33m\u001b[0m\u001b[0m\n",
      "\u001b[1;32mE:\\Program Files\\Anaconda\\lib\\xml\\dom\\expatbuilder.pyc\u001b[0m in \u001b[0;36mparse\u001b[1;34m(file, namespaces)\u001b[0m\n\u001b[0;32m    920\u001b[0m \u001b[1;33m\u001b[0m\u001b[0m\n\u001b[0;32m    921\u001b[0m     \u001b[1;32mif\u001b[0m \u001b[0misinstance\u001b[0m\u001b[1;33m(\u001b[0m\u001b[0mfile\u001b[0m\u001b[1;33m,\u001b[0m \u001b[0mStringTypes\u001b[0m\u001b[1;33m)\u001b[0m\u001b[1;33m:\u001b[0m\u001b[1;33m\u001b[0m\u001b[0m\n\u001b[1;32m--> 922\u001b[1;33m         \u001b[0mfp\u001b[0m \u001b[1;33m=\u001b[0m \u001b[0mopen\u001b[0m\u001b[1;33m(\u001b[0m\u001b[0mfile\u001b[0m\u001b[1;33m,\u001b[0m \u001b[1;34m'rb'\u001b[0m\u001b[1;33m)\u001b[0m\u001b[1;33m\u001b[0m\u001b[0m\n\u001b[0m\u001b[0;32m    923\u001b[0m         \u001b[1;32mtry\u001b[0m\u001b[1;33m:\u001b[0m\u001b[1;33m\u001b[0m\u001b[0m\n\u001b[0;32m    924\u001b[0m             \u001b[0mresult\u001b[0m \u001b[1;33m=\u001b[0m \u001b[0mbuilder\u001b[0m\u001b[1;33m.\u001b[0m\u001b[0mparseFile\u001b[0m\u001b[1;33m(\u001b[0m\u001b[0mfp\u001b[0m\u001b[1;33m)\u001b[0m\u001b[1;33m\u001b[0m\u001b[0m\n",
      "\u001b[1;31mIOError\u001b[0m: [Errno 2] No such file or directory: '700CET4.xml'"
     ]
    }
   ],
   "source": [
    "\n",
    "word_dict = {}\n",
    "\n",
    "xml2json('700CET4.xml', word_dict, 'CET4')\n",
    "\n",
    "print len(word_dict)\n",
    "\n",
    "xml2json('CET-4 EASY.xml', word_dict, 'CET4')\n",
    "\n",
    "print len(word_dict)\n",
    "\n",
    "xml2json('CET-4 HARD.xml', word_dict, 'CET4')\n",
    "\n",
    "print len(word_dict)\n",
    "\n",
    "xml2json('CET-6.xml', word_dict, 'CET6')\n",
    "\n",
    "print len(word_dict)\n",
    "\n",
    "xml2json('POST CET-6.xml', word_dict, 'CET6')\n",
    "\n",
    "print len(word_dict)"
   ]
  },
  {
   "cell_type": "code",
   "execution_count": 42,
   "metadata": {
    "collapsed": true
   },
   "outputs": [],
   "source": [
    "def trim_sqlite_example(content):\n",
    "    lines = content.split('\\n')\n",
    "    examples = []\n",
    "    for line in lines:\n",
    "        if not line:\n",
    "            continue\n",
    "        t = line.replace('/r', '').replace('/n', '')\n",
    "        if '    ' not in t:\n",
    "            continue\n",
    "        p = t.index('    ')\n",
    "        examples.append(t[p+1:].strip() + ':' + t[:p].strip())\n",
    "    return '\\n'.join(examples)"
   ]
  },
  {
   "cell_type": "code",
   "execution_count": 60,
   "metadata": {
    "collapsed": false
   },
   "outputs": [
    {
     "name": "stdout",
     "output_type": "stream",
     "text": [
      "7125\n",
      "7125\n"
     ]
    }
   ],
   "source": [
    "xml2json('TOFEL.xml', word_dict, 'TOFEL')\n",
    "\n",
    "print len(word_dict)\n",
    "\n",
    "xml2json('tofel.xml', word_dict, 'TOFEL')\n",
    "\n",
    "print len(word_dict)"
   ]
  },
  {
   "cell_type": "code",
   "execution_count": 68,
   "metadata": {
    "collapsed": true
   },
   "outputs": [],
   "source": [
    "def merge_excel(word_dict, fname, level):\n",
    "    data = xlrd.open_workbook(fname)\n",
    "    table = data.sheets()[0]\n",
    "    nrows = table.nrows # 获取表的行数\n",
    "    for i in range(nrows): # 循环逐行打印\n",
    "        row = table.row_values(i)\n",
    "        row[7][0] = '['\n",
    "        row[7][-1] = ']'\n",
    "        if row[0] not in word_dict:\n",
    "            word_dict[row[0]] = {'phonetic': row[7], 'mean': row[4], 'test': 'GRE'}\n",
    "            word_dict[row[0]]['example'] = row[6] if row[6] else '' \n",
    "        else:\n",
    "            word_dict[row[0]]['mean'] += '\\n' + row[4]\n",
    "            if word_dict[row[0]]['example'] and row[6]:\n",
    "                word_dict[row[0]]['example'] += \"\\n\" + row[6]\n",
    "            else:\n",
    "                word_dict[row[0]]['example'] = row[6]\n",
    "            if level not in word_dict[row[0]]['test']:\n",
    "                word_dict[row[0]]['test'] += ' ' + level\n",
    "                \n",
    "        word_dict[row[0]]['lenovo'] = row[2] if row[2] else ''\n",
    "        word_dict[row[0]]['etyma'] = row[3] if row[3] else ''\n",
    "        "
   ]
  },
  {
   "cell_type": "code",
   "execution_count": 61,
   "metadata": {
    "collapsed": false
   },
   "outputs": [
    {
     "data": {
      "text/plain": [
       "12867"
      ]
     },
     "execution_count": 61,
     "metadata": {},
     "output_type": "execute_result"
    }
   ],
   "source": [
    "merge_excel(word_dict, 'GRE.xls', 'GRE')\n",
    "merge_excel(word_dict, '3000.xls', 'GRE')\n",
    "len(word_dict)  "
   ]
  },
  {
   "cell_type": "code",
   "execution_count": 62,
   "metadata": {
    "collapsed": false
   },
   "outputs": [
    {
     "data": {
      "text/plain": [
       "19093"
      ]
     },
     "execution_count": 62,
     "metadata": {},
     "output_type": "execute_result"
    }
   ],
   "source": [
    "import HTMLParser\n",
    "con = sq.connect(\"cet6.sqlite3\")\n",
    "cursor = con.cursor()\n",
    "rset= cursor.execute(\"select * from Note\")\n",
    "html_parser = HTMLParser.HTMLParser()\n",
    "c = 0\n",
    "for item in rset.fetchall():\n",
    "    w = item[0].lower()\n",
    "    m = html_parser.unescape(item[1])\n",
    "    s = html_parser.unescape(item[2] if item[2] else '')\n",
    "    s = trim_sqlite_example(s)\n",
    "    if w in word_dict and s:\n",
    "        if word_dict[w]['example']:\n",
    "            word_dict[w]['example'] += \"\\n\" + s\n",
    "        else:\n",
    "            word_dict[w]['example'] = s\n",
    "        if 'CET6' not in word_dict[w]['test']:\n",
    "            word_dict[w]['test'] += ' ' + 'CET6'\n",
    "        continue\n",
    "    c += 1\n",
    "    word_dict[w] = {'phonetic': '', 'mean': m, 'example': s, 'test': 'CET6'}\n",
    "len(word_dict)      "
   ]
  },
  {
   "cell_type": "code",
   "execution_count": 63,
   "metadata": {
    "collapsed": false
   },
   "outputs": [],
   "source": [
    "def json2df(word_dict):\n",
    "    l = ['word', 'level', 'lenovo', 'etyma', 'meanZh', 'meanEn', 'example', 'phonetic', 'test']\n",
    "    content = []\n",
    "    for w in word_dict:\n",
    "        row = [''] * 9\n",
    "        row[0] = w\n",
    "        row[1] = 0\n",
    "        row[2] = word_dict[w]['lenovo'] if 'lenovo' in word_dict[w] else ''\n",
    "        row[3] = word_dict[w]['etyma'] if 'etyma' in word_dict[w] else ''\n",
    "        row[4] = word_dict[w]['mean']\n",
    "        row[6] = word_dict[w]['example']\n",
    "        row[7] = word_dict[w]['phonetic']\n",
    "        row[8] = word_dict[w]['test']\n",
    "        content.append(row)\n",
    "\n",
    "    print len(content)\n",
    "    return pd.DataFrame(content, columns=l)"
   ]
  },
  {
   "cell_type": "code",
   "execution_count": 64,
   "metadata": {
    "collapsed": false
   },
   "outputs": [
    {
     "name": "stdout",
     "output_type": "stream",
     "text": [
      "19093\n"
     ]
    }
   ],
   "source": [
    "data = json2df(word_dict)"
   ]
  },
  {
   "cell_type": "code",
   "execution_count": 65,
   "metadata": {
    "collapsed": true
   },
   "outputs": [],
   "source": [
    "def save_to_excel(data, fname):\n",
    "    writer = pd.ExcelWriter(fname)\n",
    "    data.to_excel(writer, index=False)\n",
    "    writer.save()"
   ]
  },
  {
   "cell_type": "code",
   "execution_count": 66,
   "metadata": {
    "collapsed": false
   },
   "outputs": [],
   "source": [
    "save_to_excel(data, 'gloss.xls')"
   ]
  },
  {
   "cell_type": "code",
   "execution_count": null,
   "metadata": {
    "collapsed": true
   },
   "outputs": [],
   "source": []
  }
 ],
 "metadata": {
  "anaconda-cloud": {},
  "kernelspec": {
   "display_name": "Python [Root]",
   "language": "python",
   "name": "Python [Root]"
  },
  "language_info": {
   "codemirror_mode": {
    "name": "ipython",
    "version": 2
   },
   "file_extension": ".py",
   "mimetype": "text/x-python",
   "name": "python",
   "nbconvert_exporter": "python",
   "pygments_lexer": "ipython2",
   "version": "2.7.12"
  }
 },
 "nbformat": 4,
 "nbformat_minor": 1
}
