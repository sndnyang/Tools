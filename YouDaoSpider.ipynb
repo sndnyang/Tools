{
 "cells": [
  {
   "cell_type": "markdown",
   "metadata": {
    "deletable": true,
    "editable": true
   },
   "source": [
    "# 有道词典爬取\n",
    "\n",
    "去爬取几万个单词的词意——语音库可能也要缓存下来， 有想法没资源，只能这样了。\n",
    "\n",
    "[代码来源](https://github.com/longcw/youdao/blob/master/youdao/spider.py)"
   ]
  },
  {
   "cell_type": "code",
   "execution_count": 3,
   "metadata": {
    "collapsed": false,
    "deletable": true,
    "editable": true
   },
   "outputs": [],
   "source": [
    "import re\n",
    "import json\n",
    "import os\n",
    "import requests\n",
    "import webbrowser\n",
    "from termcolor import colored\n",
    "from bs4 import BeautifulSoup\n"
   ]
  },
  {
   "cell_type": "code",
   "execution_count": 4,
   "metadata": {
    "collapsed": true,
    "deletable": true,
    "editable": true
   },
   "outputs": [],
   "source": [
    "\n",
    "class YoudaoSpider:\n",
    "    \"\"\"\n",
    "    通过有道获取单词解释, 以及展示查询结果\n",
    "    \"\"\"\n",
    "\n",
    "    params = {\n",
    "        'keyfrom': 'longcwang',\n",
    "        'key': '131895274',\n",
    "        'type': 'data',\n",
    "        'doctype': 'json',\n",
    "        'version': '1.1',\n",
    "        'q': 'query'\n",
    "    }\n",
    "    api_url = u'http://fanyi.youdao.com/openapi.do'\n",
    "    voice_url = u'http://dict.youdao.com/dictvoice?type=2&audio={word}'\n",
    "    web_url = u'http://dict.youdao.com/search?keyfrom=dict.top&q='\n",
    "    translation_url = u'http://fanyi.youdao.com/translate?keyfrom=dict.top&i='\n",
    "\n",
    "    error_code = {\n",
    "        0: u'正常',\n",
    "        20: u'要翻译的文本过长',\n",
    "        30: u'无法进行有效的翻译',\n",
    "        40: u'不支持的语言类型',\n",
    "        50: u'无效的key',\n",
    "        60: u'无词典结果，仅在获取词典结果生效'\n",
    "    }\n",
    "\n",
    "    result = {\n",
    "        \"query\": \"\",\n",
    "        \"errorCode\": 0,\n",
    "    }\n",
    "\n",
    "    def __init__(self, word):\n",
    "        self.word = word\n",
    "\n",
    "    def get_result(self, use_api=False):\n",
    "        \"\"\"\n",
    "        获取查询结果\n",
    "        :param use_api:是否使用有道API, 否则解析web版有道获取结果\n",
    "        :return:与有道API返回的json数据一致的dict\n",
    "        \"\"\"\n",
    "        if use_api:\n",
    "            self.params['q'] = self.word\n",
    "            r = requests.get(self.api_url, params=self.params)\n",
    "            r.raise_for_status()    # a 4XX client error or 5XX server error response\n",
    "            self.result = r.json()\n",
    "        else:\n",
    "            r = requests.get(self.web_url + self.word)\n",
    "            r.raise_for_status()\n",
    "            self.parse_html(r.text)\n",
    "        return self.result\n",
    "\n",
    "    def parse_html(self, html):\n",
    "        \"\"\"\n",
    "        解析web版有道的网页\n",
    "        :param html:网页内容\n",
    "        :return:result\n",
    "        \"\"\"\n",
    "        soup = BeautifulSoup(html, \"lxml\")\n",
    "        root = soup.find(id='results-contents')\n",
    "\n",
    "        # query 搜索的关键字\n",
    "        keyword = root.find(class_='keyword')\n",
    "        if not keyword:\n",
    "            self.result['query'] = self.word\n",
    "        else:\n",
    "            self.result['query'] = unicode(keyword.string)\n",
    "\n",
    "        # 基本解释\n",
    "        basic = root.find(id='phrsListTab')\n",
    "        if basic:\n",
    "            trans = basic.find(class_='trans-container')\n",
    "            if trans:\n",
    "                self.result['basic'] = {}\n",
    "                self.result['basic']['explains'] = [unicode(tran.string) for tran in trans.find_all('li')]\n",
    "                # 中文\n",
    "                if len(self.result['basic']['explains']) == 0:\n",
    "                    exp = trans.find(class_='wordGroup').stripped_strings\n",
    "                    self.result['basic']['explains'].append(' '.join(exp))\n",
    "\n",
    "                # 音标\n",
    "                phons = basic(class_='phonetic', limit=2)\n",
    "                if len(phons) == 2:\n",
    "                    self.result['basic']['uk-phonetic'], self.result['basic']['us-phonetic'] = \\\n",
    "                        [unicode(p.string)[1:-1] for p in phons]\n",
    "                elif len(phons) == 1:\n",
    "                    self.result['basic']['phonetic'] = unicode(phons[0].string)[1:-1]\n",
    "\n",
    "        # 翻译\n",
    "        if 'basic' not in self.result:\n",
    "            self.result['translation'] = self.get_translation(self.word)\n",
    "\n",
    "        # 网络释义(短语)\n",
    "        web = root.find(id='webPhrase')\n",
    "        if web:\n",
    "            self.result['web'] = [\n",
    "                {\n",
    "                    'key': unicode(wordgroup.find(class_='search-js').string).strip(),\n",
    "                    'value': [v.strip() for v in unicode(wordgroup.find('span').next_sibling).split(';')]\n",
    "                } for wordgroup in web.find_all(class_='wordGroup', limit=4)\n",
    "            ]\n",
    "            \n",
    "        example = root.find(id='bilingual')\n",
    "        \n",
    "\n",
    "    def get_translation(self, word):\n",
    "        \"\"\"\n",
    "        通过web版有道翻译抓取翻译结果\n",
    "        :param word:str 关键字\n",
    "        :return:list 翻译结果\n",
    "        \"\"\"\n",
    "        r = requests.get(self.translation_url+word)\n",
    "        if r.status_code != requests.codes.ok:\n",
    "            return None\n",
    "\n",
    "        pattern = re.compile(r'\"translateResult\":\\[(\\[.+\\])\\]')\n",
    "        m = pattern.search(r.text)\n",
    "        result = json.loads(m.group(1))\n",
    "        return [item['tgt'] for item in result]\n",
    "\n",
    "    @classmethod\n",
    "    def get_voice(cls, word):\n",
    "        voice_file = os.path.join(VOICE_DIR, word+'.mp3')\n",
    "        if not os.path.isfile(voice_file):\n",
    "            r = requests.get(cls.voice_url.format(word=word))\n",
    "            with open(voice_file, 'wb') as f:\n",
    "                f.write(r.content)\n",
    "        return voice_file"
   ]
  },
  {
   "cell_type": "code",
   "execution_count": 12,
   "metadata": {
    "collapsed": false
   },
   "outputs": [],
   "source": [
    "\n",
    "test = YoudaoSpider('countenance')\n",
    "sample = test.get_result()"
   ]
  },
  {
   "cell_type": "code",
   "execution_count": 15,
   "metadata": {
    "collapsed": false
   },
   "outputs": [
    {
     "name": "stdout",
     "output_type": "stream",
     "text": [
      "{'errorCode': 0, 'query': u'countenance', 'web': [{'value': [u'\\u5916\\u8c8c\\u6a21\\u5f0f', u'\\u5168\\u8c8c\\u6a21\\u5f0f', u'\\u5f15\\u5165\\u4e86\\u5168\\u8c8c\\u6a21\\u5f0f'], 'key': u'countenance model'}, {'value': [u'\\u8272\\u5f69\\u8868\\u60c5'], 'key': u'colors countenance'}, {'value': [u'\\u53d7\\u7a98'], 'key': u'lost countenance'}, {'value': [u'\\u786c\\u6447\\u6eda'], 'key': u'T countenance'}], 'basic': {'uk-phonetic': u\"'ka\\u028ant(\\u0259)n\\u0259ns; -t\\u026an-\", 'explains': [u'n. \\u9762\\u5bb9\\uff0c\\u8868\\u60c5\\uff1b\\u652f\\u6301', u'vt. \\u652f\\u6301\\uff0c\\u8d5e\\u540c'], 'us-phonetic': u\"'ka\\u028ant\\u0259n\\u0259ns\"}}\n"
     ]
    }
   ],
   "source": [
    "print sample"
   ]
  },
  {
   "cell_type": "markdown",
   "metadata": {
    "deletable": true,
    "editable": true
   },
   "source": []
  }
 ],
 "metadata": {
  "anaconda-cloud": {},
  "kernelspec": {
   "display_name": "Python [Root]",
   "language": "python",
   "name": "Python [Root]"
  },
  "language_info": {
   "codemirror_mode": {
    "name": "ipython",
    "version": 2
   },
   "file_extension": ".py",
   "mimetype": "text/x-python",
   "name": "python",
   "nbconvert_exporter": "python",
   "pygments_lexer": "ipython2",
   "version": "2.7.12"
  }
 },
 "nbformat": 4,
 "nbformat_minor": 1
}
