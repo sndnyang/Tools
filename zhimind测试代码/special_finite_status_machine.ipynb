{
 "cells": [
  {
   "cell_type": "code",
   "execution_count": 1,
   "metadata": {
    "collapsed": true
   },
   "outputs": [],
   "source": [
    "import re\n",
    "import json"
   ]
  },
  {
   "cell_type": "code",
   "execution_count": 2,
   "metadata": {
    "collapsed": true
   },
   "outputs": [],
   "source": [
    "def readFile(fn):\n",
    "    fp = file(fn)\n",
    "    content = fp.read()\n",
    "    fp.close()\n",
    "    return content\n",
    "\n",
    "content = readFile('qa_test.txt')"
   ]
  },
  {
   "cell_type": "code",
   "execution_count": 4,
   "metadata": {
    "collapsed": true
   },
   "outputs": [],
   "source": [
    "def find_right_next(s, i, n, char):\n",
    "    if i == len(s):\n",
    "        return i\n",
    "\n",
    "    if s[i] == '{':\n",
    "        return find_right_next(s, i + 1, n + 1, char)\n",
    "    elif s[i] in '%' + char and n == 0:\n",
    "        return i\n",
    "    elif s[i] == '}' and n > 0:\n",
    "        return find_right_next(s, i + 1, n - 1, char)\n",
    "    else:\n",
    "        return find_right_next(s, i + 1, n, char)"
   ]
  },
  {
   "cell_type": "code",
   "execution_count": 6,
   "metadata": {
    "collapsed": false
   },
   "outputs": [
    {
     "name": "stdout",
     "output_type": "stream",
     "text": [
      "543\n",
      "{%process\n",
      "|下面我们开始\n",
      "@a\n",
      "@b:`x+y`\n",
      "@a,b:c:$w^Tx+b=0$\n",
      "@b:d:![x](http://blog.pluskid.org/wp-content/uploads/2010/09/Hyper-Plane.png)\n",
      "@d:e:`x/y`\n",
      "#请把w作为系数写在x前面\n",
      "#但维度是否对上，没对上要如何对上？#偏置项都是kx+b哪见过kx-b了#答案w^Tx + b = 0\n",
      "%}\n"
     ]
    }
   ],
   "source": [
    "start = content.find(\"{%\")\n",
    "end = find_right_next(content, start, 0, '\\n')\n",
    "s = content[start:end]\n",
    "print end\n",
    "print s"
   ]
  },
  {
   "cell_type": "code",
   "execution_count": 16,
   "metadata": {
    "collapsed": true
   },
   "outputs": [],
   "source": [
    "def parse_answer(line, p, quiz_type):\n",
    "    \"\"\"\n",
    "    1. 需要在js里判断':'和'@' 中间不存在 ','，一个答案只写一次，独占一空\n",
    "    1. 如果存在两个 : 需要在js里判断中间存在 ',' 而不是 '，'\n",
    "    \"\"\"\n",
    "    obj = re.findall(p, line, re.M)\n",
    "    if not obj:\n",
    "        return None\n",
    "\n",
    "    result = None\n",
    "    lists = [e.replace('\\n', '').replace('\\r', '') for e in obj[0].split(p[0])]\n",
    "    options = []\n",
    "    for l in lists:\n",
    "        if quiz_type != 'process':\n",
    "            break\n",
    "\n",
    "        t = [e.replace('\\n', '').replace('\\r', '') for e in l.split(':')]\n",
    "        lt = len(t)\n",
    "        print l, t, lt,\n",
    "        answer_map = {}\n",
    "        if lt == 1:\n",
    "            answer_map  = {t[0]: ([], '')}\n",
    "        if lt == 2:\n",
    "            pre = t[0].split(',')\n",
    "            if t[1][0] == '$' or t[1][0] == '!' or t[1][0] == '`':\n",
    "                answer_map = {t[0]: ([], t[1])}\n",
    "                options.append(t[1])\n",
    "            else:\n",
    "                answer_map = {t[0]: (t[1].split(','), '')}\n",
    "        if lt == 3:\n",
    "            answer_map  = {t[0]: (t[1].split(','), t[2])}\n",
    "            options.append(t[2])\n",
    "\n",
    "        print answer_map\n",
    "        if not result:\n",
    "            result = answer_map\n",
    "            result['options'] = options\n",
    "            continue\n",
    "\n",
    "        for e in answer_map:\n",
    "            result[e] = answer_map[e]\n",
    "\n",
    "    if not result:\n",
    "        result = lists\n",
    "\n",
    "    return result\n"
   ]
  },
  {
   "cell_type": "code",
   "execution_count": 17,
   "metadata": {
    "collapsed": false
   },
   "outputs": [
    {
     "name": "stdout",
     "output_type": "stream",
     "text": [
      "a ['a'] 1 {'a': ([], '')}\n",
      "b:`x+y` ['b', '`x+y`'] 2 {'b': ([], '`x+y`')}\n",
      "a,b:c:$w^Tx+b=0$ ['a,b', 'c', '$w^Tx+b=0$'] 3 {'a,b': (['c'], '$w^Tx+b=0$')}\n",
      "b:d:![x](http://blog.pluskid.org/wp-content/uploads/2010/09/Hyper-Plane.png) ['b', 'd', '![x](http', '//blog.pluskid.org/wp-content/uploads/2010/09/Hyper-Plane.png)'] 4 {}\n",
      "d:e:`x/y` ['d', 'e', '`x/y`'] 3 {'d': (['e'], '`x/y`')}\n",
      "process\n",
      "{'a': ([], ''), 'b': ([], '`x+y`'), 'a,b': (['c'], '$w^Tx+b=0$'), 'options': ['`x+y`', '$w^Tx+b=0$', '`x/y`'], 'd': (['e'], '`x/y`')}\n"
     ]
    }
   ],
   "source": [
    "quiz_type = re.search('^{%(\\w+)|', s, re.M).group(1)\n",
    "\n",
    "answer = parse_answer(s, '@([^#]*)', quiz_type)\n",
    "print quiz_type\n",
    "print answer"
   ]
  },
  {
   "cell_type": "code",
   "execution_count": null,
   "metadata": {
    "collapsed": true
   },
   "outputs": [],
   "source": [
    "start = content.find(\"{%\")\n",
    "lists = []\n",
    "while start < len(content):\n",
    "    end = find_right_next(content, start, 0, '\\n')\n",
    "    s = content[start:end]\n",
    "    lists.append(s)\n",
    "    quiz_type = re.search('^{%(\\w+)|', s, re.M).group(1)\n",
    "    answer, comment = parse_quiz(s, quiz_type)\n",
    "    answers.append(answer)\n",
    "    comments.append(comment)\n",
    "    start = content.find(\"{%\", end)\n",
    "    if start <= 0:\n",
    "        break"
   ]
  }
 ],
 "metadata": {
  "kernelspec": {
   "display_name": "Python [Root]",
   "language": "python",
   "name": "Python [Root]"
  },
  "language_info": {
   "codemirror_mode": {
    "name": "ipython",
    "version": 2
   },
   "file_extension": ".py",
   "mimetype": "text/x-python",
   "name": "python",
   "nbconvert_exporter": "python",
   "pygments_lexer": "ipython2",
   "version": "2.7.12"
  }
 },
 "nbformat": 4,
 "nbformat_minor": 1
}
