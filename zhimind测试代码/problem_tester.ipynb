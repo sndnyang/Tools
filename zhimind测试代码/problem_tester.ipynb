{
 "cells": [
  {
   "cell_type": "code",
   "execution_count": 1,
   "metadata": {
    "collapsed": true
   },
   "outputs": [],
   "source": [
    "import re\n",
    "import json\n",
    "import unittest\n",
    "import traceback\n",
    "\n",
    "from colortest import ColorTestRunner"
   ]
  },
  {
   "cell_type": "code",
   "execution_count": 15,
   "metadata": {
    "collapsed": false
   },
   "outputs": [],
   "source": [
    "import sys\n",
    "\n",
    "reload(sys)"
   ]
  },
  {
   "cell_type": "code",
   "execution_count": 16,
   "metadata": {
    "collapsed": true
   },
   "outputs": [],
   "source": [
    "sys.setdefaultencoding('utf-8')"
   ]
  },
  {
   "cell_type": "code",
   "execution_count": 7,
   "metadata": {
    "collapsed": false
   },
   "outputs": [],
   "source": [
    "from markdown.extensions.problem import *"
   ]
  },
  {
   "cell_type": "code",
   "execution_count": 2,
   "metadata": {
    "collapsed": true
   },
   "outputs": [],
   "source": [
    "def readFile(fn):\n",
    "    fp = file(fn)\n",
    "    content = fp.read()\n",
    "    fp.close()\n",
    "    return content\n",
    "\n",
    "content = readFile('qa_test.txt')"
   ]
  },
  {
   "cell_type": "code",
   "execution_count": 4,
   "metadata": {
    "collapsed": false
   },
   "outputs": [
    {
     "name": "stdout",
     "output_type": "stream",
     "text": [
      "﻿Title: 支持向量机系列之最大间隔   \n",
      "Date: 2016-04-19   \n",
      "slug: svm-1-max-margin   \n",
      "category: 机器学习   \n",
      "tags: CS, 机器学习, 人工智能  \n",
      "Modified: 2016-11-09 11:56   \n",
      "summary: 支持向量机最大间隔介绍   \n",
      "\n",
      "[TOC]\n",
      "\n",
      "# A\n",
      "\n",
      "{%process\n",
      "|下面我们开始\n",
      "@a\n",
      "@b:`x+y`\n",
      "@c:a,b:$w^Tx+b=0$\n",
      "@d:b:![x](http://blog.pluskid.org/wp-content/uploads/2010/09/Hyper-Plane.png)\n",
      "@e:d:`x/y`\n",
      "@Q.E.D.:e,c\n",
      "#请把w作为系数写在x前面\n",
      "#但维度是否对上，没对上要如何对上？#偏置项都是kx+b哪见过kx-b了#答案w^Tx + b = 0\n",
      "%}\n",
      "\n",
      "# final\n",
      "\n",
      "{%checkbox|你觉得评估标准应该是什么？&w范数值越小越好&超平面到所有点的距离之和越大越好&超平面到最近点的距离越大越好&w范数越大越好\n",
      "@超平面到最近点的距离越大越好\n",
      "@2\n",
      "#w范数:10x+8 = 0 是否等价于 5x+4=0？\n",
      "#所有点:{%text|考虑极端情况_@这个#:\n",
      "{%radio|这两个情况哪个好？&这个&那个\n",
      "@那个#这个:这怎么聊下去呢?%}%}\n",
      "%}\n",
      "\n"
     ]
    }
   ],
   "source": [
    "print content"
   ]
  },
  {
   "cell_type": "code",
   "execution_count": 10,
   "metadata": {
    "collapsed": false
   },
   "outputs": [],
   "source": [
    "start = content.find(\"{%\")\n",
    "lists = []\n",
    "while start >= 0 and start < len(content):\n",
    "\n",
    "    end = find_right_next(content, start, 0, '\\n')\n",
    "    lists.append(content[start:end])\n",
    "    start = content.find(\"{%\", end)"
   ]
  },
  {
   "cell_type": "code",
   "execution_count": 11,
   "metadata": {
    "collapsed": false
   },
   "outputs": [
    {
     "name": "stdout",
     "output_type": "stream",
     "text": [
      "2\n"
     ]
    }
   ],
   "source": [
    "print len(lists)"
   ]
  },
  {
   "cell_type": "code",
   "execution_count": 17,
   "metadata": {
    "collapsed": false
   },
   "outputs": [
    {
     "ename": "NameError",
     "evalue": "global name 'self' is not defined",
     "output_type": "error",
     "traceback": [
      "\u001b[1;31m---------------------------------------------------------------------------\u001b[0m",
      "\u001b[1;31mNameError\u001b[0m                                 Traceback (most recent call last)",
      "\u001b[1;32m<ipython-input-17-332da29c6824>\u001b[0m in \u001b[0;36m<module>\u001b[1;34m()\u001b[0m\n\u001b[1;32m----> 1\u001b[1;33m \u001b[1;32mprint\u001b[0m \u001b[0mrenderQuestion\u001b[0m\u001b[1;33m(\u001b[0m\u001b[0mlists\u001b[0m\u001b[1;33m[\u001b[0m\u001b[1;36m0\u001b[0m\u001b[1;33m]\u001b[0m\u001b[1;33m,\u001b[0m \u001b[1;36m1\u001b[0m\u001b[1;33m)\u001b[0m\u001b[1;33m\u001b[0m\u001b[0m\n\u001b[0m",
      "\u001b[1;32mE:\\Program Files\\Anaconda\\lib\\site-packages\\markdown\\extensions\\problem.py\u001b[0m in \u001b[0;36mrenderQuestion\u001b[1;34m(s, quiz_count)\u001b[0m\n\u001b[0;32m     70\u001b[0m     \u001b[0msubmit\u001b[0m \u001b[1;33m=\u001b[0m \u001b[0metree\u001b[0m\u001b[1;33m.\u001b[0m\u001b[0mElement\u001b[0m\u001b[1;33m(\u001b[0m\u001b[1;34m'button'\u001b[0m\u001b[1;33m)\u001b[0m\u001b[1;33m\u001b[0m\u001b[0m\n\u001b[0;32m     71\u001b[0m     \u001b[0msubmit\u001b[0m\u001b[1;33m.\u001b[0m\u001b[0mtext\u001b[0m \u001b[1;33m=\u001b[0m \u001b[1;34m'submit'\u001b[0m\u001b[1;33m\u001b[0m\u001b[0m\n\u001b[1;32m---> 72\u001b[1;33m     \u001b[0msubmit\u001b[0m\u001b[1;33m.\u001b[0m\u001b[0mset\u001b[0m\u001b[1;33m(\u001b[0m\u001b[1;34m'onclick'\u001b[0m\u001b[1;33m,\u001b[0m \u001b[1;34m\"checkQuiz(this, %d)\"\u001b[0m\u001b[1;33m%\u001b[0m\u001b[0mself\u001b[0m\u001b[1;33m.\u001b[0m\u001b[0mquiz_count\u001b[0m\u001b[1;33m)\u001b[0m\u001b[1;33m\u001b[0m\u001b[0m\n\u001b[0m\u001b[0;32m     73\u001b[0m \u001b[1;33m\u001b[0m\u001b[0m\n\u001b[0;32m     74\u001b[0m     \u001b[1;32mif\u001b[0m \u001b[0mquiz_type\u001b[0m \u001b[1;33m==\u001b[0m \u001b[1;34m\"radio\"\u001b[0m \u001b[1;32mor\u001b[0m \u001b[0mquiz_type\u001b[0m \u001b[1;33m==\u001b[0m \u001b[1;34m\"checkbox\"\u001b[0m\u001b[1;33m:\u001b[0m\u001b[1;33m\u001b[0m\u001b[0m\n",
      "\u001b[1;31mNameError\u001b[0m: global name 'self' is not defined"
     ]
    }
   ],
   "source": [
    "print renderQuestion(lists[0], 1)"
   ]
  },
  {
   "cell_type": "code",
   "execution_count": null,
   "metadata": {
    "collapsed": true
   },
   "outputs": [],
   "source": []
  }
 ],
 "metadata": {
  "anaconda-cloud": {},
  "kernelspec": {
   "display_name": "Python [Root]",
   "language": "python",
   "name": "Python [Root]"
  },
  "language_info": {
   "codemirror_mode": {
    "name": "ipython",
    "version": 2
   },
   "file_extension": ".py",
   "mimetype": "text/x-python",
   "name": "python",
   "nbconvert_exporter": "python",
   "pygments_lexer": "ipython2",
   "version": "2.7.12"
  }
 },
 "nbformat": 4,
 "nbformat_minor": 1
}
