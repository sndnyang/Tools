{
 "cells": [
  {
   "cell_type": "code",
   "execution_count": 2,
   "metadata": {
    "collapsed": true
   },
   "outputs": [],
   "source": [
    "import re\n",
    "import json\n",
    "import requests\n",
    "\n",
    "from xml.etree.ElementTree import tostring"
   ]
  },
  {
   "cell_type": "code",
   "execution_count": 3,
   "metadata": {
    "collapsed": true
   },
   "outputs": [],
   "source": [
    "def parse_answer(line, p):\n",
    "    obj = re.findall(p, line)\n",
    "    if not obj:\n",
    "        return None\n",
    "    return obj[0].split(\"@\")\n",
    "     \n",
    "def parse_comment(line, p):\n",
    "    obj = re.findall(p, line)\n",
    "    if not obj:\n",
    "        return None\n",
    "    lists = obj[0].split(\"#\")\n",
    "    for l in lists:\n",
    "        if l.startswith('\"'):\n",
    "            l = json.loads(l)\n",
    "\n",
    "    return lists"
   ]
  },
  {
   "cell_type": "code",
   "execution_count": 4,
   "metadata": {
    "collapsed": false
   },
   "outputs": [],
   "source": [
    "\n",
    "def md_qa_parse(real_link):\n",
    "\n",
    "    qaparts = {}\n",
    "    response = ''\n",
    "    quiz_count = 0\n",
    "    answers = []\n",
    "    comments = []\n",
    "\n",
    "    block_pattern = re.compile('{%(\\w*|[^%{}@]*@[^%]*)%}', re.M)\n",
    "    inline_pattern = re.compile('{%(\\w*|[^%{}@]*@[^%]*)%}')\n",
    "    r = requests.get(real_link)\n",
    "\n",
    "    if not r.ok:\n",
    "        return {'response': False, 'info': real_link+u' not exists'}\n",
    "\n",
    "    if 'content-length' in r.headers and \\\n",
    "        int(r.headers['content-length']) > 8 * 5000 * 1024 * 3:\n",
    "        return {'response': False, 'info': real_link+u' 太长'}\n",
    "   \n",
    "    line_count = 0\n",
    "    block_flag = False\n",
    "    \n",
    "    for line in r.iter_lines():\n",
    "        \n",
    "        line_count += 1\n",
    "        \n",
    "        if block_flag:\n",
    "            \n",
    "            temp1 = parse_answer(line, '@([^#]*)')\n",
    "            temp2 = parse_comment(line, '#([^%]*)')\n",
    "            if temp1:\n",
    "                answer.append(temp1)\n",
    "                continue\n",
    "            elif temp2:\n",
    "                comments.append(temp2)\n",
    "            elif line.find(\"%}\") >= 0:\n",
    "                if len(answer) == 1:\n",
    "                    answer = answer[0]\n",
    "                if len(comment) == 1:\n",
    "                    comment = comment[0]\n",
    "                answers.append(answer)\n",
    "                comments.append(comment)\n",
    "                block_flag = False\n",
    "                response += line\n",
    "            else:\n",
    "                response += line\n",
    "            continue\n",
    "            \n",
    "        if line_count > 5000:\n",
    "            return {'response': False, 'info': real_link+u' 太长, 超过5000行'}\n",
    "        \n",
    "        if not line.startswith(\"{%\"):\n",
    "            response += line + '\\n'\n",
    "            continue\n",
    "            \n",
    "        lists = re.findall('{%(\\w*|[^%{}@]*@[^%]*)%}', line)\n",
    "        if lists:\n",
    "            answer = parse_answer(line, '@([^#]*)')\n",
    "            answers.append(answer)\n",
    "            comment = parse_comment(line, '#([^%]*)')\n",
    "            comments.append(comment)\n",
    "            response += line[:line.find(\"@\")] + '%}\\n'\n",
    "        else:\n",
    "            answer = []\n",
    "            comment = []\n",
    "            if line.find(\"@\") < 0:\n",
    "                response += line + \"\\n\"\n",
    "            else:\n",
    "                response += line[:line.find(\"@\")] + \"\\n\"\n",
    "            block_flag = True\n",
    "            \n",
    "    qaparts['response'] = response\n",
    "    qaparts['answer'] = answers\n",
    "    qaparts['comment'] = comments\n",
    "    \n",
    "    return qaparts"
   ]
  },
  {
   "cell_type": "code",
   "execution_count": 5,
   "metadata": {
    "collapsed": false
   },
   "outputs": [],
   "source": [
    "z = md_qa_parse(\"http://localhost:4321/%E4%BA%BA%E5%B7%A5%E6%99%BA%E8%83%BD/%E6%9C%BA%E5%99%A8%E5%AD%A6%E4%B9%A0/%E7%BA%BF%E6%80%A7%E6%A8%A1%E5%9E%8B/%E9%80%BB%E8%BE%91%E5%9B%9E%E5%BD%92/%E9%80%BB%E8%BE%91%E5%9B%9E%E5%BD%92%E5%9F%BA%E7%A1%80.md\")"
   ]
  },
  {
   "cell_type": "code",
   "execution_count": null,
   "metadata": {
    "collapsed": false
   },
   "outputs": [],
   "source": [
    "print z['comment']\n",
    "print 'comment'\n",
    "for e in  z['comment']:\n",
    "    print e[0]\n",
    "    #print isinstance(e[0], str)"
   ]
  },
  {
   "cell_type": "code",
   "execution_count": null,
   "metadata": {
    "collapsed": false
   },
   "outputs": [],
   "source": [
    "print len(z['answer'])\n",
    "for e in  z['answer']:\n",
    "    print e\n",
    "    print isinstance(e[0], str)\n",
    "    \n"
   ]
  },
  {
   "cell_type": "code",
   "execution_count": 9,
   "metadata": {
    "collapsed": false
   },
   "outputs": [
    {
     "name": "stdout",
     "output_type": "stream",
     "text": [
      "5795\n"
     ]
    }
   ],
   "source": [
    "print  len(z['response'])"
   ]
  },
  {
   "cell_type": "code",
   "execution_count": null,
   "metadata": {
    "collapsed": false
   },
   "outputs": [],
   "source": [
    "print z['response']"
   ]
  },
  {
   "cell_type": "code",
   "execution_count": 23,
   "metadata": {
    "collapsed": false
   },
   "outputs": [
    {
     "name": "stdout",
     "output_type": "stream",
     "text": [
      "True\n"
     ]
    }
   ],
   "source": [
    "x = \"{%asdf}\"\n",
    "print x.startswith(\"{%\")"
   ]
  },
  {
   "cell_type": "code",
   "execution_count": null,
   "metadata": {
    "collapsed": true
   },
   "outputs": [],
   "source": []
  },
  {
   "cell_type": "code",
   "execution_count": null,
   "metadata": {
    "collapsed": true
   },
   "outputs": [],
   "source": []
  }
 ],
 "metadata": {
  "anaconda-cloud": {},
  "kernelspec": {
   "display_name": "Python [Root]",
   "language": "python",
   "name": "Python [Root]"
  },
  "language_info": {
   "codemirror_mode": {
    "name": "ipython",
    "version": 2
   },
   "file_extension": ".py",
   "mimetype": "text/x-python",
   "name": "python",
   "nbconvert_exporter": "python",
   "pygments_lexer": "ipython2",
   "version": "2.7.12"
  }
 },
 "nbformat": 4,
 "nbformat_minor": 1
}
