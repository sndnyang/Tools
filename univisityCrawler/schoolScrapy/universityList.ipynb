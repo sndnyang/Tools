{
 "cells": [
  {
   "cell_type": "code",
   "execution_count": 1,
   "metadata": {
    "collapsed": true
   },
   "outputs": [],
   "source": [
    "import re\n",
    "import requests as req\n",
    "from bs4 import BeautifulSoup as bs"
   ]
  },
  {
   "cell_type": "code",
   "execution_count": 2,
   "metadata": {
    "collapsed": true
   },
   "outputs": [],
   "source": [
    "url = 'https://yocket.in/universities/masters-in-computer-science-engineering?page=1'"
   ]
  },
  {
   "cell_type": "code",
   "execution_count": 3,
   "metadata": {
    "collapsed": true
   },
   "outputs": [],
   "source": [
    "content = req.get(url)"
   ]
  },
  {
   "cell_type": "code",
   "execution_count": 4,
   "metadata": {},
   "outputs": [
    {
     "data": {
      "text/plain": [
       "'<!DOCTYPE html>\\n<html>\\n<head>\\n<title>Universities in United States offering Engineering courses in Computer Science / Information Technology | Yocket</title>\\n<meta name=\"description\" content=\"Get information on universities in United States offering Engineering courses in Computer Science / Information Technology. Read reviews, courses, tuition fee, weather conditions and much more.\"/> <meta http-equiv=\"Content-Type\" content=\"text/html; charset=utf-8\"/><meta name=\"viewport\" content=\"width=device-width, initial-scale=1.0\">\\n<script type=\"text/javascript\">\\n//<![CDATA[\\ntry{if (!window.CloudFlare) {var CloudFlare=[{verbose:0,p:0,byc:0,owlid:\"cf\",bag2:1,mirage2:0,oracle:0,paths:{cloudflare:\"/cdn-cgi/nexp/dok3v=1613a3a185/\"},atok:\"8d032e27bd3dff9f54e985e46cd8c521\",petok:\"87bf2ba959e879519310eb2fdc04968cbc6f0c6a-1494513312-1800\",zone:\"yocket.in\",rocket:\"0\",apps:{\"abetterbrowser\":{\"ie\":\"7\",\"opera\":\"8\",\"chrome\":\"24\",\"safari\":\"2.1\",\"firefox\":\"5.0\"}}}];!function(a,b){a=document.createElement(\"script\"),b=document.getElementsByTagName(\"script\")[0],a.async=!0,a.src=\"//ajax.cloudflare.com/cdn-cgi/nexp/dok3v=85b614c0f6/cloudflare.min.js\",b.parentNode.insertBefore(a,b)}()}}catch(e){};\\n//]]>\\n</script>\\n<link href=\"/img/yocket.ico\" type=\"image/x-icon\" rel=\"icon\"/><link href=\"/img/yocket.ico\" type=\"image/x-icon\" rel=\"shortcut icon\"/><meta name=\"theme-color\" content=\"#EF6C00\"/><link rel=\"icon\" sizes=\"192x192\" href=\"https://static.yocket.in/images/yocket_logo.png\"/>\\n \\n<link rel=\"stylesheet\" href=\"https://static.yocket.in/css/bootstrap-min.css\"/><link rel=\"stylesheet\" href=\"https://static.yocket.in/css/bootstrap_overrides-min.css\"/><link rel=\"stylesheet\" href=\"https://static.yocket.in/css/yocket-min.css\"/><link rel=\"stylesheet\" href=\"https://fonts.googleapis.com/css?family=Noto+Sans:400,700\"/><link rel=\"stylesheet\" href=\"https://fonts.googleapis.com/css?family=Marck+Script\"/><link rel=\"stylesheet\" href=\"https://maxcdn.bootstrapcdn.com/font-awesome/4.4.0/css/font-awesome.min.css\">\\n \\n<script src=\"https://static.yocket.in/js/jquery.min.js\" defer=\"defer\"></script><script src=\"https://static.yocket.in/js/jquery.validate.min.js\" defer=\"defer\"></script><script src=\"https://static.yocket.in/js/jquery-ui-min.js\" defer=\"defer\"></script><script type=\"text/javascript\"> var base_url = \\'https://yocket.in/\\';</script>\\n<script src=\"https://yocket.in/js/yocket.js?v=1.0.10\" defer></script>\\n<script src=\"https://maxcdn.bootstrapcdn.com/bootstrap/3.3.5/js/bootstrap.min.js\" integrity=\"sha512-K1qjQ+NcF2TYO/eI3M6v8EiNYZfA95pQumfvcVrTHtwQVDG+aHRqLi/ETn2uB+1JqwYqVG3LIvdm9lj6imS/pQ==\" crossorigin=\"anonymous\" defer></script>\\n \\n<script>\\n  (function(i,s,o,g,r,a,m){i[\\'GoogleAnalyticsObject\\']=r;i[r]=i[r]||function(){\\n  (i[r].q=i[r].q||[]).push(arguments)},i[r].l=1*new Date();a=s.createElement(o),\\n  m=s.getElementsByTagName(o)[0];a.async=1;a.src=g;m.parentNode.insertBefore(a,m)\\n  })(window,document,\\'script\\',\\'//www.google-analytics.com/analytics.js\\',\\'ga\\');\\n\\n  ga(\\'create\\', \\'UA-61697801-2\\', \\'auto\\');  ga(\\'send\\', \\'pageview\\');\\n</script>\\n \\n<script async=\\'async\\' src=\\'https://www.googletagservices.com/tag/js/gpt.js\\'></script>\\n<script>\\n  var googletag = googletag || {};\\n  googletag.cmd = googletag.cmd || [];\\n</script>\\n<script>\\n  googletag.cmd.push(function() {\\n    googletag.defineSlot(\\'/118013234/yocket-right-1\\', [300, 250], \\'div-gpt-ad-1486040951439-0\\').addService(googletag.pubads());\\n    googletag.defineSlot(\\'/118013234/yocket-right-2\\', [300, 250], \\'div-gpt-ad-1486040951439-1\\').addService(googletag.pubads());\\n    googletag.defineSlot(\\'/118013234/yocket-right-3\\', [300, 250], \\'div-gpt-ad-1486040951439-2\\').addService(googletag.pubads());\\n    googletag.pubads().enableSingleRequest();\\n    googletag.enableServices();\\n  });\\n</script>\\n \\n<script>\\n    !function(f,b,e,v,n,t,s)\\n    {if(f.fbq)return;n=f.fbq=function(){n.callMethod?\\n    n.callMethod.apply(n,arguments):n.queue.push(arguments)};\\n    if(!f._fbq)f._fbq=n;n.push=n;n.loaded=!0;n.version=\\'2.0\\';\\n    n.queue=[];t=b.createElement(e);t.async=!0;\\n    t.src=v;s=b.getElementsByTagName(e)[0];\\n    s.parentNode.insertBefore(t,s)}(window,document,\\'script\\',\\n    \\'https://connect.facebook.net/en_US/fbevents.js\\');\\n     fbq(\\'init\\', \\'129716877531675\\'); \\n    fbq(\\'track\\', \\'PageView\\');\\n</script>\\n<noscript>\\n<img height=\"1\" width=\"1\" src=\"https://www.facebook.com/tr?id=129716877531675&ev=PageView\\n    &noscript=1\"/>\\n</noscript>\\n \\n \\n<script>(function(d, s, id) {\\n  var js, fjs = d.getElementsByTagName(s)[0];\\n  if (d.getElementById(id)) return;\\n  js = d.createElement(s); js.id = id;\\n  js.src = \"//connect.facebook.net/en_US/sdk.js#xfbml=1&version=v2.8&appId=812660582206420\";\\n  fjs.parentNode.insertBefore(js, fjs);\\n}(document, \\'script\\', \\'facebook-jssdk\\'));</script>\\n \\n<meta property=\"og:title\" content=\"Universities in United States offering Engineering courses in Computer Science / Information Technology | Yocket\"/> <meta property=\"og:description\" content=\"Get information on universities in United States offering Engineering courses in Computer Science / Information Technology. Read reviews, courses, tuition fee, weather conditions and much more.\"/> <meta property=\"og:site_name\" content=\"Yocket\"/> <meta property=\"og:image\" content=\"https://static.yocket.in/images/graphics/yocket-fb-share-og-image.png\"/></head>\\n<body style=\"padding-top: 50px;\">\\n<style>.padding-4{padding:4px;}</style>\\n<script>\\n/**\\n$jQ(document).ready(function(e) {\\n\\t$jQ(\".ga-event\").click(function(ev) {\\n\\t\\tev.preventDefault();\\n\\t\\tvar url = $jQ(this).attr(\\'href\\');\\n\\t\\tsetTimeout(function () { window.location.href = url; }, 1000);\\n\\t\\t\\n\\t\\tvar event_category = $jQ(this).data(\"event-category\");\\n\\t\\tvar event_action = $jQ(this).data(\"event-action\");\\n\\t\\tvar event_label = $jQ(this).data(\"event-label\");\\n\\t\\tga(\\'send\\', \\'event\\', event_category, event_action, event_label, {\\n\\t\\t\\thitCallback: function() {\\n\\t\\t\\t  window.location.href = url;\\n\\t\\t\\t}\\n\\t\\t});\\n\\t});\\n});\\n*/\\n</script>\\n<nav class=\"navbar navbar-default navbar-fixed-top\">\\n<div class=\"container\">\\n \\n<div class=\"navbar-header\">\\n<button type=\"button\" class=\"navbar-toggle collapsed\" data-toggle=\"collapse\" data-target=\"#bs-example-navbar-collapse-1\" aria-expanded=\"false\">\\n<span class=\"sr-only\">Toggle navigation</span>\\n<span class=\"icon-bar\"></span>\\n<span class=\"icon-bar\"></span>\\n<span class=\"icon-bar\"></span>\\n</button>\\n<a href=\"/\" class=\"navbar-brand\">Yocket <div class=\"navbar-brand--subhead\">by Stupidsid</div></a> </div>\\n \\n<div class=\"collapse navbar-collapse\" id=\"bs-example-navbar-collapse-1\">\\n<ul class=\"nav navbar-nav\">\\n<li><a href=\"/\">\\n<span class=\\'fa fa-home\\'></span>\\n</a></li>\\n<li class=\"dropdown\">\\n<a href=\"#\" class=\"dropdown-toggle\" data-toggle=\"dropdown\" role=\"button\" aria-haspopup=\"true\" aria-expanded=\"false\">UNIVERSITIES <span class=\"caret\"></span>\\n</a>\\n<ul class=\"dropdown-menu\">\\n<li><a href=\"/universities\" class=\"ga-event\" data-event-category=\"Universities\" data-event-action=\"Navigate\" data-event-label=\"UniversityReviews\"><i class=\"fa fa-bar-chart padding-4\"></i> University Reviews</a></li>\\n<li role=\"separator\" class=\"divider\"></li>\\n<li><a href=\"/university-application-deadlines\" class=\"ga-event\" data-event-category=\"Universities\" data-event-action=\"Navigate\" data-event-label=\"UniversityDeadlines\"><i class=\"fa fa-clock-o padding-4\"></i> University Deadlines</a></li>\\n<li role=\"separator\" class=\"divider\"></li>\\n<li><a href=\"/university-courses/recommend\" class=\"ga-event\" data-event-category=\"Universities\" data-event-action=\"Navigate\" data-event-label=\"ProfileEvaluator\"><i class=\"fa fa-graduation-cap padding-4\"></i> Grad School Finder</a></li>\\n<li role=\"separator\" class=\"divider\"></li>\\n<li><a href=\"/universities/compare\" class=\"ga-event\" data-event-category=\"Universities\" data-event-action=\"Navigate\" data-event-label=\"CompareUniversities\"><i class=\"fa fa-balance-scale padding-4\"></i> Compare Universities</a></li>\\n<li role=\"separator\" class=\"divider\"></li>\\n<li><a href=\"/course-descriptions\" class=\"ga-event\" data-event-category=\"Courses\" data-event-action=\"Navigate\" data-event-label=\"CourseDescriptions\"><i class=\"fa fa-book padding-4\"></i> Course Descriptions</a></li>\\n</ul>\\n</li>\\n<li class=\"dropdown\">\\n<a href=\"#\" class=\"dropdown-toggle\" data-toggle=\"dropdown\" role=\"button\" aria-haspopup=\"true\" aria-expanded=\"false\">PROFILES <span class=\"caret\"></span>\\n</a>\\n<ul class=\"dropdown-menu\">\\n<li><a href=\"/profiles/find/matching-profiles\" class=\"ga-event\" data-event-category=\"Profiles\" data-event-action=\"Navigate\" data-event-label=\"SimilarProfiles\"><i class=\"fa fa-users padding-4\"></i> Similar Profiles</a></li>\\n<li role=\"separator\" class=\"divider\"></li>\\n<li><a href=\"/profiles/find/matching-admits-and-rejects\" class=\"ga-event\" data-event-category=\"Profiles\" data-event-action=\"Navigate\" data-event-label=\"AdmitsRejects\"><i class=\"fa fa-tags padding-4\"></i> Admits & Rejects</a></li>\\n<li role=\"separator\" class=\"divider\"></li>\\n<li><a href=\"/profiles/find\"><i class=\"fa fa-search padding-4\"></i> Find Profiles</a></li>\\n<li role=\"separator\" class=\"divider\"></li>\\n<li><a href=\"/profiles/find-roommates\"><i class=\"fa fa-home padding-4\"></i> Roommate Finder</a></li>\\n</ul>\\n</li>\\n<li><a href=\"/discussions/home\">DISCUSSIONS</a></li>\\n<li class=\"dropdown\">\\n<a href=\"#\" class=\"dropdown-toggle\" data-toggle=\"dropdown\" role=\"button\" aria-haspopup=\"true\" aria-expanded=\"false\">SERVICES <span class=\"caret\"></span>\\n</a>\\n<ul class=\"dropdown-menu\">\\n<li><a href=\"/services/mail\"><i class=\"fa fa-paper-plane padding-4\"></i> Send transcripts</a></li>\\n<li><a href=\"/services/mail/orders\"><i class=\"fa fa-shopping-cart padding-4\"></i> Mail orders</a></li>\\n \\n<li role=\"separator\" class=\"divider\"></li>\\n<li><a href=\"/services/loan-assistance\"><i class=\"fa fa-usd padding-4\"></i> Loan Assistance</a></li>\\n</ul>\\n</li>\\n<li><a href=\"/events\">EVENTS</a></li>\\n<li><a href=\"/blog\">BLOG</a></li>\\n</ul>\\n<form class=\"navbar-form navbar-right\">\\n<a href=\"/account/login\"><button class=\"btn btn-primary\" type=\"button\">Login</button></a> <a href=\"/account/login\" class=\"ga-event\" data-event-category=\"Users\" data-event-action=\"Navigate\" data-event-label=\"SignUp\"><button class=\"btn btn-default\" type=\"button\">Sign up</button></a> </form>\\n</div> \\n</div> \\n</nav> <div class=\"container-fluid\">\\n<div class=\"row\">\\n<div class=\"col-sm-12 university-header\" style=\"height: 240px; background-image: url(\\'https://static.yocket.in/images/universities/backgrounds/alt_university_bg.jpg\\');\">\\n<div class=\"col-sm-offset-2 col-sm-8\" style=\"align-self: center;\">\\n<div class=\"ui-widget\">\\n<div class=\"input-group\">\\n<span class=\"input-group-addon input-lg\" style=\"background: #fff;\"><i id=\"search-icon\" class=\"fa fa-search\"></i></span>\\n<input type=\"text\" id=\"search-input\" class=\"form-control input-lg\" placeholder=\"Search universities\" aria-describedby=\"search-input\">\\n</div> \\n</div>\\n</div>\\n</div>\\n</div>\\n</div>\\n<br>\\n<div class=\"container\">\\n<div class=\"row\">\\n<div class=\"col-sm-9\">\\n \\n \\n<div class=\"col-sm-12\">\\n<h2>Universities in United States offering Engineering courses in Computer Science / Information Technology</h2>\\n</div>\\n<div class=\"clearfix\"></div>\\n<hr>\\n \\n<div class=\"col-sm-3 hidden-xs\">\\n<p><i class=\"fa fa-filter\"></i> <strong>Filter Universities</strong></p>\\n<h4>RANK</h4>\\n<ul id=\"university-rank-filter\">\\n<li><a href=\"/universities/masters-in-computer-science-engineering/top-25?page=1\">Top 25</a></li>\\n<li><a href=\"/universities/masters-in-computer-science-engineering/top-50?page=1\">Top 50</a></li>\\n<li><a href=\"/universities/masters-in-computer-science-engineering/top-100?page=1\">Top 100</a></li>\\n</ul>\\n<hr>\\n<h4>TYPE</h4>\\n<ul id=\"university-type-filter\">\\n<li><a href=\"/universities/masters-in-computer-science-engineering/private?page=1\">Private</a></li>\\n<li><a href=\"/universities/masters-in-computer-science-engineering/public?page=1\">Public</a></li>\\n</ul>\\n<hr>\\n<h4>COUNTRY</h4>\\n<ul id=\"university-country-filter\">\\n<li><a href=\"/universities/masters-in-computer-science-engineering/study-in-germany?page=1\">Germany</a></li>\\n<li><a href=\"/universities/masters-in-computer-science-engineering/study-in-canada?page=1\">Canada</a></li>\\n<li><a href=\"/universities/masters-in-computer-science-engineering/study-in-australia?page=1\">Australia</a></li>\\n</ul>\\n<hr>\\n<h4>COURSES</h4>\\n<div style=\"height: 300px; overflow-y: auto;\">\\n<ul class=\"list-group\" id=\"university-cid-filter\">\\n<li class=\"list-group-item\"><a href=\"/universities/masters-in-computer-science-engineering?cid=2699\" title=\"Applied IT Security\">Applied IT Se...</a></li>\\n<li class=\"list-group-item\"><a href=\"/universities/masters-in-computer-science-engineering?cid=74\" title=\"CIS and Information Technology (MS)\">CIS and Infor...</a></li>\\n<li class=\"list-group-item\"><a href=\"/universities/masters-in-computer-science-engineering?cid=4345\" title=\"Cognitive Systems\">Cognitive Sys...</a></li>\\n<li class=\"list-group-item\"><a href=\"/universities/masters-in-computer-science-engineering?cid=83\" title=\"Computation and Neural Systems\">Computation a...</a></li>\\n<li class=\"list-group-item\"><a href=\"/universities/masters-in-computer-science-engineering?cid=84\" title=\"Computational and Engineering Mechanics\">Computational...</a></li>\\n<li class=\"list-group-item\"><a href=\"/universities/masters-in-computer-science-engineering?cid=85\" title=\"Computational and Mathematical Engineering\">Computational...</a></li>\\n<li class=\"list-group-item\"><a href=\"/universities/masters-in-computer-science-engineering?cid=86\" title=\"Computational Electrical &amp; Computer Engineering\">Computational...</a></li>\\n<li class=\"list-group-item\"><a href=\"/universities/masters-in-computer-science-engineering?cid=87\" title=\"Computational Engineering\">Computational...</a></li>\\n<li class=\"list-group-item\"><a href=\"/universities/masters-in-computer-science-engineering?cid=88\" title=\"Computational Linguistics\">Computational...</a></li>\\n<li class=\"list-group-item\"><a href=\"/universities/masters-in-computer-science-engineering?cid=89\" title=\"Computational Modeling &amp; Simulation\">Computational...</a></li>\\n<li class=\"list-group-item\"><a href=\"/universities/masters-in-computer-science-engineering?cid=90\" title=\"Computational Science &amp; Engineering\">Computational...</a></li>\\n<li class=\"list-group-item\"><a href=\"/universities/masters-in-computer-science-engineering?cid=91\" title=\"Computer &amp; Information Science\">Computer &amp; In...</a></li>\\n<li class=\"list-group-item\"><a href=\"/universities/masters-in-computer-science-engineering?cid=92\" title=\"Computer &amp; Systems Engineering\">Computer &amp; Sy...</a></li>\\n<li class=\"list-group-item\"><a href=\"/universities/masters-in-computer-science-engineering?cid=93\" title=\"Computer Aided Engineering\">Computer Aide...</a></li>\\n<li class=\"list-group-item\"><a href=\"/universities/masters-in-computer-science-engineering?cid=94\" title=\"Computer and Engineering Science (MS)\">Computer and ...</a></li>\\n<li class=\"list-group-item\"><a href=\"/universities/masters-in-computer-science-engineering?cid=95\" title=\"Computer and Information Systems Security\">Computer and ...</a></li>\\n<li class=\"list-group-item\"><a href=\"/universities/masters-in-computer-science-engineering?cid=97\" title=\"Computer Architecture and Embedded Processors\">Computer Arch...</a></li>\\n<li class=\"list-group-item\"><a href=\"/universities/masters-in-computer-science-engineering?cid=98\" title=\"Computer Criminology\">Computer Crim...</a></li>\\n<li class=\"list-group-item\"><a href=\"/universities/masters-in-computer-science-engineering?cid=24\" title=\"Computer Engineering\">Computer Engi...</a></li>\\n<li class=\"list-group-item\"><a href=\"/universities/masters-in-computer-science-engineering?cid=99\" title=\"Computer Forensics\">Computer Fore...</a></li>\\n<li class=\"list-group-item\"><a href=\"/universities/masters-in-computer-science-engineering?cid=100\" title=\"Computer Game Development\">Computer Game...</a></li>\\n<li class=\"list-group-item\"><a href=\"/universities/masters-in-computer-science-engineering?cid=101\" title=\"Computer Graphics and Animation\">Computer Grap...</a></li>\\n<li class=\"list-group-item\"><a href=\"/universities/masters-in-computer-science-engineering?cid=102\" title=\"Computer Graphics Technology\">Computer Grap...</a></li>\\n<li class=\"list-group-item\"><a href=\"/universities/masters-in-computer-science-engineering?cid=103\" title=\"Computer Information Systems\">Computer Info...</a></li>\\n<li class=\"list-group-item\"><a href=\"/universities/masters-in-computer-science-engineering?cid=5359\" title=\"Computer Information Technology\">Computer Info...</a></li>\\n<li class=\"list-group-item\"><a href=\"/universities/masters-in-computer-science-engineering?cid=104\" title=\"Computer Networking, MS\">Computer Netw...</a></li>\\n<li class=\"list-group-item\"><a href=\"/universities/masters-in-computer-science-engineering?cid=105\" title=\"Computer Networks\">Computer Netw...</a></li>\\n<li class=\"list-group-item\"><a href=\"/universities/masters-in-computer-science-engineering?cid=4\" title=\"Computer Science\">Computer Science</a></li>\\n<li class=\"list-group-item\"><a href=\"/universities/masters-in-computer-science-engineering?cid=106\" title=\"Computer Science &amp; Systems\">Computer Scie...</a></li>\\n<li class=\"list-group-item\"><a href=\"/universities/masters-in-computer-science-engineering?cid=2859\" title=\"Computer Science - Business Studies and Engineering\">Computer Scie...</a></li>\\n<li class=\"list-group-item\"><a href=\"/universities/masters-in-computer-science-engineering?cid=3024\" title=\"Computer Science and GIS\">Computer Scie...</a></li>\\n<li class=\"list-group-item\"><a href=\"/universities/masters-in-computer-science-engineering?cid=96\" title=\"Computer Science and Information Technology\">Computer Scie...</a></li>\\n<li class=\"list-group-item\"><a href=\"/universities/masters-in-computer-science-engineering?cid=3016\" title=\"Computer Science and Multimedia\">Computer Scie...</a></li>\\n<li class=\"list-group-item\"><a href=\"/universities/masters-in-computer-science-engineering?cid=107\" title=\"Computer Science and Software Engineering\">Computer Scie...</a></li>\\n<li class=\"list-group-item\"><a href=\"/universities/masters-in-computer-science-engineering?cid=5440\" title=\"Computer Security\">Computer Secu...</a></li>\\n<li class=\"list-group-item\"><a href=\"/universities/masters-in-computer-science-engineering?cid=3021\" title=\"Computer Simulation In Science\">Computer Simu...</a></li>\\n<li class=\"list-group-item\"><a href=\"/universities/masters-in-computer-science-engineering?cid=108\" title=\"Computer Systems and Networks Technology\">Computer Syst...</a></li>\\n<li class=\"list-group-item\"><a href=\"/universities/masters-in-computer-science-engineering?cid=3031\" title=\"Computer Systems In Engineering\">Computer Syst...</a></li>\\n<li class=\"list-group-item\"><a href=\"/universities/masters-in-computer-science-engineering?cid=109\" title=\"Computing\">Computing</a></li>\\n<li class=\"list-group-item\"><a href=\"/universities/masters-in-computer-science-engineering?cid=110\" title=\"Computing &amp; Business (MS CBUS)\">Computing &amp; B...</a></li>\\n<li class=\"list-group-item\"><a href=\"/universities/masters-in-computer-science-engineering?cid=111\" title=\"Computing &amp; Software System\">Computing &amp; S...</a></li>\\n<li class=\"list-group-item\"><a href=\"/universities/masters-in-computer-science-engineering?cid=112\" title=\"Computing and Information Sciences\">Computing and...</a></li>\\n<li class=\"list-group-item\"><a href=\"/universities/masters-in-computer-science-engineering?cid=5009\" title=\"Computing and Innovation\">Computing and...</a></li>\\n<li class=\"list-group-item\"><a href=\"/universities/masters-in-computer-science-engineering?cid=5036\" title=\"Computing and Networking\">Computing and...</a></li>\\n<li class=\"list-group-item\"><a href=\"/universities/masters-in-computer-science-engineering?cid=113\" title=\"Computing and Software Systems\">Computing and...</a></li>\\n<li class=\"list-group-item\"><a href=\"/universities/masters-in-computer-science-engineering?cid=114\" title=\"Computing Security\">Computing Sec...</a></li>\\n<li class=\"list-group-item\"><a href=\"/universities/masters-in-computer-science-engineering?cid=115\" title=\"Computing Studies\">Computing Stu...</a></li>\\n<li class=\"list-group-item\"><a href=\"/universities/masters-in-computer-science-engineering?cid=116\" title=\"Computing Technology (MCT)\">Computing Tec...</a></li>\\n<li class=\"list-group-item\"><a href=\"/universities/masters-in-computer-science-engineering?cid=5291\" title=\"Cyber and Information Security\">Cyber and Inf...</a></li>\\n<li class=\"list-group-item\"><a href=\"/universities/masters-in-computer-science-engineering?cid=124\" title=\"Cyber Forensics and Security\">Cyber Forensi...</a></li>\\n<li class=\"list-group-item\"><a href=\"/universities/masters-in-computer-science-engineering?cid=125\" title=\"Cyber Security\">Cyber Security</a></li>\\n<li class=\"list-group-item\"><a href=\"/universities/masters-in-computer-science-engineering?cid=126\" title=\"Cyber Systems\">Cyber Systems</a></li>\\n<li class=\"list-group-item\"><a href=\"/universities/masters-in-computer-science-engineering?cid=2503\" title=\"Cybersecurity\">Cybersecurity</a></li>\\n<li class=\"list-group-item\"><a href=\"/universities/masters-in-computer-science-engineering?cid=5266\" title=\"Database Administration (Computer Science)\">Database Admi...</a></li>\\n<li class=\"list-group-item\"><a href=\"/universities/masters-in-computer-science-engineering?cid=3025\" title=\"Decision Procedures (Computer Science)\">Decision Proc...</a></li>\\n<li class=\"list-group-item\"><a href=\"/universities/masters-in-computer-science-engineering?cid=2753\" title=\"Dependable Software Systems\">Dependable So...</a></li>\\n<li class=\"list-group-item\"><a href=\"/universities/masters-in-computer-science-engineering?cid=4365\" title=\"Distributed Software Systems\">Distributed S...</a></li>\\n<li class=\"list-group-item\"><a href=\"/universities/masters-in-computer-science-engineering?cid=138\" title=\"E-Commerce Technology\">E-Commerce Te...</a></li>\\n<li class=\"list-group-item\"><a href=\"/universities/masters-in-computer-science-engineering?cid=4420\" title=\"E-Government\">E-Government</a></li>\\n<li class=\"list-group-item\"><a href=\"/universities/masters-in-computer-science-engineering?cid=2569\" title=\"Economic Computer Science\">Economic Comp...</a></li>\\n<li class=\"list-group-item\"><a href=\"/universities/masters-in-computer-science-engineering?cid=3714\" title=\"Electro-Technology and Information Technology\">Electro-Techn...</a></li>\\n<li class=\"list-group-item\"><a href=\"/universities/masters-in-computer-science-engineering?cid=147\" title=\"Embedded Software Engineering\">Embedded Soft...</a></li>\\n<li class=\"list-group-item\"><a href=\"/universities/masters-in-computer-science-engineering?cid=4647\" title=\"Engineering - Software with Business\">Engineering -...</a></li>\\n<li class=\"list-group-item\"><a href=\"/universities/masters-in-computer-science-engineering?cid=3347\" title=\"Engineering Cybernetics\">Engineering C...</a></li>\\n<li class=\"list-group-item\"><a href=\"/universities/masters-in-computer-science-engineering?cid=154\" title=\"Engineering Technology\">Engineering T...</a></li>\\n<li class=\"list-group-item\"><a href=\"/universities/masters-in-computer-science-engineering?cid=156\" title=\"Enterprise &amp; Cloud Computing\">Enterprise &amp; ...</a></li>\\n<li class=\"list-group-item\"><a href=\"/universities/masters-in-computer-science-engineering?cid=158\" title=\"Entertainment Arts and Engineering Master Games Studio (EAE:MGS)\">Entertainment...</a></li>\\n<li class=\"list-group-item\"><a href=\"/universities/masters-in-computer-science-engineering?cid=5158\" title=\"Entertainment Technology\">Entertainment...</a></li>\\n<li class=\"list-group-item\"><a href=\"/universities/masters-in-computer-science-engineering?cid=3014\" title=\"Environmental Computer Science\">Environmental...</a></li>\\n<li class=\"list-group-item\"><a href=\"/universities/masters-in-computer-science-engineering?cid=2256\" title=\"Game Design and Development\">Game Design a...</a></li>\\n<li class=\"list-group-item\"><a href=\"/universities/masters-in-computer-science-engineering?cid=3356\" title=\"Games Engineering\">Games Enginee...</a></li>\\n<li class=\"list-group-item\"><a href=\"/universities/masters-in-computer-science-engineering?cid=187\" title=\"Human Computer Interaction\">Human Compute...</a></li>\\n<li class=\"list-group-item\"><a href=\"/universities/masters-in-computer-science-engineering?cid=189\" title=\"Human Systems Integration\">Human Systems...</a></li>\\n<li class=\"list-group-item\"><a href=\"/universities/masters-in-computer-science-engineering?cid=3675\" title=\"Human Systems Intervention\">Human Systems...</a></li>\\n<li class=\"list-group-item\"><a href=\"/universities/masters-in-computer-science-engineering?cid=191\" title=\"Image Processing\">Image Processing</a></li>\\n<li class=\"list-group-item\"><a href=\"/universities/masters-in-computer-science-engineering?cid=5151\" title=\"Information Sciences and Technologies\">Information S...</a></li>\\n<li class=\"list-group-item\"><a href=\"/universities/masters-in-computer-science-engineering?cid=3708\" title=\"Information Technology Security\">Information T...</a></li>\\n<li class=\"list-group-item\"><a href=\"/universities/masters-in-computer-science-engineering?cid=207\" title=\"Information, Network, and Computer Security\">Information, ...</a></li>\\n<li class=\"list-group-item\"><a href=\"/universities/masters-in-computer-science-engineering?cid=211\" title=\"Instructional Systems Development\">Instructional...</a></li>\\n<li class=\"list-group-item\"><a href=\"/universities/masters-in-computer-science-engineering?cid=212\" title=\"Instructional Technology and Learning Science\">Instructional...</a></li>\\n<li class=\"list-group-item\"><a href=\"/universities/masters-in-computer-science-engineering?cid=218\" title=\"Intelligence Systems, Robotics and Control\">Intelligence ...</a></li>\\n<li class=\"list-group-item\"><a href=\"/universities/masters-in-computer-science-engineering?cid=3727\" title=\"Intelligent Adaptive Systems\">Intelligent A...</a></li>\\n<li class=\"list-group-item\"><a href=\"/universities/masters-in-computer-science-engineering?cid=5037\" title=\"Interactive Technologies and Games Design\">Interactive T...</a></li>\\n<li class=\"list-group-item\"><a href=\"/universities/masters-in-computer-science-engineering?cid=3747\" title=\"International Software Systems Science\">International...</a></li>\\n<li class=\"list-group-item\"><a href=\"/universities/masters-in-computer-science-engineering?cid=3769\" title=\"Internet and Web-Based Systems\">Internet and ...</a></li>\\n<li class=\"list-group-item\"><a href=\"/universities/masters-in-computer-science-engineering?cid=5039\" title=\"Internet Communication\">Internet Comm...</a></li>\\n<li class=\"list-group-item\"><a href=\"/universities/masters-in-computer-science-engineering?cid=220\" title=\"Internet Engineering\">Internet Engi...</a></li>\\n<li class=\"list-group-item\"><a href=\"/universities/masters-in-computer-science-engineering?cid=5411\" title=\"Internet/Web Design\">Internet/Web ...</a></li>\\n<li class=\"list-group-item\"><a href=\"/universities/masters-in-computer-science-engineering?cid=3768\" title=\"Internetworking\">Internetworking</a></li>\\n<li class=\"list-group-item\"><a href=\"/universities/masters-in-computer-science-engineering?cid=4992\" title=\"Internetworking and Cyber Security\">Internetworki...</a></li>\\n<li class=\"list-group-item\"><a href=\"/universities/masters-in-computer-science-engineering?cid=3363\" title=\"IT Systems Engineering\">IT Systems En...</a></li>\\n<li class=\"list-group-item\"><a href=\"/universities/masters-in-computer-science-engineering?cid=5265\" title=\"Java Programming (IT)\">Java Programm...</a></li>\\n<li class=\"list-group-item\"><a href=\"/universities/masters-in-computer-science-engineering?cid=188\" title=\"Language Technology\">Language Tech...</a></li>\\n<li class=\"list-group-item\"><a href=\"/universities/masters-in-computer-science-engineering?cid=3825\" title=\"Linguistics and Web Technology\">Linguistics a...</a></li>\\n<li class=\"list-group-item\"><a href=\"/universities/masters-in-computer-science-engineering?cid=229\" title=\"Machine Learning\">Machine Learning</a></li>\\n<li class=\"list-group-item\"><a href=\"/universities/masters-in-computer-science-engineering?cid=243\" title=\"Media Arts &amp; Computer Science\">Media Arts &amp; ...</a></li>\\n<li class=\"list-group-item\"><a href=\"/universities/masters-in-computer-science-engineering?cid=3017\" title=\"Media Computer Science and Media Design\">Media Compute...</a></li>\\n<li class=\"list-group-item\"><a href=\"/universities/masters-in-computer-science-engineering?cid=3018\" title=\"Media Computer Science and Media Economics\">Media Compute...</a></li>\\n<li class=\"list-group-item\"><a href=\"/universities/masters-in-computer-science-engineering?cid=244\" title=\"Media, Technology, and Entertainment\">Media, Techno...</a></li>\\n<li class=\"list-group-item\"><a href=\"/universities/masters-in-computer-science-engineering?cid=3015\" title=\"Medical Computer Science\">Medical Compu...</a></li>\\n<li class=\"list-group-item\"><a href=\"/universities/masters-in-computer-science-engineering?cid=3344\" title=\"Microsystems Engineering\">Microsystems ...</a></li>\\n<li class=\"list-group-item\"><a href=\"/universities/masters-in-computer-science-engineering?cid=257\" title=\"Mobile Application Development\">Mobile Applic...</a></li>\\n<li class=\"list-group-item\"><a href=\"/universities/masters-in-computer-science-engineering?cid=4491\" title=\"Network and Security Management\">Network and S...</a></li>\\n<li class=\"list-group-item\"><a href=\"/universities/masters-in-computer-science-engineering?cid=3709\" title=\"Neural Information Processing\">Neural Inform...</a></li>\\n<li class=\"list-group-item\"><a href=\"/universities/masters-in-computer-science-engineering?cid=3358\" title=\"Neuroengineering\">Neuroengineering</a></li>\\n<li class=\"list-group-item\"><a href=\"/universities/masters-in-computer-science-engineering?cid=262\" title=\"Neuroimaging and Informatics\">Neuroimaging ...</a></li>\\n<li class=\"list-group-item\"><a href=\"/universities/masters-in-computer-science-engineering?cid=3020\" title=\"Practical Computer Science\">Practical Com...</a></li>\\n<li class=\"list-group-item\"><a href=\"/universities/masters-in-computer-science-engineering?cid=5034\" title=\"Professional Computing\">Professional ...</a></li>\\n<li class=\"list-group-item\"><a href=\"/universities/masters-in-computer-science-engineering?cid=230\" title=\"Robotics\">Robotics</a></li>\\n<li class=\"list-group-item\"><a href=\"/universities/masters-in-computer-science-engineering?cid=3725\" title=\"Robotics, Cognition, Intelligence\">Robotics, Cog...</a></li>\\n<li class=\"list-group-item\"><a href=\"/universities/masters-in-computer-science-engineering?cid=3707\" title=\"Science and Information Technology\">Science and I...</a></li>\\n<li class=\"list-group-item\"><a href=\"/universities/masters-in-computer-science-engineering?cid=232\" title=\"Scientific Computing\">Scientific Co...</a></li>\\n<li class=\"list-group-item\"><a href=\"/universities/masters-in-computer-science-engineering?cid=305\" title=\"Service-Oriented Computing\">Service-Orien...</a></li>\\n<li class=\"list-group-item\"><a href=\"/universities/masters-in-computer-science-engineering?cid=4344\" title=\"Simulation Technology\">Simulation Te...</a></li>\\n<li class=\"list-group-item\"><a href=\"/universities/masters-in-computer-science-engineering?cid=3330\" title=\"Software and Information Technology Engineering\">Software and ...</a></li>\\n<li class=\"list-group-item\"><a href=\"/universities/masters-in-computer-science-engineering?cid=5035\" title=\"Software and Services\">Software and ...</a></li>\\n<li class=\"list-group-item\"><a href=\"/universities/masters-in-computer-science-engineering?cid=3026\" title=\"Software Architecture (Computer Science)\">Software Arch...</a></li>\\n<li class=\"list-group-item\"><a href=\"/universities/masters-in-computer-science-engineering?cid=5313\" title=\"Software Development\">Software Deve...</a></li>\\n<li class=\"list-group-item\"><a href=\"/universities/masters-in-computer-science-engineering?cid=23\" title=\"Software Engineering\">Software Engi...</a></li>\\n<li class=\"list-group-item\"><a href=\"/universities/masters-in-computer-science-engineering?cid=3343\" title=\"Software Systems Engineering\">Software Syst...</a></li>\\n<li class=\"list-group-item\"><a href=\"/universities/masters-in-computer-science-engineering?cid=4492\" title=\"Systems Development\">Systems Devel...</a></li>\\n<li class=\"list-group-item\"><a href=\"/universities/masters-in-computer-science-engineering?cid=2306\" title=\"Web Design and Development\">Web Design an...</a></li>\\n<li class=\"list-group-item\"><a href=\"/universities/masters-in-computer-science-engineering?cid=3401\" title=\"Web Engineering\">Web Engineering</a></li>\\n</ul>\\n</div>\\n<hr>\\n<h4>COURSE AREAS</h4>\\n<div style=\"height: 300px; overflow-y: auto;\">\\n<ul class=\"list-group\" id=\"university-course-filter\">\\n<li class=\"list-group-item\"><a href=\"/universities/masters-in-aerospace-and-aeronautical-engineering?page=1\" title=\"Aerospace / Aeronautical\">Aerospace / A...</a></li>\\n<li class=\"list-group-item\"><a href=\"/universities/masters-in-analytics?page=1\" title=\"Analytics\">Analytics</a></li>\\n<li class=\"list-group-item\"><a href=\"/universities/masters-in-architecture?page=1\" title=\"Architecture\">Architecture</a></li>\\n<li class=\"list-group-item\"><a href=\"/universities/masters-in-arts-and-media?page=1\" title=\"Arts / Media\">Arts / Media</a></li>\\n<li class=\"list-group-item\"><a href=\"/universities/masters-in-agricultural-engineering?page=1\" title=\"Biological / Agricultural\">Biological / ...</a></li>\\n<li class=\"list-group-item\"><a href=\"/universities/masters-in-biomedical-engineering?page=1\" title=\"Biomedical / Biotechnical\">Biomedical / ...</a></li>\\n<li class=\"list-group-item\"><a href=\"/universities/masters-in-chemical-engineering?page=1\" title=\"Chemical / Petroleum\">Chemical / Pe...</a></li>\\n<li class=\"list-group-item\"><a href=\"/universities/masters-in-civil-and-structural-engineering?page=1\" title=\"Civil / Construction / Structural\">Civil / Const...</a></li>\\n<li class=\"list-group-item\"><a href=\"/universities/masters-in-commerce-finance-actuarial?page=1\" title=\"Commerce / Finance / Actuarial\">Commerce / Fi...</a></li>\\n<li class=\"list-group-item\"><a href=\"/universities/masters-in-dental?page=1\" title=\"Dental\">Dental</a></li>\\n<li class=\"list-group-item\"><a href=\"/universities/masters-in-education-languages-and-counselling?page=1\" title=\"Education / Languages / Counselling\">Education / L...</a></li>\\n<li class=\"list-group-item\"><a href=\"/universities/masters-in-electrical-electronics-telecomm?page=1\" title=\"Electrical / Electronics / Telecomm\">Electrical / ...</a></li>\\n<li class=\"list-group-item\"><a href=\"/universities/masters-in-engineering-management?page=1\" title=\"Engineering Management (MEM)\">Engineering M...</a></li>\\n<li class=\"list-group-item\"><a href=\"/universities/masters-in-environmental-engineering?page=1\" title=\"Environmental / Mining\">Environmental...</a></li>\\n<li class=\"list-group-item\"><a href=\"/universities/masters-in-finance?page=1\" title=\"Finance\">Finance</a></li>\\n<li class=\"list-group-item\"><a href=\"/universities/masters-in-financial-engineering?page=1\" title=\"Financial Engineering\">Financial Eng...</a></li>\\n<li class=\"list-group-item\"><a href=\"/universities/masters-in-general-law?page=1\" title=\"General Law\">General Law</a></li>\\n<li class=\"list-group-item\"><a href=\"/universities/masters-in-administrative-studies?page=1\" title=\"Government / Administrative\">Government / ...</a></li>\\n<li class=\"list-group-item\"><a href=\"/universities/masters-in-healthcare?page=1\" title=\"Healthcare\">Healthcare</a></li>\\n<li class=\"list-group-item\"><a href=\"/universities/masters-in-human resources?page=1\" title=\"Human Resources\">Human Resources</a></li>\\n<li class=\"list-group-item\"><a href=\"/universities/masters-in-humanities-journalism?page=1\" title=\"Humanities / Journalism\">Humanities / ...</a></li>\\n<li class=\"list-group-item\"><a href=\"/universities/masters-in-industrial-and-operations-engineering?page=1\" title=\"Industrial / Operations\">Industrial / ...</a></li>\\n<li class=\"list-group-item\"><a href=\"/universities/masters-in-international-law?page=1\" title=\"International Law\">International...</a></li>\\n<li class=\"list-group-item\"><a href=\"/universities/masters-in-international-management?page=1\" title=\"International Management\">International...</a></li>\\n<li class=\"list-group-item\"><a href=\"/universities/masters-in-management?page=1\" title=\"Management\">Management</a></li>\\n<li class=\"list-group-item\"><a href=\"/universities/masters-in-management-information-system?page=1\" title=\"Management Information System (MIS)\">Management In...</a></li>\\n<li class=\"list-group-item\"><a href=\"/universities/masters-in-marketing?page=1\" title=\"Marketing\">Marketing</a></li>\\n<li class=\"list-group-item\"><a href=\"/universities/masters-in-material-science-and-engineering?page=1\" title=\"Material Science and Engineering\">Material Scie...</a></li>\\n<li class=\"list-group-item\"><a href=\"/universities/masters-in-mechanical-and-automobile-engineering?page=1\" title=\"Mechanical / Automobile\">Mechanical / ...</a></li>\\n<li class=\"list-group-item\"><a href=\"/universities/masters-in-nano-nuclear-power-engineering?page=1\" title=\"Nano / Nuclear / Power\">Nano / Nuclea...</a></li>\\n<li class=\"list-group-item\"><a href=\"/universities/masters-in-nursing?page=1\" title=\"Nursing\">Nursing</a></li>\\n<li class=\"list-group-item\"><a href=\"/universities/masters-in-pharmacy?page=1\" title=\"Pharmacy\">Pharmacy</a></li>\\n<li class=\"list-group-item\"><a href=\"/universities/masters-in-pure-sciences?page=1\" title=\"Pure Sciences\">Pure Sciences</a></li>\\n<li class=\"list-group-item\"><a href=\"/universities/masters-in-veterinary-science?page=1\" title=\"Veterinary Science\">Veterinary Sc...</a></li>\\n</ul>\\n</div>\\n<hr>\\n</div>\\n \\n<div class=\"col-sm-9\" id=\"university_list\">\\n<p><em>Showing 374 universities (Page 1 of 13)</em></p>\\n<div class=\"col-sm-2 hidden-xs\">\\n<div class=\"img-thumbnail\">\\n<img src=\"https://static.yocket.in/images/universities/logos/asu_logo.jpg\" alt=\"arizona-state-university-logo\" class=\"img-responsive\"/> </div>\\n</div>\\n<div class=\"col-sm-10\">\\n<div class=\"col-sm-9\">\\n<h4>\\n<a href=\"/universities/reviews/782/arizona-state-university/engineering\">Arizona State University (ASU)</a> <br>\\n<small>Arizona, United States</small>\\n</h4>\\n</div>\\n<div class=\"col-sm-3\">\\n<h4><span class=\"label label-warning \">Top 50</span></h4> </div>\\n<div class=\"clearfix\"></div>\\n<div class=\"col-sm-12\">\\n<p>\\n<small>\\nPublic University<br> $23,000 annual tuition fee<br> 47.5% acceptance rate<br> </small>\\n</p>\\n</div>\\n</div>\\n<div class=\"clearfix\"></div>\\n<hr>\\n<div class=\"col-sm-2 hidden-xs\">\\n<div class=\"img-thumbnail\">\\n<img src=\"https://static.yocket.in/images/universities/logos/northeastern_university_logo.jpg\" alt=\"northeastern-university-logo\" class=\"img-responsive\"/> </div>\\n</div>\\n<div class=\"col-sm-10\">\\n<div class=\"col-sm-9\">\\n<h4>\\n<a href=\"/universities/reviews/736/northeastern-university/engineering\">Northeastern University (NEU)</a> <br>\\n<small>Massachusetts, United States</small>\\n</h4>\\n</div>\\n<div class=\"col-sm-3\">\\n<h4><span class=\"label label-warning \">Top 50</span></h4> </div>\\n<div class=\"clearfix\"></div>\\n<div class=\"col-sm-12\">\\n<p>\\n<small>\\nPrivate University<br> $22,000 annual tuition fee<br> 35.6% acceptance rate<br> </small>\\n</p>\\n</div>\\n</div>\\n<div class=\"clearfix\"></div>\\n<hr>\\n<div class=\"col-sm-2 hidden-xs\">\\n<div class=\"img-thumbnail\">\\n<img src=\"https://static.yocket.in/images/universities/logos/tamu_logo.jpg\" alt=\"texas-a-and-m-university-college-station-logo\" class=\"img-responsive\"/> </div>\\n</div>\\n<div class=\"col-sm-10\">\\n<div class=\"col-sm-9\">\\n<h4>\\n<a href=\"/universities/reviews/706/texas-a-and-m-university-college-station/engineering\">Texas A&amp;M University, College Station (TAMU)</a> <br>\\n<small>Texas, United States</small>\\n</h4>\\n</div>\\n<div class=\"col-sm-3\">\\n<h4><span class=\"label label-warning \">Top 20</span></h4> </div>\\n<div class=\"clearfix\"></div>\\n<div class=\"col-sm-12\">\\n<p>\\n<small>\\nPublic University<br> $12,000 annual tuition fee<br> 24.3% acceptance rate<br> </small>\\n</p>\\n</div>\\n</div>\\n<div class=\"clearfix\"></div>\\n<hr>\\n<div class=\"col-sm-2 hidden-xs\">\\n<div class=\"img-thumbnail\">\\n<img src=\"https://static.yocket.in/images/universities/logos/southern_california_university_logo.jpg\" alt=\"university-of-southern-california-logo\" class=\"img-responsive\"/> </div>\\n</div>\\n<div class=\"col-sm-10\">\\n<div class=\"col-sm-9\">\\n<h4>\\n<a href=\"/universities/reviews/745/university-of-southern-california/engineering\">University of Southern California (USC Viterbi)</a> <br>\\n<small>California, United States</small>\\n</h4>\\n</div>\\n<div class=\"col-sm-3\">\\n<h4><span class=\"label label-warning \">Top 10</span></h4> </div>\\n<div class=\"clearfix\"></div>\\n<div class=\"col-sm-12\">\\n<p>\\n<small>\\nPrivate University<br> $33,000 annual tuition fee<br> 23.4% acceptance rate<br> </small>\\n</p>\\n</div>\\n</div>\\n<div class=\"clearfix\"></div>\\n<hr>\\n<div class=\"col-sm-2 hidden-xs\">\\n<div class=\"img-thumbnail\">\\n<img src=\"https://static.yocket.in/images/universities/logos/utd_logo.jpg\" alt=\"university-of-texas-dallas-logo\" class=\"img-responsive\"/> </div>\\n</div>\\n<div class=\"col-sm-10\">\\n<div class=\"col-sm-9\">\\n<h4>\\n<a href=\"/universities/reviews/752/university-of-texas-dallas/engineering\">University of Texas - Dallas (UTD)</a> <br>\\n<small>Texas, United States</small>\\n</h4>\\n</div>\\n<div class=\"col-sm-3\">\\n<h4><span class=\"label label-warning \">Top 100</span></h4> </div>\\n<div class=\"clearfix\"></div>\\n<div class=\"col-sm-12\">\\n<p>\\n<small>\\nPublic University<br> $22,000 annual tuition fee<br> 38.7% acceptance rate<br> </small>\\n</p>\\n</div>\\n</div>\\n<div class=\"clearfix\"></div>\\n<hr>\\n<div class=\"col-sm-2 hidden-xs\">\\n<div class=\"img-thumbnail\">\\n<img src=\"https://static.yocket.in/images/universities/logos/ncsu_logo.jpg\" alt=\"north-carolina-state-university-raleigh-logo\" class=\"img-responsive\"/> </div>\\n</div>\\n<div class=\"col-sm-10\">\\n<div class=\"col-sm-9\">\\n<h4>\\n<a href=\"/universities/reviews/729/north-carolina-state-university-raleigh/engineering\">North Carolina State University, Raleigh (NCSU)</a> <br>\\n<small>North Carolina, United States</small>\\n</h4>\\n</div>\\n<div class=\"col-sm-3\">\\n<h4><span class=\"label label-warning \">Top 30</span></h4> </div>\\n<div class=\"clearfix\"></div>\\n<div class=\"col-sm-12\">\\n<p>\\n<small>\\nPublic University<br> $24,000 annual tuition fee<br> 17.1% acceptance rate<br> </small>\\n</p>\\n</div>\\n</div>\\n<div class=\"clearfix\"></div>\\n<hr>\\n<div class=\"col-sm-2 hidden-xs\">\\n<div class=\"img-thumbnail\">\\n<img src=\"https://static.yocket.in/images/universities/logos/suny-buffalo-logo.jpg\" alt=\"state-university-of-new-york-at-buffalo-logo\" class=\"img-responsive\"/> </div>\\n</div>\\n<div class=\"col-sm-10\">\\n<div class=\"col-sm-9\">\\n<h4>\\n<a href=\"/universities/reviews/734/state-university-of-new-york-at-buffalo/engineering\">State University of New York at Buffalo (SUNY Buffalo)</a> <br>\\n<small>New York, United States</small>\\n</h4>\\n</div>\\n<div class=\"col-sm-3\">\\n<h4><span class=\"label label-warning \">Top 100</span></h4> </div>\\n<div class=\"clearfix\"></div>\\n<div class=\"col-sm-12\">\\n<p>\\n<small>\\nPublic University<br> $23,000 annual tuition fee<br> 24% acceptance rate<br> </small>\\n</p>\\n</div>\\n</div>\\n<div class=\"clearfix\"></div>\\n<hr>\\n<div class=\"col-sm-2 hidden-xs\">\\n<div class=\"img-thumbnail\">\\n<img src=\"https://static.yocket.in/images/universities/logos/texas_arlington_logo.jpg\" alt=\"university-of-texas-arlington-logo\" class=\"img-responsive\"/> </div>\\n</div>\\n<div class=\"col-sm-10\">\\n<div class=\"col-sm-9\">\\n<h4>\\n<a href=\"/universities/reviews/824/university-of-texas-arlington/engineering\">University of Texas - Arlington (UT Arlingt)</a> <br>\\n<small>Texas, United States</small>\\n</h4>\\n</div>\\n<div class=\"col-sm-3\">\\n<h4><span class=\"label label-warning \">Top 100</span></h4> </div>\\n<div class=\"clearfix\"></div>\\n<div class=\"col-sm-12\">\\n<p>\\n<small>\\nPublic University<br> $15,000 annual tuition fee<br> 55.1% acceptance rate<br> </small>\\n</p>\\n</div>\\n</div>\\n<div class=\"clearfix\"></div>\\n<hr>\\n<div class=\"col-sm-2 hidden-xs\">\\n<div class=\"img-thumbnail\">\\n<img src=\"https://static.yocket.in/images/universities/logos/illinois_chicago_logo.jpg\" alt=\"university-of-illinois-at-chicago-logo\" class=\"img-responsive\"/> </div>\\n</div>\\n<div class=\"col-sm-10\">\\n<div class=\"col-sm-9\">\\n<h4>\\n<a href=\"/universities/reviews/810/university-of-illinois-at-chicago/engineering\">University of Illinois at Chicago (UIC)</a> <br>\\n<small>Illinois, United States</small>\\n</h4>\\n</div>\\n<div class=\"col-sm-3\">\\n<h4><span class=\"label label-warning \">Top 100</span></h4> </div>\\n<div class=\"clearfix\"></div>\\n<div class=\"col-sm-12\">\\n<p>\\n<small>\\nPublic University<br> $28,000 annual tuition fee<br> 20.5% acceptance rate<br> </small>\\n</p>\\n</div>\\n</div>\\n<div class=\"clearfix\"></div>\\n<hr>\\n<div class=\"col-sm-2 hidden-xs\">\\n<div class=\"img-thumbnail\">\\n<img src=\"https://static.yocket.in/images/universities/logos/georgia_tech_logo.jpg\" alt=\"georgia-institute-of-technology-logo\" class=\"img-responsive\"/> </div>\\n</div>\\n<div class=\"col-sm-10\">\\n<div class=\"col-sm-9\">\\n<h4>\\n<a href=\"/universities/reviews/703/georgia-institute-of-technology/engineering\">Georgia Institute of Technology (GaTech)</a> <br>\\n<small>Georgia, United States</small>\\n</h4>\\n</div>\\n<div class=\"col-sm-3\">\\n<h4><span class=\"label label-warning \">Top 10</span></h4> </div>\\n<div class=\"clearfix\"></div>\\n<div class=\"col-sm-12\">\\n<p>\\n<small>\\nPublic University<br> $28,000 annual tuition fee<br> 31.1% acceptance rate<br> </small>\\n</p>\\n</div>\\n</div>\\n<div class=\"clearfix\"></div>\\n<hr>\\n<div class=\"col-sm-2 hidden-xs\">\\n<div class=\"img-thumbnail\">\\n<img src=\"https://static.yocket.in/images/universities/logos/illinois_tech_logo.jpg\" alt=\"illinois-institute-of-technology-logo\" class=\"img-responsive\"/> </div>\\n</div>\\n<div class=\"col-sm-10\">\\n<div class=\"col-sm-9\">\\n<h4>\\n<a href=\"/universities/reviews/1043/illinois-institute-of-technology/engineering\">Illinois Institute of Technology (IIT Chicago)</a> <br>\\n<small>Illinois, United States</small>\\n</h4>\\n</div>\\n<div class=\"col-sm-3\">\\n<h4><span class=\"label label-warning \">Top 100</span></h4> </div>\\n<div class=\"clearfix\"></div>\\n<div class=\"col-sm-12\">\\n<p>\\n<small>\\nPrivate University<br> $20,000 annual tuition fee<br> 46.8% acceptance rate<br> </small>\\n</p>\\n</div>\\n</div>\\n<div class=\"clearfix\"></div>\\n<hr>\\n<div class=\"col-sm-2 hidden-xs\">\\n<div class=\"img-thumbnail\">\\n<img src=\"https://static.yocket.in/images/universities/logos/uta_logo.jpg\" alt=\"university-of-texas-austin-logo\" class=\"img-responsive\"/> </div>\\n</div>\\n<div class=\"col-sm-10\">\\n<div class=\"col-sm-9\">\\n<h4>\\n<a href=\"/universities/reviews/713/university-of-texas-austin/engineering\">University of Texas - Austin (UT Austin)</a> <br>\\n<small>Texas, United States</small>\\n</h4>\\n</div>\\n<div class=\"col-sm-3\">\\n<h4><span class=\"label label-warning \">Top 10</span></h4> </div>\\n<div class=\"clearfix\"></div>\\n<div class=\"col-sm-12\">\\n<p>\\n<small>\\nPublic University<br> $13,000 annual tuition fee<br> 16.9% acceptance rate<br> </small>\\n</p>\\n</div>\\n</div>\\n<div class=\"clearfix\"></div>\\n<hr>\\n<div class=\"col-sm-2 hidden-xs\">\\n<div class=\"img-thumbnail\">\\n<img src=\"https://static.yocket.in/images/universities/logos/uncc_logo.jpg\" alt=\"university-of-north-carolina-at-charlotte-logo\" class=\"img-responsive\"/> </div>\\n</div>\\n<div class=\"col-sm-10\">\\n<div class=\"col-sm-9\">\\n<h4>\\n<a href=\"/universities/reviews/860/university-of-north-carolina-at-charlotte/engineering\">University of North Carolina at Charlotte (UNCC)</a> <br>\\n<small>North Carolina, United States</small>\\n</h4>\\n</div>\\n<div class=\"col-sm-3\">\\n<h4><span class=\"label label-warning \">Top 200</span></h4> </div>\\n<div class=\"clearfix\"></div>\\n<div class=\"col-sm-12\">\\n<p>\\n<small>\\nPublic University<br> $19,000 annual tuition fee<br> 44.9% acceptance rate<br> </small>\\n</p>\\n</div>\\n</div>\\n<div class=\"clearfix\"></div>\\n<hr>\\n<div class=\"col-sm-2 hidden-xs\">\\n<div class=\"img-thumbnail\">\\n<img src=\"https://static.yocket.in/images/universities/logos/university_of_florida_logo.jpg\" alt=\"university-of-florida-logo\" class=\"img-responsive\"/> </div>\\n</div>\\n<div class=\"col-sm-10\">\\n<div class=\"col-sm-9\">\\n<h4>\\n<a href=\"/universities/reviews/710/university-of-florida/engineering\">University of Florida (UFL)</a> <br>\\n<small>Florida, United States</small>\\n</h4>\\n</div>\\n<div class=\"col-sm-3\">\\n<h4><span class=\"label label-warning \">Top 50</span></h4> </div>\\n<div class=\"clearfix\"></div>\\n<div class=\"col-sm-12\">\\n<p>\\n<small>\\nPublic University<br> $30,000 annual tuition fee<br> 36.6% acceptance rate<br> </small>\\n</p>\\n</div>\\n</div>\\n<div class=\"clearfix\"></div>\\n<hr>\\n<div class=\"col-sm-2 hidden-xs\">\\n<div class=\"img-thumbnail\">\\n<img src=\"https://static.yocket.in/images/universities/logos/cmu_logo.jpg\" alt=\"carnegie-mellon-university-logo\" class=\"img-responsive\"/> </div>\\n</div>\\n<div class=\"col-sm-10\">\\n<div class=\"col-sm-9\">\\n<h4>\\n<a href=\"/universities/reviews/702/carnegie-mellon-university/engineering\">Carnegie Mellon University (CMU)</a> <br>\\n<small>Pennsylvania, United States</small>\\n</h4>\\n</div>\\n<div class=\"col-sm-3\">\\n<h4><span class=\"label label-warning \">Top 10</span></h4> </div>\\n<div class=\"clearfix\"></div>\\n<div class=\"col-sm-12\">\\n<p>\\n<small>\\nPrivate University<br> $42,000 annual tuition fee<br> 26.9% acceptance rate<br> </small>\\n</p>\\n</div>\\n</div>\\n<div class=\"clearfix\"></div>\\n<hr>\\n<div class=\"col-sm-2 hidden-xs\">\\n<div class=\"img-thumbnail\">\\n<img src=\"https://static.yocket.in/images/universities/logos/nyu_logo.jpg\" alt=\"new-york-university-logo\" class=\"img-responsive\"/> </div>\\n</div>\\n<div class=\"col-sm-10\">\\n<div class=\"col-sm-9\">\\n<h4>\\n<a href=\"/universities/reviews/2587/new-york-university/engineering\">New York University (NYU)</a> <br>\\n<small>New York, United States</small>\\n</h4>\\n</div>\\n<div class=\"col-sm-3\">\\n<h4><span class=\"label label-warning \">Top 50</span></h4> </div>\\n<div class=\"clearfix\"></div>\\n<div class=\"col-sm-12\">\\n<p>\\n<small>\\nPrivate University<br> $25,000 annual tuition fee<br> 37.7% acceptance rate<br> </small>\\n</p>\\n</div>\\n</div>\\n<div class=\"clearfix\"></div>\\n<hr>\\n<div class=\"col-sm-2 hidden-xs\">\\n<div class=\"img-thumbnail\">\\n<img src=\"https://static.yocket.in/images/universities/logos/sjsu_logo.jpg\" alt=\"san-jose-state-university-logo\" class=\"img-responsive\"/> </div>\\n</div>\\n<div class=\"col-sm-10\">\\n<div class=\"col-sm-9\">\\n<h4>\\n<a href=\"/universities/reviews/2777/san-jose-state-university/engineering\">San Jose State University (SJSU)</a> <br>\\n<small>California, United States</small>\\n</h4>\\n</div>\\n<div class=\"col-sm-3\">\\n</div>\\n<div class=\"clearfix\"></div>\\n<div class=\"col-sm-12\">\\n<p>\\n<small>\\nPublic University<br> $11,000 annual tuition fee<br> </small>\\n</p>\\n</div>\\n</div>\\n<div class=\"clearfix\"></div>\\n<hr>\\n<div class=\"col-sm-2 hidden-xs\">\\n<div class=\"img-thumbnail\">\\n<img src=\"https://static.yocket.in/images/universities/logos/pennstate_university_logo.jpg\" alt=\"pennsylvania-state-university-logo\" class=\"img-responsive\"/> </div>\\n</div>\\n<div class=\"col-sm-10\">\\n<div class=\"col-sm-9\">\\n<h4>\\n<a href=\"/universities/reviews/808/pennsylvania-state-university/engineering\">Pennsylvania State University (Penn State)</a> <br>\\n<small>Pennsylvania, United States</small>\\n</h4>\\n</div>\\n<div class=\"col-sm-3\">\\n<h4><span class=\"label label-warning \">Top 30</span></h4> </div>\\n<div class=\"clearfix\"></div>\\n<div class=\"col-sm-12\">\\n<p>\\n<small>\\nPublic University<br> $34,000 annual tuition fee<br> 30% acceptance rate<br> </small>\\n</p>\\n</div>\\n</div>\\n<div class=\"clearfix\"></div>\\n<hr>\\n<div class=\"col-sm-2 hidden-xs\">\\n<div class=\"img-thumbnail\">\\n<img src=\"https://static.yocket.in/images/universities/logos/university_of_maryland_logo.jpg\" alt=\"university-of-maryland-college-park-logo\" class=\"img-responsive\"/> </div>\\n</div>\\n<div class=\"col-sm-10\">\\n<div class=\"col-sm-9\">\\n<h4>\\n<a href=\"/universities/reviews/712/university-of-maryland-college-park/engineering\">University of Maryland, College Park (UMCP)</a> <br>\\n<small>Maryland, United States</small>\\n</h4>\\n</div>\\n<div class=\"col-sm-3\">\\n<h4><span class=\"label label-warning \">Top 30</span></h4> </div>\\n<div class=\"clearfix\"></div>\\n<div class=\"col-sm-12\">\\n<p>\\n<small>\\nPublic University<br> $29,000 annual tuition fee<br> 25.3% acceptance rate<br> </small>\\n</p>\\n</div>\\n</div>\\n<div class=\"clearfix\"></div>\\n<hr>\\n<div class=\"col-sm-2 hidden-xs\">\\n<div class=\"img-thumbnail\">\\n<img src=\"https://static.yocket.in/images/universities/logos/minnesota_university_logo.jpg\" alt=\"university-of-minnesota-twin-cities-logo\" class=\"img-responsive\"/> </div>\\n</div>\\n<div class=\"col-sm-10\">\\n<div class=\"col-sm-9\">\\n<h4>\\n<a href=\"/universities/reviews/1094/university-of-minnesota-twin-cities/engineering\">University of Minnesota, Twin Cities (UM Twin)</a> <br>\\n<small>Minnesota, United States</small>\\n</h4>\\n</div>\\n<div class=\"col-sm-3\">\\n<h4><span class=\"label label-warning \">Top 30</span></h4> </div>\\n<div class=\"clearfix\"></div>\\n<div class=\"col-sm-12\">\\n<p>\\n<small>\\nPublic University<br> $16,000 annual tuition fee<br> 23.5% acceptance rate<br> </small>\\n</p>\\n</div>\\n</div>\\n<div class=\"clearfix\"></div>\\n<hr>\\n<div class=\"col-sm-2 hidden-xs\">\\n<div class=\"img-thumbnail\">\\n<img src=\"https://static.yocket.in/images/universities/logos/purdue_university_logo.jpg\" alt=\"purdue-university-west-lafayette-logo\" class=\"img-responsive\"/> </div>\\n</div>\\n<div class=\"col-sm-10\">\\n<div class=\"col-sm-9\">\\n<h4>\\n<a href=\"/universities/reviews/748/purdue-university-west-lafayette/engineering\">Purdue University West Lafayette (Purdue)</a> <br>\\n<small>Indiana, United States</small>\\n</h4>\\n</div>\\n<div class=\"col-sm-3\">\\n<h4><span class=\"label label-warning \">Top 10</span></h4> </div>\\n<div class=\"clearfix\"></div>\\n<div class=\"col-sm-12\">\\n<p>\\n<small>\\nPublic University<br> $31,000 annual tuition fee<br> 23.2% acceptance rate<br> </small>\\n</p>\\n</div>\\n</div>\\n<div class=\"clearfix\"></div>\\n<hr>\\n<div class=\"col-sm-2 hidden-xs\">\\n<div class=\"img-thumbnail\">\\n<img src=\"https://static.yocket.in/images/universities/logos/syracuse_university_logo.jpg\" alt=\"syracuse-university-logo\" class=\"img-responsive\"/> </div>\\n</div>\\n<div class=\"col-sm-10\">\\n<div class=\"col-sm-9\">\\n<h4>\\n<a href=\"/universities/reviews/705/syracuse-university/engineering\">Syracuse University (Syracuse)</a> <br>\\n<small>New York, United States</small>\\n</h4>\\n</div>\\n<div class=\"col-sm-3\">\\n<h4><span class=\"label label-warning \">Top 100</span></h4> </div>\\n<div class=\"clearfix\"></div>\\n<div class=\"col-sm-12\">\\n<p>\\n<small>\\nPrivate University<br> $21,000 annual tuition fee<br> 40.3% acceptance rate<br> </small>\\n</p>\\n</div>\\n</div>\\n<div class=\"clearfix\"></div>\\n<hr>\\n<div class=\"col-sm-2 hidden-xs\">\\n<div class=\"img-thumbnail\">\\n<img src=\"https://static.yocket.in/images/universities/logos/ucsd_logo.jpg\" alt=\"university-of-california-san-diego-logo\" class=\"img-responsive\"/> </div>\\n</div>\\n<div class=\"col-sm-10\">\\n<div class=\"col-sm-9\">\\n<h4>\\n<a href=\"/universities/reviews/764/university-of-california-san-diego/engineering\">University of California - San Diego (UCSD)</a> <br>\\n<small>California, United States</small>\\n</h4>\\n</div>\\n<div class=\"col-sm-3\">\\n<h4><span class=\"label label-warning \">Top 20</span></h4> </div>\\n<div class=\"clearfix\"></div>\\n<div class=\"col-sm-12\">\\n<p>\\n<small>\\nPublic University<br> $25,000 annual tuition fee<br> 21.5% acceptance rate<br> </small>\\n</p>\\n</div>\\n</div>\\n<div class=\"clearfix\"></div>\\n<hr>\\n<div class=\"col-sm-2 hidden-xs\">\\n<div class=\"img-thumbnail\">\\n<img src=\"https://static.yocket.in/images/universities/logos/virginia_tech_logo.jpg\" alt=\"virginia-tech-logo\" class=\"img-responsive\"/> </div>\\n</div>\\n<div class=\"col-sm-10\">\\n<div class=\"col-sm-9\">\\n<h4>\\n<a href=\"/universities/reviews/714/virginia-tech/engineering\">Virginia Tech (Virg. Tech)</a> <br>\\n<small>Virginia, United States</small>\\n</h4>\\n</div>\\n<div class=\"col-sm-3\">\\n<h4><span class=\"label label-warning \">Top 30</span></h4> </div>\\n<div class=\"clearfix\"></div>\\n<div class=\"col-sm-12\">\\n<p>\\n<small>\\nPublic University<br> $22,000 annual tuition fee<br> 22.8% acceptance rate<br> </small>\\n</p>\\n</div>\\n</div>\\n<div class=\"clearfix\"></div>\\n<hr>\\n<div class=\"col-sm-2 hidden-xs\">\\n<div class=\"img-thumbnail\">\\n<img src=\"https://static.yocket.in/images/universities/logos/california_irvine_logo.jpg\" alt=\"university-of-california-irvine-logo\" class=\"img-responsive\"/> </div>\\n</div>\\n<div class=\"col-sm-10\">\\n<div class=\"col-sm-9\">\\n<h4>\\n<a href=\"/universities/reviews/795/university-of-california-irvine/engineering\">University of California - Irvine (UC Irvine)</a> <br>\\n<small>California, United States</small>\\n</h4>\\n</div>\\n<div class=\"col-sm-3\">\\n<h4><span class=\"label label-warning \">Top 40</span></h4> </div>\\n<div class=\"clearfix\"></div>\\n<div class=\"col-sm-12\">\\n<p>\\n<small>\\nPublic University<br> $27,000 annual tuition fee<br> 20% acceptance rate<br> </small>\\n</p>\\n</div>\\n</div>\\n<div class=\"clearfix\"></div>\\n<hr>\\n<div class=\"col-sm-2 hidden-xs\">\\n<div class=\"img-thumbnail\">\\n<img src=\"https://static.yocket.in/images/universities/logos/rit_logo.jpg\" alt=\"rochester-institute-of-technology-logo\" class=\"img-responsive\"/> </div>\\n</div>\\n<div class=\"col-sm-10\">\\n<div class=\"col-sm-9\">\\n<h4>\\n<a href=\"/universities/reviews/746/rochester-institute-of-technology/engineering\">Rochester Institute of Technology (RIT)</a> <br>\\n<small>New York, United States</small>\\n</h4>\\n</div>\\n<div class=\"col-sm-3\">\\n<h4><span class=\"label label-warning \">Top 100</span></h4> </div>\\n<div class=\"clearfix\"></div>\\n<div class=\"col-sm-12\">\\n<p>\\n<small>\\nPrivate University<br> $41,000 annual tuition fee<br> 46% acceptance rate<br> </small>\\n</p>\\n</div>\\n</div>\\n<div class=\"clearfix\"></div>\\n<hr>\\n<div class=\"col-sm-2 hidden-xs\">\\n<div class=\"img-thumbnail\">\\n<img src=\"https://static.yocket.in/images/universities/logos/michigan_state_university_logo.jpg\" alt=\"michigan-state-university-logo\" class=\"img-responsive\"/> </div>\\n</div>\\n<div class=\"col-sm-10\">\\n<div class=\"col-sm-9\">\\n<h4>\\n<a href=\"/universities/reviews/1856/michigan-state-university/engineering\">Michigan State University (Mich. SU)</a> <br>\\n<small>Michigan, United States</small>\\n</h4>\\n</div>\\n<div class=\"col-sm-3\">\\n<h4><span class=\"label label-warning \">Top 50</span></h4> </div>\\n<div class=\"clearfix\"></div>\\n<div class=\"col-sm-12\">\\n<p>\\n<small>\\nPublic University<br> $21,000 annual tuition fee<br> 9.3% acceptance rate<br> </small>\\n</p>\\n</div>\\n</div>\\n<div class=\"clearfix\"></div>\\n<hr>\\n<div class=\"col-sm-2 hidden-xs\">\\n<div class=\"img-thumbnail\">\\n<img src=\"https://static.yocket.in/images/universities/logos/university_of_cincinnati_logo.jpg\" alt=\"university-of-cincinnati-logo\" class=\"img-responsive\"/> </div>\\n</div>\\n<div class=\"col-sm-10\">\\n<div class=\"col-sm-9\">\\n<h4>\\n<a href=\"/universities/reviews/743/university-of-cincinnati/engineering\">University of Cincinnati (U.Cincin)</a> <br>\\n<small>Ohio, United States</small>\\n</h4>\\n</div>\\n<div class=\"col-sm-3\">\\n<h4><span class=\"label label-warning \">Top 100</span></h4> </div>\\n<div class=\"clearfix\"></div>\\n<div class=\"col-sm-12\">\\n<p>\\n<small>\\nPublic University<br> $27,000 annual tuition fee<br> 15.4% acceptance rate<br> </small>\\n</p>\\n</div>\\n</div>\\n<div class=\"clearfix\"></div>\\n<hr>\\n<div class=\"col-sm-2 hidden-xs\">\\n<div class=\"img-thumbnail\">\\n<img src=\"https://static.yocket.in/images/universities/logos/iowa_state_logo.jpg\" alt=\"iowa-state-university-logo\" class=\"img-responsive\"/> </div>\\n</div>\\n<div class=\"col-sm-10\">\\n<div class=\"col-sm-9\">\\n<h4>\\n<a href=\"/universities/reviews/818/iowa-state-university/engineering\">Iowa State University (Iowa State)</a> <br>\\n<small>Iowa, United States</small>\\n</h4>\\n</div>\\n<div class=\"col-sm-3\">\\n<h4><span class=\"label label-warning \">Top 50</span></h4> </div>\\n<div class=\"clearfix\"></div>\\n<div class=\"col-sm-12\">\\n<p>\\n<small>\\nPublic University<br> $23,000 annual tuition fee<br> 20.9% acceptance rate<br> </small>\\n</p>\\n</div>\\n</div>\\n<div class=\"clearfix\"></div>\\n<hr>\\n<div class=\"col-sm-2 hidden-xs\">\\n<div class=\"img-thumbnail\">\\n<img src=\"https://static.yocket.in/images/universities/logos/stony_brook_university_logo.jpg\" alt=\"state-university-of-new-york-at-stony-brook-logo\" class=\"img-responsive\"/> </div>\\n</div>\\n<div class=\"col-sm-10\">\\n<div class=\"col-sm-9\">\\n<h4>\\n<a href=\"/universities/reviews/735/state-university-of-new-york-at-stony-brook/engineering\">State University of New York at Stony Brook (SUNY-SB)</a> <br>\\n<small>New York, United States</small>\\n</h4>\\n</div>\\n<div class=\"col-sm-3\">\\n<h4><span class=\"label label-warning \">Top 100</span></h4> </div>\\n<div class=\"clearfix\"></div>\\n<div class=\"col-sm-12\">\\n<p>\\n<small>\\nPublic University<br> $22,000 annual tuition fee<br> 31.6% acceptance rate<br> </small>\\n</p>\\n</div>\\n</div>\\n<div class=\"clearfix\"></div>\\n<hr>\\n</div>\\n<div class=\"clearfix\"></div>\\n<div class=\"text-center\">\\n<div class=\"paginator\">\\n<ul class=\"pagination\">\\n<li class=\"prev disabled\"><a href=\"\" onclick=\"return false;\"><i class=\"fa fa-chevron-left\"></i></a></li> <li class=\"active\"><a href=\"\">1</a></li><li><a href=\"/universities/masters-in-computer-science-engineering?page=2\">2</a></li><li><a href=\"/universities/masters-in-computer-science-engineering?page=3\">3</a></li><li><a href=\"/universities/masters-in-computer-science-engineering?page=4\">4</a></li><li><a href=\"/universities/masters-in-computer-science-engineering?page=5\">5</a></li> <li class=\"next\"><a rel=\"next\" href=\"/universities/masters-in-computer-science-engineering?page=2\"><i class=\"fa fa-chevron-right\"></i></a></li> </ul>\\n</div>\\n</div> </div>\\n<div class=\"col-sm-3\">\\n<div style=\"padding-top: 16px;\">\\n<div class=\"col-sm-12\">\\n<script async src=\"//pagead2.googlesyndication.com/pagead/js/adsbygoogle.js\"></script>\\n \\n \\n<div id=\\'div-gpt-ad-1486040951439-0\\' style=\\'height:250px; width:300px;\\'>\\n<script>\\n                googletag.cmd.push(function() { googletag.display(\\'div-gpt-ad-1486040951439-0\\'); });\\n            </script>\\n</div>\\n<br/><br/>\\n \\n<div id=\\'div-gpt-ad-1486040951439-1\\' style=\\'height:250px; width:300px;\\'>\\n<script>\\n                googletag.cmd.push(function() { googletag.display(\\'div-gpt-ad-1486040951439-1\\'); });\\n            </script>\\n</div>\\n<br/><br/>\\n \\n<div id=\\'div-gpt-ad-1486040951439-2\\' style=\\'height:250px; width:300px;\\'>\\n<script>\\n                googletag.cmd.push(function() { googletag.display(\\'div-gpt-ad-1486040951439-2\\'); });\\n            </script>\\n</div>\\n</div>\\n</div>\\n</div>\\n<div class=\"clearfix\"></div>\\n</div>\\n</div>\\n<footer class=\"footer text-center\">\\n<div class=\"container\">\\n<div class=\"row\">\\n<div class=\"col-sm-3 col-xs-6\">\\n<p><strong>UNIVERSITY INFORMATION</strong></p>\\n<ul class=\"list-unstyled\">\\n<li><a href=\"/universities\">University Reviews</a></li>\\n<li><a href=\"/university-courses/recommend\">Profile evaluator</a></li>\\n<li><a href=\"/universities/compare\">Compare universities</a></li>\\n<li><a href=\"/university-application-deadlines\">Application Deadlines</a></li>\\n</ul>\\n</div>\\n<div class=\"col-sm-3 col-xs-6\">\\n<p><strong>DISCOVER PROFILES</strong></p>\\n<ul class=\"list-unstyled\">\\n<li><a href=\"/profiles/find/matching-profiles\">Similar profiles</a></li>\\n<li><a href=\"/profiles/find/matching-admits-and-rejects\">Admits &amp; rejects</a></li>\\n<li><a href=\"/profiles/find-roommates\">Roommate finder</a></li>\\n</ul>\\n</div>\\n<div class=\"visible-xs\">\\n<div class=\"clearfix\"></div>\\n</div>\\n<div class=\"col-sm-3 col-xs-6\">\\n<p><strong>CONNECT</strong></p>\\n<ul class=\"list-unstyled\">\\n<li><a href=\"/contact-us\">Contact us</a></li>\\n<li><a href=\"/about/jobs\">Work with us</a></li>\\n<li><a href=\"https://www.facebook.com/yocketapp\" target=\"_blank\" class=\"ga-event\" data-event-category=\"SocialMedia\" data-event-action=\"Click\" data-event-label=\"Facebook\">Facebook</a></li>\\n<li><a href=\"https://twitter.com/yocketapp\" target=\"_blank\" class=\"ga-event\" data-event-category=\"SocialMedia\" data-event-action=\"Click\" data-event-label=\"Twitter\">Twitter</a></li>\\n</ul>\\n</div>\\n<div class=\"col-sm-3 col-xs-6\">\\n<p><strong>OTHER</strong></p>\\n<ul class=\"list-unstyled\">\\n<li>Sitemap</li>\\n<li><a href=\"/about/privacy\">Privacy</a></li>\\n<li><a href=\"/about/terms\">Terms</a></li>\\n</ul>\\n</div>\\n</div>\\n</div>\\n \\n<div id=\"fb-root\"></div>\\n</footer>\\n</body>\\n</html>\\n'"
      ]
     },
     "execution_count": 4,
     "metadata": {},
     "output_type": "execute_result"
    }
   ],
   "source": [
    "content.text"
   ]
  },
  {
   "cell_type": "code",
   "execution_count": 4,
   "metadata": {
    "collapsed": true
   },
   "outputs": [],
   "source": [
    "ins = bs(content.text, 'html.parser')"
   ]
  },
  {
   "cell_type": "code",
   "execution_count": 5,
   "metadata": {},
   "outputs": [
    {
     "data": {
      "text/plain": [
       "<title>Universities in United States offering Engineering courses in Computer Science / Information Technology | Yocket</title>"
      ]
     },
     "execution_count": 5,
     "metadata": {},
     "output_type": "execute_result"
    }
   ],
   "source": [
    "ins.title"
   ]
  },
  {
   "cell_type": "code",
   "execution_count": 6,
   "metadata": {
    "collapsed": true
   },
   "outputs": [],
   "source": [
    "colleges = ins.find(id=\"university_list\")"
   ]
  },
  {
   "cell_type": "code",
   "execution_count": null,
   "metadata": {
    "collapsed": true
   },
   "outputs": [],
   "source": [
    "colleges"
   ]
  },
  {
   "cell_type": "code",
   "execution_count": 13,
   "metadata": {},
   "outputs": [
    {
     "name": "stdout",
     "output_type": "stream",
     "text": [
      "30\n"
     ]
    }
   ],
   "source": [
    "imgs = colleges.find_all('img')\n",
    "print(len(imgs))"
   ]
  },
  {
   "cell_type": "code",
   "execution_count": 7,
   "metadata": {
    "collapsed": true
   },
   "outputs": [],
   "source": [
    "a_list = colleges.find_all('a')\n",
    "locations = [e.get_text() for e in colleges.find_all('small')[::2]]"
   ]
  },
  {
   "cell_type": "code",
   "execution_count": 19,
   "metadata": {
    "collapsed": true
   },
   "outputs": [],
   "source": [
    "names = [e.get_text() for e in a_list]\n",
    "href = [e.get('href') for e in a_list]"
   ]
  },
  {
   "cell_type": "code",
   "execution_count": 9,
   "metadata": {
    "collapsed": true
   },
   "outputs": [],
   "source": [
    "import json\n",
    "import time\n",
    "from lxml import etree"
   ]
  },
  {
   "cell_type": "code",
   "execution_count": 31,
   "metadata": {
    "collapsed": true
   },
   "outputs": [],
   "source": [
    "college_set = []"
   ]
  },
  {
   "cell_type": "code",
   "execution_count": 37,
   "metadata": {
    "collapsed": true
   },
   "outputs": [],
   "source": [
    "def extract_info(href):\n",
    "    college_page_url = 'https://yocket.in' + href\n",
    "    print(college_page_url)\n",
    "    college_con = req.get(college_page_url)\n",
    "    selector = etree.HTML(college_con.text)\n",
    "    website = selector.xpath('//h4/a/@href')\n",
    "    if not website:\n",
    "        website = re.findall('Website: ([^<]*)<', college_con.text)\n",
    "    \n",
    "    return website[0]"
   ]
  },
  {
   "cell_type": "code",
   "execution_count": 41,
   "metadata": {},
   "outputs": [
    {
     "name": "stdout",
     "output_type": "stream",
     "text": [
      "https://yocket.in/universities/reviews/2592/oregon-state-university/engineering\n",
      "Oregon State University (Oregon SU) oregonstate.edu/ Oregon, United States\n",
      "https://yocket.in/universities/reviews/2583/missouri-university-of-science-and-technology/engineering\n",
      "Missouri University of Science and Technology (MUST) http://www.mst.edu/ Missouri, United States\n",
      "https://yocket.in/universities/reviews/799/duke-university/engineering\n",
      "Duke University (Duke) http://www.duke.edu North Carolina, United States\n",
      "https://yocket.in/universities/reviews/2820/university-of-michigan-dearborn/engineering\n",
      "University of Michigan, Dearborn (UM Dearborn) umdearborn.edu/ Michigan, United States\n",
      "https://yocket.in/universities/reviews/2677/california-state-university-east-bay/engineering\n",
      "California State University, East Bay (CSU EB) http://www.csueastbay.edu/ California, United States\n",
      "https://yocket.in/universities/reviews/2571/drexel-university/engineering\n",
      "Drexel University (Drexel) http://www.drexel.edu/ Pennsylvania, United States\n",
      "https://yocket.in/universities/reviews/820/case-western-reserve-university/engineering\n",
      "Case Western Reserve University (CWRU) http://www.case.edu/ Ohio, United States\n",
      "https://yocket.in/universities/reviews/2653/wayne-state-university/engineering\n",
      "Wayne State University (Wayne SU) https://wayne.edu/ Michigan, United States\n",
      "https://yocket.in/universities/reviews/2815/university-of-houston-clear-lake/engineering\n",
      "University of Houston - Clear Lake (UHCL) http://www.uhcl.edu/ Texas, United States\n",
      "https://yocket.in/universities/reviews/2574/harvard-university/engineering\n",
      "Harvard University (Harvard) http://www.harvard.edu/ Massachusetts, United States\n",
      "https://yocket.in/universities/reviews/2613/university-of-central-florida/engineering\n",
      "University of Central Florida (UCF) http://www.ucf.edu/ Florida, United States\n",
      "https://yocket.in/universities/reviews/2638/university-of-rochester/engineering\n",
      "University of Rochester (U.Rochester) https://www.rochester.edu/ New York, United States\n",
      "https://yocket.in/universities/reviews/2647/university-of-virginia/engineering\n",
      "University of Virginia (U. Virginia) http://www.virginia.edu/ Virginia, United States\n",
      "https://yocket.in/universities/reviews/2678/california-state-university-fresno/engineering\n",
      "California State University, Fresno (Fresno State) http://www.fresnostate.edu/ California, United States\n",
      "https://yocket.in/universities/reviews/2682/california-state-university-northridge/engineering\n",
      "California State University, Northridge (CSUN) http://www.csun.edu/ California, United States\n",
      "https://yocket.in/universities/reviews/2567/brown-university/engineering\n",
      "Brown University (Brown) http://www.brown.edu/ Rhode Island, United States\n",
      "https://yocket.in/universities/reviews/2594/rice-university/engineering\n",
      "Rice University (Rice) http://www.rice.edu/ Texas, United States\n",
      "https://yocket.in/universities/reviews/2622/university-of-massachusetts-lowell/engineering\n",
      "University of Massachusetts - Lowell (UM Lowell) http://www.uml.edu/ Massachusetts, United States\n",
      "https://yocket.in/universities/reviews/2755/northern-illinois-university/engineering\n",
      "Northern Illinois University (NIU) http://www.niu.edu/ Illinois, United States\n",
      "https://yocket.in/universities/reviews/2683/california-state-university-sacramento/engineering\n",
      "California State University, Sacramento (Sac State) http://www.csus.edu/ California, United States\n",
      "https://yocket.in/universities/reviews/2656/wright-state-university/engineering\n",
      "Wright State University (Wright SU) http://www.wright.edu/ Ohio, United States\n",
      "https://yocket.in/universities/reviews/2598/southern-methodist-university/engineering\n",
      "Southern Methodist University (SMU Metho) http://www.smu.edu/ Texas, United States\n",
      "https://yocket.in/universities/reviews/2572/florida-state-university/engineering\n",
      "Florida State University (FSU) https://www.fsu.edu Florida, United States\n",
      "https://yocket.in/universities/reviews/2864/wichita-state-university/engineering\n",
      "Wichita State University (Wichita) http://www.wichita.edu/ Kansas, United States\n",
      "https://yocket.in/universities/reviews/2610/university-of-alabama-huntsville/engineering\n",
      "University of Alabama, Huntsville (UA Huntsvi.) http://www.uah.edu/ Alabama, United States\n",
      "https://yocket.in/universities/reviews/1859/university-of-iowa/engineering\n",
      "University of Iowa (U of Iowa) http://www.uiowa.edu/ Iowa, United States\n",
      "https://yocket.in/universities/reviews/2633/university-of-oklahoma/engineering\n",
      "University of Oklahoma (U. Okhla) http://www.ou.edu/ Oklahoma, United States\n",
      "https://yocket.in/universities/reviews/1104/university-of-connecticut/engineering\n",
      "University of Connecticut (UConn) http://www.uconn.edu/ Connecticut, United States\n",
      "https://yocket.in/universities/reviews/2749/new-york-institute-of-technology-manhattan/engineering\n",
      "New York Institute of Technology, Manhattan (NYIT) http://www.nyit.edu/ New York, United States\n",
      "https://yocket.in/universities/reviews/2791/state-university-of-new-york-albany/engineering\n",
      "State University of New York (Albany) (SUNY Albany) http://www.albany.edu/ New York, United States\n",
      "https://yocket.in/universities/reviews/2711/florida-institute-of-technology/engineering\n",
      "Florida Institute of Technology (FIT) http://www.fit.edu/ Florida, United States\n",
      "https://yocket.in/universities/reviews/2658/alabama-a-and-m-university/engineering\n",
      "Alabama A&M University (AAMU) http://www.aamu.edu/ Alabama, United States\n",
      "https://yocket.in/universities/reviews/2763/pace-university/engineering\n",
      "Pace University (Pace) http://www.pace.edu/ New York, United States\n",
      "https://yocket.in/universities/reviews/2817/university-of-illinois-at-springfield/engineering\n",
      "University of Illinois at Springfield (UIS) http://www.uis.edu/ Illinois, United States\n",
      "https://yocket.in/universities/reviews/1158/rensselaer-polytechnic-institute/engineering\n",
      "Rensselaer Polytechnic Institute (RPI) http://http://rpi.edu/ New York, United States\n",
      "https://yocket.in/universities/reviews/1858/princeton-university/engineering\n",
      "Princeton University (Princeton) http://www.princeton.edu New Jersey, United States\n",
      "https://yocket.in/universities/reviews/2593/portland-state-university/engineering\n",
      "Portland State University (PSU Maseeh) https://www.pdx.edu/ Oregon, United States\n",
      "https://yocket.in/universities/reviews/2812/university-of-colorado-at-denver/engineering\n",
      "University of Colorado at Denver (UC Denver) http://www.ucdenver.edu/ Colorado, United States\n",
      "https://yocket.in/universities/reviews/2627/university-of-missouri-columbia/engineering\n",
      "University of Missouri, Columbia (UM Columb) missouri.edu/ Missouri, United States\n",
      "https://yocket.in/universities/reviews/2618/university-of-kansas/engineering\n",
      "University of Kansas (U. Kansas) http://www.ku.edu/ Kansas, United States\n",
      "https://yocket.in/universities/reviews/864/dartmouth-college/engineering\n",
      "Dartmouth College (Dartmouth) http://www.dartmouth.edu New Hampshire, United States\n",
      "https://yocket.in/universities/reviews/2578/kent-state-university/engineering\n",
      "Kent State University (Kent SU) http://www.kent.edu/ Ohio, United States\n",
      "https://yocket.in/universities/reviews/2661/arkansas-state-university/engineering\n",
      "Arkansas State university (A-State) http://www.astate.edu/ Arkansas, United States\n",
      "https://yocket.in/universities/reviews/2862/western-michigan-university/engineering\n",
      "Western Michigan University (W Mich) https://wmich.edu/ Michigan, United States\n",
      "https://yocket.in/universities/reviews/2832/university-of-north-texas/engineering\n",
      "University of North Texas (UNT) https://www.unt.edu/ Texas, United States\n",
      "https://yocket.in/universities/reviews/2657/yale-university/engineering\n",
      "Yale University (Yale) http://www.yale.edu/ Connecticut, United States\n",
      "https://yocket.in/universities/reviews/2615/university-of-dayton/engineering\n",
      "University of Dayton (U of Dayton) https://www.udayton.edu/ Ohio, United States\n",
      "https://yocket.in/universities/reviews/903/university-of-delaware/engineering\n",
      "University of Delaware (U.Del) http://www.udel.edu Delaware, United States\n",
      "https://yocket.in/universities/reviews/2732/lamar-university/engineering\n",
      "Lamar University (Lamar) http://www.lamar.edu/ Texas, United States\n",
      "https://yocket.in/universities/reviews/2652/washington-university-in-st.-louis/engineering\n"
     ]
    },
    {
     "name": "stdout",
     "output_type": "stream",
     "text": [
      "Washington University in St. Louis (WUSL) wustl.edu/ Washington, United States\n",
      "https://yocket.in/universities/reviews/2822/university-of-missouri-kansas-city/engineering\n",
      "University of Missouri, Kansas City (UMKC) http://www.umkc.edu/ Missouri, United States\n",
      "https://yocket.in/universities/reviews/2639/university-of-south-carolina/engineering\n",
      "University of South Carolina (U. South Car) http://www.sc.edu/ South Carolina, United States\n",
      "https://yocket.in/universities/reviews/3025/florida-international-university/engineering\n",
      "Florida International University (FIU) http://www.fiu.edu Florida, United States\n",
      "https://yocket.in/universities/reviews/2580/louisiana-state-university-and-a-and-m-college/engineering\n",
      "Louisiana State University and A&M College (LSU AMC) http://www.lsu.edu/ Louisiana, United States\n",
      "https://yocket.in/universities/reviews/2809/university-of-bridgeport/engineering\n",
      "University of Bridgeport (Bridgeport) http://www.bridgeport.edu/ Connecticut, United States\n",
      "https://yocket.in/universities/reviews/2648/utah-state-university/engineering\n",
      "Utah State University (Utah SU) http://www.usu.edu/ Utah, United States\n",
      "https://yocket.in/universities/reviews/2644/university-of-texas-san-antonio/engineering\n",
      "University of Texas - San Antonio (UTSA) utsa.edu/ Texas, United States\n",
      "https://yocket.in/universities/reviews/2628/university-of-nebraska-lincoln/engineering\n",
      "University of Nebraska, Lincoln (UN Lincoln) http://www.unl.edu/ Nebraska, United States\n",
      "https://yocket.in/universities/reviews/2776/san-francisco-state-university/engineering\n",
      "San Francisco State University (SFSU) http://www.sfsu.edu/ California, United States\n",
      "https://yocket.in/universities/reviews/2651/washington-state-university/engineering\n",
      "Washington State University (Wshgton SU) https://wsu.edu/ Washington, United States\n",
      "https://yocket.in/universities/reviews/2794/texas-a-and-m-university-commerce/engineering\n",
      "Texas A&M University - Commerce (TAMUC) http://www.tamuc.edu/ Texas, United States\n",
      "https://yocket.in/universities/reviews/2696/colorado-school-of-mines/engineering\n",
      "Colorado School of Mines (CSM Mines) https://www.mines.edu/ Colorado, United States\n",
      "https://yocket.in/universities/reviews/2642/university-of-tennessee-at-knoxville/engineering\n",
      "University of Tennessee at Knoxville (U. Tenn Knx) http://www.utk.edu/ Tennessee, United States\n",
      "https://yocket.in/universities/reviews/2623/university-of-massachusetts-dartmouth/engineering\n",
      "University of Massachusetts - Dartmouth (UM Dartm) http://www.umassd.edu/ Massachusetts, United States\n",
      "https://yocket.in/universities/reviews/2668/bradley-university/engineering\n",
      "Bradley University (Bradley) http://www.bradley.edu/ Illinois, United States\n",
      "https://yocket.in/universities/reviews/2733/lawrence-technological-university/engineering\n",
      "Lawrence Technological University (LTU) http://www.ltu.edu/ Michigan, United States\n",
      "https://yocket.in/universities/reviews/2819/university-of-massachusetts-boston/engineering\n",
      "University of Massachusetts, Boston (UMB) https://www.umb.edu/ Massachusetts, United States\n",
      "https://yocket.in/universities/reviews/2750/new-york-institute-of-technology-old-westbury/engineering\n",
      "New York Institute of Technology, Old Westbury (NYIT WB) http://www.nyit.edu/ New York, United States\n",
      "https://yocket.in/universities/reviews/2687/central-michigan-university/engineering\n",
      "Central Michigan University (C Mich) https://www.cmich.edu/ Michigan, United States\n",
      "https://yocket.in/universities/reviews/2582/mississippi-state-university/engineering\n",
      "Mississippi State University (Missi. SU) http://www.msstate.edu/ Mississippi, United States\n",
      "https://yocket.in/universities/reviews/2811/university-of-central-missouri/engineering\n",
      "University of Central Missouri (UCMO) https://www.ucmo.edu/ Missouri, United States\n",
      "https://yocket.in/universities/reviews/2672/california-polytechnic-state-university/engineering\n",
      "California Polytechnic State University (Cal Poly) http://www.calpoly.edu/ California, United States\n",
      "https://yocket.in/universities/reviews/2800/the-university-of-chicago/engineering\n",
      "The University of Chicago (U Chicago) http://www.uchicago.edu/ Illinois, United States\n",
      "https://yocket.in/universities/reviews/2589/ohio-university/engineering\n",
      "Ohio University (Ohio Russ) https://www.ohio.edu/ Ohio, United States\n",
      "https://yocket.in/universities/reviews/2826/university-of-new-haven/engineering\n",
      "University of New Haven (New Haven) http://www.newhaven.edu/ Connecticut, United States\n",
      "https://yocket.in/universities/reviews/2609/university-of-alabama-at-birmingham/engineering\n",
      "University of Alabama at Birmingham (UA Birmingh) http://www.uab.edu/ Alabama, United States\n",
      "https://yocket.in/universities/reviews/2601/temple-university/engineering\n",
      "Temple University (Temple Uni) https://www.temple.edu/ Pennsylvania, United States\n",
      "https://yocket.in/universities/reviews/2833/university-of-san-francisco/engineering\n",
      "University of San Francisco (USFCA) https://www.usfca.edu/ California, United States\n",
      "https://yocket.in/universities/reviews/2632/university-of-notre-dame/engineering\n",
      "University of Notre Dame (Notre Dame) https://www.nd.edu/ Indiana, United States\n",
      "https://yocket.in/universities/reviews/2649/vanderbilt-university/engineering\n",
      "Vanderbilt University (Vanderbilt) http://www.vanderbilt.edu/ Tennessee, United States\n",
      "https://yocket.in/universities/reviews/2848/university-of-wisconsin-milwaukee/engineering\n",
      "University of Wisconsin-Milwaukee (UWM) www4.uwm.edu/ Wisconsin, United States\n",
      "https://yocket.in/universities/reviews/3031/the-city-college-of-new-york-cuny/engineering\n",
      "The City College of New York, CUNY (CCNY) https://www.ccny.cuny.edu/ New York, United States\n",
      "https://yocket.in/universities/reviews/2814/university-of-georgia-athens/engineering\n",
      "University of Georgia, Athens (GA Athens) http://www.uga.edu/ Georgia, United States\n",
      "https://yocket.in/universities/reviews/2688/chicago-state-university/engineering\n",
      "Chicago State University (Chicago St) https://www.csu.edu/ Illinois, United States\n",
      "https://yocket.in/universities/reviews/2806/university-of-arkansas/engineering\n",
      "University of Arkansas (U Ark) http://www.uark.edu/ Arkansas, United States\n",
      "https://yocket.in/universities/reviews/2690/city-university-of-new-york-brooklyn-college/engineering\n",
      "City University Of New York, Brooklyn College (CUNY Br) http://www.brooklyn.cuny.edu/ New York, United States\n",
      "https://yocket.in/universities/reviews/2597/southern-illinois-university-carbondale/engineering\n",
      "Southern Illinois University, Carbondale (SIUC) siu.edu/ Illinois, United States\n",
      "https://yocket.in/universities/reviews/2707/fairleigh-dickinson-university/engineering\n",
      "Fairleigh Dickinson University (FDU) http://www.fdu.edu/ New Jersey, United States\n",
      "https://yocket.in/universities/reviews/2608/university-of-akron/engineering\n",
      "University of Akron (U of Akron) https://www.uakron.edu/ Ohio, United States\n",
      "https://yocket.in/universities/reviews/2704/eastern-michigan-university/engineering\n",
      "Eastern Michigan University (E Mich) http://www.emich.edu/ Michigan, United States\n",
      "https://yocket.in/universities/reviews/2700/depaul-university/engineering\n",
      "DePaul University (DePaul) https://www.depaul.edu/ Illinois, United States\n",
      "https://yocket.in/universities/reviews/2764/penn-state-harrisburg/engineering\n",
      "Penn State Harrisburg (PSU HBG) https://harrisburg.psu.edu/ Pennsylvania, United States\n",
      "https://yocket.in/universities/reviews/2827/university-of-new-mexico/engineering\n",
      "University of New Mexico (UNM) https://www.unm.edu/ New Mexico, United States\n",
      "https://yocket.in/universities/reviews/2675/california-state-university-channel-islands/engineering\n",
      "California State University, Channel Islands (CSU CI) http://www.csuci.edu California, United States\n",
      "https://yocket.in/universities/reviews/2566/brigham-young-university/engineering\n",
      "Brigham Young University (BYU Fulton) http://www.byu.edu Utah, United States\n",
      "https://yocket.in/universities/reviews/2795/texas-a-and-m-university-corpus-christi/engineering\n",
      "Texas A&M University - Corpus Christi (TAMUCC) https://www.tamucc.edu/ Texas, United States\n",
      "https://yocket.in/universities/reviews/2841/university-of-texas-at-tyler/engineering\n",
      "University of Texas at Tyler (UT Tyler) http://www.uttyler.edu/ Texas, United States\n",
      "https://yocket.in/universities/reviews/2673/california-state-polytechnic-university-pomona/engineering\n"
     ]
    },
    {
     "name": "stdout",
     "output_type": "stream",
     "text": [
      "California State Polytechnic University, Pomona (Cal Poly CPP) http://www.cpp.edu/ California, United States\n",
      "https://yocket.in/universities/reviews/2798/texas-state-university/engineering\n",
      "Texas State University (TX State) http://www.txstate.edu/ Texas, United States\n",
      "https://yocket.in/universities/reviews/2604/tufts-university/engineering\n",
      "Tufts University (Tufts) http://www.tufts.edu/ Massachusetts, United States\n",
      "https://yocket.in/universities/reviews/2859/west-virginia-university-morgantown/engineering\n",
      "West Virginia University, Morgantown (WVU) http://www.wvu.edu/ West Virginia, United States\n",
      "https://yocket.in/universities/reviews/2754/northeastern-illinois-university/engineering\n",
      "Northeastern Illinois University (NEIU) http://www.neiu.edu/ Illinois, United States\n",
      "https://yocket.in/universities/reviews/2786/southern-illinois-university-edwardsville/engineering\n",
      "Southern Illinois University, Edwardsville (SIUE) http://www.siue.edu/ Illinois, United States\n",
      "https://yocket.in/universities/reviews/2667/bowling-green-state-university/engineering\n",
      "Bowling Green State University (BGSU) http://www.bgsu.edu/ Ohio, United States\n",
      "https://yocket.in/universities/reviews/2629/university-of-nevada-las-vegas/engineering\n",
      "University of Nevada, Las Vegas (UN LV) https://www.unlv.edu/ Nevada, United States\n",
      "https://yocket.in/universities/reviews/2724/indiana-state-university/engineering\n",
      "Indiana State University (Ind State) http://www.indstate.edu/ Indiana, United States\n",
      "https://yocket.in/universities/reviews/2659/alcorn-state-university/engineering\n",
      "Alcorn State University (Alcorn) https://www.alcorn.edu/ Mississippi, United States\n",
      "https://yocket.in/universities/reviews/2792/state-university-of-new-york-new-paltz/engineering\n",
      "State University of New York – New Paltz (SUNY NP) https://www.newpaltz.edu/ New York, United States\n",
      "https://yocket.in/universities/reviews/2676/california-state-university-dominguez-hills/engineering\n",
      "California State University, Dominguez Hills (CSU DH) http://www.csudh.edu/ California, United States\n",
      "https://yocket.in/universities/reviews/2590/old-dominion-university/engineering\n",
      "Old Dominion University (ODU) http://www.odu.edu/ Virginia, United States\n",
      "https://yocket.in/universities/reviews/2735/louisiana-tech-university/engineering\n",
      "Louisiana Tech University (LA Tech) http://www.latech.edu/ Louisiana, United States\n",
      "https://yocket.in/universities/reviews/3119/suny-polytechnic-institute/engineering\n",
      "State University of New York Polytechnic Institute (SUNY Poly) https://sunypoly.edu/ New York, United States\n",
      "https://yocket.in/universities/reviews/2753/north-dakota-state-university/engineering\n",
      "North Dakota State University (NDSU) https://www.ndsu.edu/ North Dakota, United States\n",
      "https://yocket.in/universities/reviews/2825/university-of-nebraska-omaha/engineering\n",
      "University of Nebraska, Omaha (UN Omaha) http://www.unomaha.edu/ Nebraska, United States\n",
      "https://yocket.in/universities/reviews/2684/california-state-university-san-bernardino/engineering\n",
      "California State University, San Bernardino (CSU SB) https://www.csusb.edu/ California, United States\n",
      "https://yocket.in/universities/reviews/2631/university-of-new-hampshire/engineering\n",
      "University of New Hampshire (U New Hamp) http://www.unh.edu/ New Hampshire, United States\n",
      "https://yocket.in/universities/reviews/2760/oakland-university/engineering\n",
      "Oakland University (Oakland) http://www.oakland.edu/ Michigan, United States\n",
      "https://yocket.in/universities/reviews/2619/university-of-kentucky/engineering\n",
      "University of Kentucky (U. Kentucky) http://www.uky.edu/ Kentucky, United States\n",
      "https://yocket.in/universities/reviews/2586/new-mexico-state-university/engineering\n",
      "New Mexico State University (NMSU) http://www.nmsu.edu New Mexico, United States\n",
      "https://yocket.in/universities/reviews/2664/baylor-university/engineering\n",
      "Baylor University (Baylor) http://www.baylor.edu/ Texas, United States\n",
      "https://yocket.in/universities/reviews/2752/north-carolina-a-and-t-state-university/engineering\n",
      "North Carolina A&T State University (NCAT) http://www.ncat.edu/ North Carolina, United States\n",
      "https://yocket.in/universities/reviews/2781/south-dakota-state-university/engineering\n",
      "South Dakota State University (SD State) https://www.sdstate.edu/ South Dakota, United States\n",
      "https://yocket.in/universities/reviews/1099/university-of-idaho/engineering\n",
      "University of Idaho (Idaho) http://www.uidaho.edu Idaho, United States\n",
      "https://yocket.in/universities/reviews/2645/university-of-toledo/engineering\n",
      "University of Toledo (U. Toledo) http://www.utoledo.edu/ Ohio, United States\n",
      "https://yocket.in/universities/reviews/2643/university-of-texas-el-paso/engineering\n",
      "University of Texas - El Paso (UT El Paso) http://www.utep.edu/ Texas, United States\n",
      "https://yocket.in/universities/reviews/2660/appalachian-state-university/engineering\n",
      "Appalachian State University (App State) http://www.appstate.edu/ North Carolina, United States\n",
      "https://yocket.in/universities/reviews/2630/university-of-nevada-reno/engineering\n",
      "University of Nevada, Reno (UN Reno) http://www.unr.edu/ Nevada, United States\n",
      "https://yocket.in/universities/reviews/2634/university-of-oregon/engineering\n",
      "University of Oregon (U. Oregon) https://uoregon.edu/ Oregon, United States\n",
      "https://yocket.in/universities/reviews/2614/university-of-colorado-at-colorado-springs/engineering\n",
      "University of Colorado at Colorado Springs (UCCS) http://www.uccs.edu/ Colorado, United States\n",
      "https://yocket.in/universities/reviews/2715/gannon-university/engineering\n",
      "Gannon University (Gannon) http://www.gannon.edu/ Pennsylvania, United States\n",
      "https://yocket.in/universities/reviews/2625/university-of-miami/engineering\n",
      "University of Miami (U. Miami) welcome.miami.edu Florida, United States\n",
      "https://yocket.in/universities/reviews/2641/university-of-louisiana-at-lafayette/engineering\n",
      "University of Louisiana at Lafayette (U.SW Louisi) http://www.louisiana.edu/ Louisiana, United States\n",
      "https://yocket.in/universities/reviews/2670/bridgewater-state-university/engineering\n",
      "Bridgewater State University (BridgeW) http://www.bridgew.edu/ Massachusetts, United States\n",
      "https://yocket.in/universities/reviews/2584/montana-state-university-at-bozeman/engineering\n",
      "Montana State University at Bozeman (Montana SU) http://www.montana.edu/ Montana, United States\n",
      "https://yocket.in/universities/reviews/2799/the-university-of-alabama/engineering\n",
      "The University of Alabama (U Alabama) https://www.ua.edu/ Alabama, United States\n",
      "https://yocket.in/universities/reviews/2813/university-of-denver/engineering\n",
      "University of Denver (U Denver) http://www.du.edu/ Colorado, United States\n",
      "https://yocket.in/universities/reviews/3030/kettering-university/engineering\n",
      "Kettering University, Flint (Kettering) https://www.kettering.edu/ Michigan, United States\n",
      "https://yocket.in/universities/reviews/2663/ball-state-university/engineering\n",
      "Ball State University (Ball State) cms.bsu.edu/ Indiana, United States\n",
      "https://yocket.in/universities/reviews/2720/grand-valley-state-university/engineering\n",
      "Grand Valley State University (GVSU) https://www.gvsu.edu/ Michigan, United States\n",
      "https://yocket.in/universities/reviews/2860/western-illinois-university/engineering\n",
      "Western Illinois University (WIU) http://www.wiu.edu/ Illinois, United States\n",
      "https://yocket.in/universities/reviews/2761/oklahoma-city-university/engineering\n",
      "Oklahoma City University (OKCU) http://www.okcu.edu/ Oklahoma, United States\n",
      "https://yocket.in/universities/reviews/2740/miami-university/engineering\n",
      "Miami University (Miami U) https://www.miamioh.edu/ Ohio, United States\n",
      "https://yocket.in/universities/reviews/2685/california-state-university-san-marcos/engineering\n",
      "California State University, San Marcos (CSU SM) http://www.csusm.edu/ California, United States\n",
      "https://yocket.in/universities/reviews/2654/west-virginia-university-montgomery/engineering\n",
      "West Virginia University - Montgomery (West VU) http://www.wvutech.edu/ West Virginia, United States\n",
      "https://yocket.in/universities/reviews/2793/tennessee-technological-university/engineering\n",
      "Tennessee Technological University (TN Tech) https://www.tntech.edu/ Tennessee, United States\n",
      "https://yocket.in/universities/reviews/2734/long-island-university-brooklyn/engineering\n"
     ]
    },
    {
     "name": "stdout",
     "output_type": "stream",
     "text": [
      "Long Island University- Brooklyn (LIU Br) http://www.liu.edu/brooklyn New York, United States\n",
      "https://yocket.in/universities/reviews/2692/city-university-of-new-york-queens-college/engineering\n",
      "City University Of New York, Queens College (QC CUNY) http://www.qc.cuny.edu/ New York, United States\n",
      "https://yocket.in/universities/reviews/2709/florida-agricultural-and-mechanical-university/engineering\n",
      "Florida Agricultural and Mechanical University (FAMU) http://www.famu.edu/ Florida, United States\n",
      "https://yocket.in/universities/reviews/2710/florida-atlantic-university/engineering\n",
      "Florida Atlantic University (FAU) http://www.fau.edu/ Florida, United States\n",
      "https://yocket.in/universities/reviews/2778/seattle-university/engineering\n",
      "Seattle University (Seattle U) https://www.seattleu.edu/ Washington, United States\n",
      "https://yocket.in/universities/reviews/2665/boise-state-university/engineering\n",
      "Boise State University (Boise State) http://www.boisestate.edu/ Idaho, United States\n",
      "https://yocket.in/universities/reviews/2758/northwestern-polytechnic-university/engineering\n",
      "Northwestern Polytechnic University (NPU) http://www.npu.edu/ California, United States\n",
      "https://yocket.in/universities/reviews/2829/university-of-north-carolina-at-greensboro/engineering\n",
      "University of North Carolina at Greensboro (UNCG) https://www.uncg.edu/ North Carolina, United States\n",
      "https://yocket.in/universities/reviews/2823/university-of-missouri-st.-louis/engineering\n",
      "University of Missouri-St. Louis (UMSL) http://www.umsl.edu/ Missouri, United States\n",
      "https://yocket.in/universities/reviews/2698/dakota-state-university/engineering\n",
      "Dakota State University (DSU) dsu.edu/ South Dakota, United States\n",
      "https://yocket.in/universities/reviews/2821/university-of-minnesota-duluth/engineering\n",
      "University of Minnesota Duluth (UMN Duluth) http://www.d.umn.edu/ Minnesota, United States\n",
      "https://yocket.in/universities/reviews/2747/national-university/engineering\n",
      "National University (NU Cal) http://www.nu.edu/ California, United States\n",
      "https://yocket.in/universities/reviews/2620/university-of-louisville/engineering\n",
      "University of Louisville (U Louisville) louisville.edu/ Kentucky, United States\n",
      "https://yocket.in/universities/reviews/2646/university-of-tulsa/engineering\n",
      "University of Tulsa (U. Tulsa) utulsa.edu/ Oklahoma, United States\n",
      "https://yocket.in/universities/reviews/2807/university-of-arkansas-at-little-rock/engineering\n",
      "University of Arkansas at Little Rock (UALR) http://www.ualr.edu/ Arkansas, United States\n",
      "https://yocket.in/universities/reviews/2850/university-of-wyoming/engineering\n",
      "University of Wyoming (U Wyoming) http://www.uwyo.edu/ Wyoming, United States\n",
      "https://yocket.in/universities/reviews/2693/city-university-of-new-york-staten-island/engineering\n",
      "City University Of New York, Staten Island (CUNY SI) http://www.csi.cuny.edu/ New York, United States\n",
      "https://yocket.in/universities/reviews/2719/governors-state-university/engineering\n",
      "Governors State University (Gov St) http://www.govst.edu/ Illinois, United States\n",
      "https://yocket.in/universities/reviews/2852/virginia-international-university/engineering\n",
      "Virginia International University (VIU) http://www.viu.edu/ Virginia, United States\n",
      "https://yocket.in/universities/reviews/2790/st-cloud-state-university/engineering\n",
      "Cloud State University (SCSU) http://www.stcloudstate.edu/ Minnesota, United States\n",
      "https://yocket.in/universities/reviews/2716/georgetown-university/engineering\n",
      "Georgetown University (Georgetown) https://www.georgetown.edu/ District of Columbia, United States\n",
      "https://yocket.in/universities/reviews/2845/university-of-washington-tacoma/engineering\n",
      "University of Washington, Tacoma (UW Tacoma) https://www.tacoma.uw.edu/ Washington, United States\n",
      "https://yocket.in/universities/reviews/2784/southern-arkansas-university/engineering\n",
      "Southern Arkansas University (SAU Mag) https://web.saumag.edu/ Arkansas, United States\n",
      "https://yocket.in/universities/reviews/3028/marshall-university/engineering\n",
      "Marshall University (Marshall) http://www.marshall.edu West Virginia, United States\n",
      "https://yocket.in/universities/reviews/2816/university-of-houston-victoria/engineering\n",
      "University of Houston-Victoria (UHV) http://www.uhv.edu/ Texas, United States\n",
      "https://yocket.in/universities/reviews/2581/marquette-university/engineering\n",
      "Marquette University (Marquette) http://www.marquette.edu/ Wisconsin, United States\n",
      "https://yocket.in/universities/reviews/2662/armstrong-atlantic-state-university/engineering\n",
      "Armstrong Atlantic State University (Armstrong) https://www.armstrong.edu/ Georgia, United States\n",
      "https://yocket.in/universities/reviews/2769/sacred-heart-university/engineering\n",
      "Sacred Heart University (Sacred Heart) http://www.sacredheart.edu/ Connecticut, United States\n",
      "https://yocket.in/universities/reviews/2650/virginia-commonwealth-university/engineering\n",
      "Virginia Commonwealth University (VCU) http://www.vcu.edu/ Virginia, United States\n",
      "https://yocket.in/universities/reviews/2626/university-of-mississippi/engineering\n",
      "University of Mississippi (U. Mississi) http://www.olemiss.edu/ Mississippi, United States\n",
      "https://yocket.in/universities/reviews/2801/the-university-of-maine/engineering\n",
      "The University of Maine (U Maine) https://umaine.edu/ Maine, United States\n",
      "https://yocket.in/universities/reviews/2701/east-carolina-university/engineering\n",
      "East Carolina University (ECU) http://www.ecu.edu/ North Carolina, United States\n",
      "https://yocket.in/universities/reviews/2666/bowie-state-university/engineering\n",
      "Bowie State University (Bowie State) http://www.bowiestate.edu/ Maryland, United States\n",
      "https://yocket.in/universities/reviews/2844/university-of-washington-bothell/engineering\n",
      "University of Washington, Bothell (UW Bothell) https://www.uwb.edu/ Washington, United States\n",
      "https://yocket.in/universities/reviews/2697/colorado-technical-university/engineering\n",
      "Colorado Technical University (CTU) http://www.coloradotech.edu/ Colorado, United States\n",
      "https://yocket.in/universities/reviews/2851/villanova-university/engineering\n",
      "Villanova University (Villanova) http://www.villanova.edu/ Pennsylvania, United States\n",
      "https://yocket.in/universities/reviews/2575/howard-university/engineering\n",
      "Howard University (Howard) http://www2.howard.edu/ District of Columbia, United States\n",
      "https://yocket.in/universities/reviews/2737/maharishi-university-of-management/engineering\n",
      "Maharishi University of Management (MUM) https://www.mum.edu/ Iowa, United States\n",
      "https://yocket.in/universities/reviews/2736/loyola-university-chicago/engineering\n",
      "Loyola University Chicago (LUC) http://www.luc.edu/ Ohio, United States\n",
      "https://yocket.in/universities/reviews/2804/troy-university/engineering\n",
      "Troy University (Troy) http://www.troy.edu/ Alabama, United States\n",
      "https://yocket.in/universities/reviews/2712/fordham-university/engineering\n",
      "Fordham University (Fordham) http://www.fordham.edu New York, United States\n",
      "https://yocket.in/universities/reviews/2805/university-of-alaska-fairbanks/engineering\n",
      "University of Alaska, Fairbanks (UAF) https://www.uaf.edu/ Alaska, United States\n",
      "https://yocket.in/universities/reviews/2725/indiana-university-south-bend/engineering\n",
      "Indiana University South Bend (IUSB) https://www.iusb.edu/ Indiana, United States\n",
      "https://yocket.in/universities/reviews/2624/university-of-memphis/engineering\n",
      "University of Memphis (U. Memphis) http://www.memphis.edu/ Tennessee, United States\n",
      "https://yocket.in/universities/reviews/2691/city-university-of-new-york-lehman-college/engineering\n",
      "City University Of New York, Lehman College (CUNY Leh) http://www.lehman.cuny.edu/ New York, United States\n",
      "https://yocket.in/universities/reviews/2828/university-of-new-orleans/engineering\n",
      "University of New Orleans (UNO) http://www.uno.edu/ Louisiana, United States\n",
      "https://yocket.in/universities/reviews/2802/the-university-of-southern-mississippi/engineering\n",
      "The University of Southern Mississippi (USM) http://www.usm.edu/ Mississippi, United States\n",
      "https://yocket.in/universities/reviews/2729/kentucky-state-university/engineering\n",
      "Kentucky State University (KYSU) kysu.edu/ Kentucky, United States\n",
      "https://yocket.in/universities/reviews/2838/university-of-texas-pan-american/engineering\n",
      "University of Texas - Pan American (UTPA) http://www.utpa.edu/ Texas, United States\n",
      "https://yocket.in/universities/reviews/2695/college-of-william-and-mary/engineering\n"
     ]
    },
    {
     "name": "stdout",
     "output_type": "stream",
     "text": [
      "College of William & Mary (W&M) https://www.wm.edu/ Virginia, United States\n",
      "https://yocket.in/universities/reviews/2722/hofstra-university/engineering\n",
      "Hofstra University (Hofstra) http://www.hofstra.edu/ New York, United States\n",
      "https://yocket.in/universities/reviews/2669/brandeis-university/engineering\n",
      "Brandeis University (Brandeis) http://www.brandeis.edu/ Massachusetts, United States\n",
      "https://yocket.in/universities/reviews/2637/university-of-rhode-island/engineering\n",
      "University of Rhode Island (U.Rhode Isl) http://www.uri.edu/ Rhode Island, United States\n",
      "https://yocket.in/universities/reviews/3118/city-university-of-seattle/engineering\n",
      "City University of Seattle (CityU) http://www.cityu.edu/ Washington, United States\n",
      "https://yocket.in/universities/reviews/2717/georgia-southern-university/engineering\n",
      "Georgia Southern University (GA Southern) http://www.georgiasouthern.edu/ Georgia, United States\n",
      "https://yocket.in/universities/reviews/2861/western-kentucky-university/engineering\n",
      "Western Kentucky University (WKU) https://www.wku.edu/ Kentucky, United States\n",
      "https://yocket.in/universities/reviews/2855/washington-state-university-vancouver/engineering\n",
      "Washington State University,Vancouver (WSU Vanco) http://www.vancouver.wsu.edu/ Washington, United States\n",
      "https://yocket.in/universities/reviews/2837/university-of-tennessee-at-chattanooga/engineering\n",
      "University of Tennessee at Chattanooga (UTC) https://www.utc.edu/ Tennessee, United States\n",
      "https://yocket.in/universities/reviews/2768/rowan-university/engineering\n",
      "Rowan University (Rowan) http://www.rowan.edu/ New Jersey, United States\n",
      "https://yocket.in/universities/reviews/2830/university-of-north-dakota/engineering\n",
      "University of North Dakota (UND) und.edu/ North Dakota, United States\n",
      "https://yocket.in/universities/reviews/2706/emory-university/engineering\n",
      "Emory University (Emory) http://www.emory.edu/ Georgia, United States\n",
      "https://yocket.in/universities/reviews/2742/midwestern-state-university/engineering\n",
      "Midwestern State University (MWSU) http://www.mwsu.edu/ Texas, United States\n",
      "https://yocket.in/universities/reviews/2708/fairleigh-dickinson-university-florham/engineering\n",
      "Fairleigh Dickinson University, Florham (FDU Florham) http://www.fdu.edu New Jersey, United States\n",
      "https://yocket.in/universities/reviews/2616/university-of-hawaii-at-manoa/engineering\n",
      "University of Hawaii at Manoa (UH Manoa) https://manoa.hawaii.edu/ Hawaii, United States\n",
      "https://yocket.in/universities/reviews/2767/roosevelt-university/engineering\n",
      "Roosevelt University (Roosevelt) http://www.roosevelt.edu/ Illinois, United States\n",
      "https://yocket.in/universities/reviews/2770/saint-joseph's-university/engineering\n",
      "Saint Joseph's University (SJU) https://www.sju.edu/ Pennsylvania, United States\n",
      "https://yocket.in/universities/reviews/2603/the-university-of-vermont/engineering\n",
      "The University of Vermont (Vermont) http://www.uvm.edu Vermont, United States\n",
      "https://yocket.in/universities/reviews/2703/east-tennessee-state-university/engineering\n",
      "East Tennessee State University (ETSU) http://www.etsu.edu/ Tennessee, United States\n",
      "https://yocket.in/universities/reviews/2591/oregon-health-and-science-university/engineering\n",
      "Oregon Health and Science University (OGIST) http://www.ohsu.edu/ Oregon, United States\n",
      "https://yocket.in/universities/reviews/2756/northern-kentucky-university/engineering\n",
      "Northern Kentucky University (NKU) http://www.nku.edu/ Kentucky, United States\n",
      "https://yocket.in/universities/reviews/2797/texas-southern-university/engineering\n",
      "Texas Southern University (TX SU) http://www.tsu.edu/ Texas, United States\n",
      "https://yocket.in/universities/reviews/2605/tulane-university/engineering\n",
      "Tulane University (Tulane) https://tulane.edu/ New York, United States\n",
      "https://yocket.in/universities/reviews/2766/rivier-university/engineering\n",
      "Rivier University (Rivier) http://www.rivier.edu/ New Hampshire, United States\n",
      "https://yocket.in/universities/reviews/2771/saint-marys-university-texas/engineering\n",
      "Saint Marys University, Texas (St Mary TX) https://www.stmarytx.edu/ Texas, United States\n",
      "https://yocket.in/universities/reviews/2585/new-mexico-institute-of-mining-and-technology/engineering\n",
      "New Mexico Institute of Mining and Technology (NMIMT) http://www.nmt.edu New Mexico, United States\n",
      "https://yocket.in/universities/reviews/2834/university-of-south-dakota/engineering\n",
      "University of South Dakota (USD) http://www.usd.edu/ South Dakota, United States\n",
      "https://yocket.in/universities/reviews/2728/kennesaw-state-university/engineering\n",
      "Kennesaw State University (Kennesaw) https://www.kennesaw.edu/ Georgia, United States\n",
      "https://yocket.in/universities/reviews/2741/middle-tennessee-state-university/engineering\n",
      "Middle Tennessee State University (MTSU) http://www.mtsu.edu/ Tennessee, United States\n",
      "https://yocket.in/universities/reviews/2718/georgia-southwestern-state-university/engineering\n",
      "Georgia Southwestern State University (GSW) https://gsw.edu/ Georgia, United States\n",
      "https://yocket.in/universities/reviews/2854/washington-state-university-tri-cities/engineering\n",
      "Washington State University, Tri-Cities (WSU Tricities) tricities.wsu.edu/ Washington, United States\n",
      "https://yocket.in/universities/reviews/2730/kutztown-university-of-pennsylvania/engineering\n",
      "Kutztown University of Pennsylvania (Kutztown) http://www.kutztown.edu/ Pennsylvania, United States\n",
      "https://yocket.in/universities/reviews/3116/stratford-university/engineering\n",
      "Stratford University (Stratford) http://www.stratford.edu/ Virginia, United States\n",
      "https://yocket.in/universities/reviews/2831/university-of-north-florida/engineering\n",
      "University of North Florida (UNF) http://www.unf.edu/ Florida, United States\n",
      "https://yocket.in/universities/reviews/2745/monmouth-university/engineering\n",
      "Monmouth University (Monmouth) http://www.monmouth.edu/ Illinois, United States\n",
      "https://yocket.in/universities/reviews/2746/montclair-state-university/engineering\n",
      "Montclair State University (Montclair) http://www.montclair.edu/ New Jersey, United States\n",
      "https://yocket.in/universities/reviews/2738/mcneese-state-university/engineering\n",
      "McNeese State University (McNeese) https://www.mcneese.edu/ Louisiana, United States\n",
      "https://yocket.in/universities/reviews/2808/university-of-atlanta/engineering\n",
      "University of Atlanta (U of A) http://www.uofa.edu/ Georgia, United States\n",
      "https://yocket.in/universities/reviews/2849/university-of-wisconsin-platteville/engineering\n",
      "University of Wisconsin-Platteville (UW Platt) https://www.uwplatt.edu/ Wisconsin, United States\n",
      "https://yocket.in/universities/reviews/2785/southern-connecticut-state-university/engineering\n",
      "Southern Connecticut State University (Southern CT) https://www.southernct.edu/ Connecticut, United States\n",
      "https://yocket.in/universities/reviews/2702/east-stroudsburg-university/engineering\n",
      "East Stroudsburg University (ESU) http://www.esu.edu/ Pennsylvania, United States\n",
      "https://yocket.in/universities/reviews/2727/james-madison-university/engineering\n",
      "James Madison University (JMU) http://www.jmu.edu/ Virginia, United States\n",
      "https://yocket.in/universities/reviews/2744/mississippi-college/engineering\n",
      "Mississippi College (MC) http://www.mc.edu/ Mississippi, United States\n",
      "https://yocket.in/universities/reviews/2779/shippensburg-university-of-pennsylvania/engineering\n",
      "Shippensburg University of Pennsylvania (Ship U) http://www.ship.edu/ Pennsylvania, United States\n",
      "https://yocket.in/universities/reviews/2705/eastern-washington-university/engineering\n",
      "Eastern Washington University (EWU) http://www.ewu.edu/ Washington, United States\n",
      "https://yocket.in/universities/reviews/2694/clark-atlanta-university/engineering\n",
      "Clark Atlanta University (Clark Atl) http://www.cau.edu/ Georgia, United States\n",
      "https://yocket.in/universities/reviews/2765/prairie-view-a-and-m-university/engineering\n",
      "Prairie View A&M University (PVAMU) https://www.pvamu.edu/ Texas, United States\n",
      "https://yocket.in/universities/reviews/2840/university-of-texas-rio-grand-valley/engineering\n",
      "University of Texas Rio Grande Valley (UTRGV) http://www.utb.edu/ Texas, United States\n",
      "https://yocket.in/universities/reviews/2824/university-of-montana/engineering\n",
      "University of Montana (UMT) https://www.umt.edu/ Montana, United States\n",
      "https://yocket.in/universities/reviews/2739/metropolitan-state-university/engineering\n"
     ]
    },
    {
     "name": "stdout",
     "output_type": "stream",
     "text": [
      "Metropolitan State University (Metro State) http://www.metrostate.edu/ Minnesota, United States\n",
      "https://yocket.in/universities/reviews/2803/towson-university/engineering\n",
      "Towson University (Towson) http://www.towson.edu/ Maryland, United States\n",
      "https://yocket.in/universities/reviews/2759/nova-southeastern-university/engineering\n",
      "Nova Southeastern University (Nova) http://www.nova.edu/ Florida, United States\n",
      "https://yocket.in/universities/reviews/2856/webster-university/engineering\n",
      "Webster University (Webster) http://www.webster.edu/ Missouri, United States\n",
      "https://yocket.in/universities/reviews/2713/franklin-university/engineering\n",
      "Franklin University (Franklin) http://www.franklin.edu Ohio, United States\n",
      "https://yocket.in/universities/reviews/2846/university-of-west-florida/engineering\n",
      "University of West Florida (UWF) https://uwf.edu/ Florida, United States\n",
      "https://yocket.in/universities/reviews/2723/hood-college/engineering\n",
      "Hood College (Hood) http://www.hood.edu/ Maryland, United States\n",
      "https://yocket.in/universities/reviews/2858/west-chester-university-of-pennsylvania/engineering\n",
      "West Chester University of Pennsylvania (WCUPA) https://www.wcupa.edu/ Pennsylvania, United States\n",
      "https://yocket.in/universities/reviews/2721/hampton-university/engineering\n",
      "Hampton University (Hampton) http://www.hamptonu.edu/ Virginia, United States\n",
      "https://yocket.in/universities/reviews/3158/purdue-university-northwest/engineering\n",
      "Purdue University Northwest (PNW) http://www.pnw.edu Indiana, United States\n",
      "https://yocket.in/universities/reviews/2836/university-of-southern-mississippi-gulf-coast/engineering\n",
      "University of Southern Mississippi, Gulf Coast (USM Gulf) http://www.usm.edu/gulfcoast/ Michigan, United States\n",
      "https://yocket.in/universities/reviews/2789/southern-university-and-a-and-m-college/engineering\n",
      "Southern University and A&M College (SUBR) http://www.subr.edu/ Louisiana, United States\n",
      "https://yocket.in/universities/reviews/2748/new-mexico-highlands-university/engineering\n",
      "New Mexico Highlands University (NMHU) http://www.nmhu.edu/ New Mexico, United States\n",
      "https://yocket.in/universities/reviews/2853/wake-forest-university/engineering\n",
      "Wake Forest University (WFU) http://www.wfu.edu/ North Carolina, United States\n",
      "https://yocket.in/universities/reviews/2780/sonoma-state-university/engineering\n",
      "Sonoma State University (Sonoma) http://www.sonoma.edu/ California, United States\n",
      "https://yocket.in/universities/reviews/2772/saint-xavier-university/engineering\n",
      "Saint Xavier University (SXU) http://www.sxu.edu/ Illinois, United States\n",
      "https://yocket.in/universities/reviews/2842/university-of-the-district-of-columbia/engineering\n",
      "University of the District of Columbia (UDC) http://www.udc.edu/ Washington, United States\n",
      "https://yocket.in/universities/reviews/2863/western-washington-university/engineering\n",
      "Western Washington University (WWU) http://www.wwu.edu/ Washington, United States\n",
      "https://yocket.in/universities/reviews/2751/norfolk-state-university/engineering\n",
      "Norfolk State University (Norfolk) https://www.nsu.edu/ Virginia, United States\n",
      "https://yocket.in/universities/reviews/2847/university-of-west-georgia/engineering\n",
      "University of West Georgia (UWG) http://www.westga.edu/ Georgia, United States\n",
      "https://yocket.in/universities/reviews/2857/wesleyan-university/engineering\n",
      "Wesleyan University (Wesleyan) http://www.wesleyan.edu/ Connecticut, United States\n",
      "https://yocket.in/universities/reviews/2839/university-of-texas-permian-basin/engineering\n",
      "University of Texas - Permian Basin (UTPB) http://www.utpb.edu/ Texas, United States\n",
      "https://yocket.in/universities/reviews/2835/university-of-southern-maine/engineering\n",
      "University of Southern Maine (USM Maine) https://usm.maine.edu/ Maine, United States\n",
      "https://yocket.in/universities/reviews/2865/winston-salem-state-university/engineering\n",
      "Winston-Salem State University (WSSU) https://www.wssu.edu/ North Carolina, United States\n",
      "https://yocket.in/universities/reviews/3145/california-state-university-chico/engineering\n",
      "California State University Chico (CSU Chico) http://www.caluniversity.edu California, United States\n",
      "https://yocket.in/universities/reviews/2783/southern-adventist-university/engineering\n",
      "Southern Adventist University (SAU TN) https://www.southern.edu/ Tennessee, United States\n",
      "https://yocket.in/universities/reviews/3157/pittsburgh-state-university/engineering\n",
      "Pittsburgh State University (Pitt State) http://www.pittstate.edu Pennsylvania, United States\n",
      "https://yocket.in/universities/reviews/3169/northern-arizona-university/engineering\n",
      "Northern Arizona University (NAU) http://www.nau.edu Arizona, United States\n",
      "https://yocket.in/universities/reviews/3164/youngstown-state-university/engineering\n",
      "Youngstown State University (YSU) http://www.ysu.edu Ohio, United States\n",
      "https://yocket.in/universities/reviews/3148/columbus-state-university/engineering\n",
      "Columbus State University (Columbus) https://www.columbusstate.edu Georgia, United States\n",
      "https://yocket.in/universities/reviews/3173/st-johns-university/engineering\n",
      "St. John's University (St Johns) http://www.stjohns.edu New York, United States\n",
      "https://yocket.in/universities/reviews/3149/california-baptist-university/engineering\n",
      "California Baptist University (CalBaptist) http://www.calbaptist.edu California, United States\n",
      "https://yocket.in/universities/reviews/3151/embry-riddle-aeronautical-university-florida/engineering\n",
      "Embry Riddle Aeronautical University (ERAU) http://www.erau.edu Florida, United States\n",
      "https://yocket.in/universities/reviews/3156/murray-state-university/engineering\n",
      "Murray State University (Murray State) http://www.murraystate.edu/ Kentucky, United States\n",
      "https://yocket.in/universities/reviews/3147/claremont-graduate-university/engineering\n",
      "Claremont Graduate University (CGU) http://www.cgu.edu California, United States\n",
      "https://yocket.in/universities/reviews/3150/concordia-university-ann-arbor/engineering\n",
      "Concordia University - Ann Arbor (CUAA) https://www.cuaa.edu Michigan, United States\n",
      "https://yocket.in/universities/reviews/3146/central-connecticut-state-university/engineering\n",
      "Central Connecticut State University (CCSU) http://www.ccsu.edu Connecticut, United States\n",
      "https://yocket.in/universities/reviews/3180/fairfield-university/engineering\n",
      "Fairfield University (Fairfield) https://www.fairfield.edu Connecticut, United States\n",
      "https://yocket.in/universities/reviews/3166/valparaiso-university/engineering\n",
      "Valparaiso University (Valpo) http://www.valpo.edu Indiana, United States\n",
      "https://yocket.in/universities/reviews/3152/fontbonne-university/engineering\n",
      "Fontbonne University, St Louis (Fontbonne) https://www.fontbonne.edu Missouri, United States\n",
      "https://yocket.in/universities/reviews/3167/university-of-north-america/engineering\n",
      "University of North America (UoNA) http://www.uona.edu Virginia, United States\n",
      "https://yocket.in/universities/reviews/3174/new-york-film-academy-los-angeles-campus/engineering\n",
      "New York Film Academy Los Angeles Campus (NYFA LA) https://www.nyfa.edu/los-angeles California, United States\n",
      "https://yocket.in/universities/reviews/3144/atlantis-university/engineering\n",
      "Atlantis University (Atlantis) https://www.atlantisuniversity.edu Florida, United States\n",
      "https://yocket.in/universities/reviews/3177/lipscomb-university/engineering\n",
      "Lipscomb University, Nashville (Lipscomb) https://www.lipscomb.edu Tennessee, United States\n",
      "https://yocket.in/universities/reviews/3171/university-of-phoenix/engineering\n",
      "University Of Phoenix (Phoenix) http://www.phoenix.edu Arizona, United States\n",
      "https://yocket.in/universities/reviews/3179/capitol-technology-university/engineering\n",
      "Capitol Technology University (CapTechU) https://www.captechu.edu Maryland, United States\n"
     ]
    }
   ],
   "source": [
    "for j in range(1, 14):\n",
    "    url = 'https://yocket.in/universities/masters-in-computer-science-engineering?page=%d' % j\n",
    "    content = req.get(url)\n",
    "    ins = bs(content.text, 'html.parser')\n",
    "    colleges = ins.find(id=\"university_list\")\n",
    "    a_list = colleges.find_all('a')\n",
    "    locations = [e.get_text() for e in colleges.find_all('small')[::2]]\n",
    "    for i in range(len(a_list)):\n",
    "        name = a_list[i].get_text()\n",
    "        exist = False\n",
    "        for e in college_set:\n",
    "            if e['name'] == name:\n",
    "                exist = True\n",
    "                break\n",
    "        if exist:\n",
    "            continue\n",
    "        href = a_list[i].get('href')\n",
    "        info = extract_info(href)\n",
    "        location = locations[i]\n",
    "        print('%s %s %s'%(name, info, location))\n",
    "        college = {'name': name, 'webpage': info, 'loc': location}\n",
    "        college_set.append(college)    "
   ]
  },
  {
   "cell_type": "code",
   "execution_count": 43,
   "metadata": {
    "collapsed": true
   },
   "outputs": [],
   "source": [
    "college_json = open('college.json', 'w')"
   ]
  },
  {
   "cell_type": "code",
   "execution_count": 44,
   "metadata": {
    "collapsed": true
   },
   "outputs": [],
   "source": [
    "json.dump(college_set, college_json)"
   ]
  },
  {
   "cell_type": "code",
   "execution_count": 45,
   "metadata": {
    "collapsed": true
   },
   "outputs": [],
   "source": [
    "college_json.close()"
   ]
  },
  {
   "cell_type": "code",
   "execution_count": 40,
   "metadata": {},
   "outputs": [
    {
     "name": "stdout",
     "output_type": "stream",
     "text": [
      "True\n"
     ]
    }
   ],
   "source": [
    "name = 'Arizona State University (ASU)'\n",
    "exist = False\n",
    "for e in college_set:\n",
    "    if e['name'] == name:\n",
    "        exist = True\n",
    "        break\n",
    "print(exist)"
   ]
  },
  {
   "cell_type": "code",
   "execution_count": 38,
   "metadata": {},
   "outputs": [
    {
     "data": {
      "text/plain": [
       "[{'loc': 'Arizona, United States',\n",
       "  'name': 'Arizona State University (ASU)',\n",
       "  'webpage': 'http://www.asu.edu/'},\n",
       " {'loc': 'Massachusetts, United States',\n",
       "  'name': 'Northeastern University (NEU)',\n",
       "  'webpage': 'http://www.northeastern.edu'},\n",
       " {'loc': 'Texas, United States',\n",
       "  'name': 'Texas A&M University, College Station (TAMU)',\n",
       "  'webpage': 'http://www.tamu.edu'},\n",
       " {'loc': 'California, United States',\n",
       "  'name': 'University of Southern California (USC Viterbi)',\n",
       "  'webpage': 'http://www.usc.edu'},\n",
       " {'loc': 'Texas, United States',\n",
       "  'name': 'University of Texas - Dallas (UTD)',\n",
       "  'webpage': 'http://www.utdallas.edu'},\n",
       " {'loc': 'North Carolina, United States',\n",
       "  'name': 'North Carolina State University, Raleigh (NCSU)',\n",
       "  'webpage': 'http://www.ncsu.edu'},\n",
       " {'loc': 'New York, United States',\n",
       "  'name': 'State University of New York at Buffalo (SUNY Buffalo)',\n",
       "  'webpage': 'http://www.buffalo.edu'},\n",
       " {'loc': 'Texas, United States',\n",
       "  'name': 'University of Texas - Arlington (UT Arlingt)',\n",
       "  'webpage': 'http://www.uta.edu'},\n",
       " {'loc': 'Illinois, United States',\n",
       "  'name': 'University of Illinois at Chicago (UIC)',\n",
       "  'webpage': 'http://www.uic.edu'},\n",
       " {'loc': 'Georgia, United States',\n",
       "  'name': 'Georgia Institute of Technology (GaTech)',\n",
       "  'webpage': 'http://www.gatech.edu/'},\n",
       " {'loc': 'Illinois, United States',\n",
       "  'name': 'Illinois Institute of Technology (IIT Chicago)',\n",
       "  'webpage': 'http://www.iit.edu'},\n",
       " {'loc': 'Texas, United States',\n",
       "  'name': 'University of Texas - Austin (UT Austin)',\n",
       "  'webpage': 'http://www.utexas.edu'},\n",
       " {'loc': 'North Carolina, United States',\n",
       "  'name': 'University of North Carolina at Charlotte (UNCC)',\n",
       "  'webpage': 'http://www.uncc.edu'},\n",
       " {'loc': 'Florida, United States',\n",
       "  'name': 'University of Florida (UFL)',\n",
       "  'webpage': 'http://www.ufl.edu'},\n",
       " {'loc': 'Pennsylvania, United States',\n",
       "  'name': 'Carnegie Mellon University (CMU)',\n",
       "  'webpage': 'http://www.cmu.edu/'},\n",
       " {'loc': 'New York, United States',\n",
       "  'name': 'New York University (NYU)',\n",
       "  'webpage': 'www.nyu.edu/'},\n",
       " {'loc': 'California, United States',\n",
       "  'name': 'San Jose State University (SJSU)',\n",
       "  'webpage': 'www.sjsu.edu/'},\n",
       " {'loc': 'Pennsylvania, United States',\n",
       "  'name': 'Pennsylvania State University (Penn State)',\n",
       "  'webpage': 'http://www.psu.edu'},\n",
       " {'loc': 'Maryland, United States',\n",
       "  'name': 'University of Maryland, College Park (UMCP)',\n",
       "  'webpage': 'http://www.umd.edu'},\n",
       " {'loc': 'Minnesota, United States',\n",
       "  'name': 'University of Minnesota, Twin Cities (UM Twin)',\n",
       "  'webpage': 'http://www.umn.edu/'},\n",
       " {'loc': 'Indiana, United States',\n",
       "  'name': 'Purdue University West Lafayette (Purdue)',\n",
       "  'webpage': 'http://www.purdue.edu'},\n",
       " {'loc': 'New York, United States',\n",
       "  'name': 'Syracuse University (Syracuse)',\n",
       "  'webpage': 'http://www.syr.edu'},\n",
       " {'loc': 'California, United States',\n",
       "  'name': 'University of California - San Diego (UCSD)',\n",
       "  'webpage': 'http://ucsd.edu/'},\n",
       " {'loc': 'Virginia, United States',\n",
       "  'name': 'Virginia Tech (Virg. Tech)',\n",
       "  'webpage': 'https://www.vt.edu/'},\n",
       " {'loc': 'California, United States',\n",
       "  'name': 'University of California - Irvine (UC Irvine)',\n",
       "  'webpage': 'http://www.uci.edu'},\n",
       " {'loc': 'New York, United States',\n",
       "  'name': 'Rochester Institute of Technology (RIT)',\n",
       "  'webpage': 'http://www.rit.edu'},\n",
       " {'loc': 'Michigan, United States',\n",
       "  'name': 'Michigan State University (Mich. SU)',\n",
       "  'webpage': 'https://msu.edu/'},\n",
       " {'loc': 'Ohio, United States',\n",
       "  'name': 'University of Cincinnati (U.Cincin)',\n",
       "  'webpage': 'http://www.uc.edu'},\n",
       " {'loc': 'Iowa, United States',\n",
       "  'name': 'Iowa State University (Iowa State)',\n",
       "  'webpage': 'http://www.iastate.edu/'},\n",
       " {'loc': 'New York, United States',\n",
       "  'name': 'State University of New York at Stony Brook (SUNY-SB)',\n",
       "  'webpage': 'http://www.stonybrook.edu'},\n",
       " {'loc': 'Michigan, United States',\n",
       "  'name': 'University of Michigan - Ann Arbor (U Mich)',\n",
       "  'webpage': 'http://www.umich.edu'},\n",
       " {'loc': 'California, United States',\n",
       "  'name': 'University of California - Los Angeles (UCLA)',\n",
       "  'webpage': 'http://www.ucla.edu'},\n",
       " {'loc': 'Texas, United States',\n",
       "  'name': 'University of Houston (U. Houston)',\n",
       "  'webpage': 'www.uh.edu/'},\n",
       " {'loc': 'South Carolina, United States',\n",
       "  'name': 'Clemson University (Clemson)',\n",
       "  'webpage': 'http://www.clemson.edu/'},\n",
       " {'loc': 'Illinois, United States',\n",
       "  'name': 'University of Illinois at Urbana-Champaign (UIUC)',\n",
       "  'webpage': 'http://www.illinois.edu/'},\n",
       " {'loc': 'Massachusetts, United States',\n",
       "  'name': 'University of Massachusetts - Amherst (Umass Am)',\n",
       "  'webpage': 'http://www.umass.edu'},\n",
       " {'loc': 'New York, United States',\n",
       "  'name': 'Columbia University (Columbia)',\n",
       "  'webpage': 'http://www.columbia.edu/'},\n",
       " {'loc': 'New Jersey, United States',\n",
       "  'name': 'New Jersey Institute of Technology (NJIT)',\n",
       "  'webpage': 'http://www.njit.edu/'},\n",
       " {'loc': 'Ohio, United States',\n",
       "  'name': 'Ohio State University (OSU)',\n",
       "  'webpage': 'http://www.osu.edu'},\n",
       " {'loc': 'Utah, United States',\n",
       "  'name': 'University of Utah (Utah)',\n",
       "  'webpage': 'http://www.utah.edu/'},\n",
       " {'loc': 'Colorado, United States',\n",
       "  'name': 'University of Colorado Boulder (Boulder)',\n",
       "  'webpage': 'http://www.colorado.edu'},\n",
       " {'loc': 'Wisconsin, United States',\n",
       "  'name': 'University of Wisconsin-Madison (UW Mad)',\n",
       "  'webpage': 'http://www.wisc.edu'},\n",
       " {'loc': 'California, United States',\n",
       "  'name': 'California State University, Fullerton (Fullerton)',\n",
       "  'webpage': 'www.fullerton.edu/'},\n",
       " {'loc': 'New York, United States',\n",
       "  'name': 'Cornell University (Cornell)',\n",
       "  'webpage': 'http://www.cornell.edu/'},\n",
       " {'loc': 'Florida, United States',\n",
       "  'name': 'University of South Florida (USF)',\n",
       "  'webpage': 'www.usf.edu/'},\n",
       " {'loc': 'Pennsylvania, United States',\n",
       "  'name': 'University of Pennsylvania (UPenn)',\n",
       "  'webpage': 'http://www.upenn.edu'},\n",
       " {'loc': 'New Jersey, United States',\n",
       "  'name': 'Rutgers University - New Brunswick (Rutgers NB)',\n",
       "  'webpage': 'http://www.rutgers.edu'},\n",
       " {'loc': 'Michigan, United States',\n",
       "  'name': 'Michigan Technological University (MTU)',\n",
       "  'webpage': 'http://www.mtu.edu/'},\n",
       " {'loc': 'New Jersey, United States',\n",
       "  'name': 'Stevens Institute of Technology (Stevens IT)',\n",
       "  'webpage': 'http://www.stevens.edu'},\n",
       " {'loc': 'Alabama, United States',\n",
       "  'name': 'Auburn University (Auburn)',\n",
       "  'webpage': 'http://www.auburn.edu/'},\n",
       " {'loc': 'California, United States',\n",
       "  'name': 'San Diego State University (SDSU)',\n",
       "  'webpage': 'www.sdsu.edu/'},\n",
       " {'loc': 'California, United States',\n",
       "  'name': 'University of California - Davis (UC Davis)',\n",
       "  'webpage': 'http://www.ucdavis.edu/'},\n",
       " {'loc': 'California, United States',\n",
       "  'name': 'University of California – Berkeley (UC Berkeley)',\n",
       "  'webpage': 'http://www.berkeley.edu'},\n",
       " {'loc': 'Massachusetts, United States',\n",
       "  'name': 'Boston University (BU)',\n",
       "  'webpage': 'http://www.bu.edu/'},\n",
       " {'loc': 'New York, United States',\n",
       "  'name': 'Polytechnic Institute Of New York University (NYU Poly)',\n",
       "  'webpage': 'http://www.poly.edu'},\n",
       " {'loc': 'Virginia, United States',\n",
       "  'name': 'George Mason University (GMU)',\n",
       "  'webpage': 'http://www.gmu.edu'},\n",
       " {'loc': 'California, United States',\n",
       "  'name': 'California Institute Of Technology (CalTech)',\n",
       "  'webpage': 'http://www.caltech.edu/'},\n",
       " {'loc': 'California, United States',\n",
       "  'name': 'California State University, Long Beach (CSU LB)',\n",
       "  'webpage': 'https://www.csulb.edu/'},\n",
       " {'loc': 'Washington, United States',\n",
       "  'name': 'University of Washington (UW Seattle)',\n",
       "  'webpage': 'http://www.washington.edu'},\n",
       " {'loc': 'New York, United States',\n",
       "  'name': 'State University of New York at Binghamton (SUNY Bingh.)',\n",
       "  'webpage': 'www.binghamton.edu/'},\n",
       " {'loc': 'Arizona, United States',\n",
       "  'name': 'University of Arizona (U.Ariz)',\n",
       "  'webpage': 'http://www.arizona.edu/'},\n",
       " {'loc': 'Massachusetts, United States',\n",
       "  'name': 'Massachusetts Institute of Technology (MIT)',\n",
       "  'webpage': 'http://web.mit.edu/'},\n",
       " {'loc': 'California, United States',\n",
       "  'name': 'University of California - Santa Barbara (UCSB)',\n",
       "  'webpage': 'http://www.ucsb.edu'},\n",
       " {'loc': 'Oklahoma, United States',\n",
       "  'name': 'Oklahoma State University-Stillwater (Oklahoma)',\n",
       "  'webpage': 'http://go.okstate.edu'},\n",
       " {'loc': 'Illinois, United States',\n",
       "  'name': 'Northwestern University (NWU)',\n",
       "  'webpage': 'http://www.northwestern.edu'},\n",
       " {'loc': 'Colorado, United States',\n",
       "  'name': 'Colorado State University (Col.SU)',\n",
       "  'webpage': 'http://www.colostate.edu/'},\n",
       " {'loc': 'California, United States',\n",
       "  'name': 'California State University, Los Angeles (CSU LA)',\n",
       "  'webpage': 'www.calstatela.edu/'},\n",
       " {'loc': 'Texas, United States',\n",
       "  'name': 'Texas A&M University - Kingsville (TAMUK)',\n",
       "  'webpage': 'www.tamuk.edu/'},\n",
       " {'loc': 'Texas, United States',\n",
       "  'name': 'Texas Tech University (TTU Whitcre)',\n",
       "  'webpage': 'http://www.depts.ttu.edu/coe'},\n",
       " {'loc': 'Indiana, United States',\n",
       "  'name': 'Indiana Univ - Purdue Univ Indianapolis (IUPUI)',\n",
       "  'webpage': 'http://www.iupui.edu/'},\n",
       " {'loc': 'Pennsylvania, United States',\n",
       "  'name': 'University of Pittsburgh (UPitt)',\n",
       "  'webpage': 'http://www.pitt.edu'},\n",
       " {'loc': 'California, United States',\n",
       "  'name': 'Stanford University (Stanford)',\n",
       "  'webpage': 'http://www.stanford.edu'},\n",
       " {'loc': 'Maryland, United States',\n",
       "  'name': 'University of Maryland, Baltimore County (UMBC)',\n",
       "  'webpage': 'www.umbc.edu'},\n",
       " {'loc': 'Indiana, United States',\n",
       "  'name': 'Indiana University Bloomington (IUB)',\n",
       "  'webpage': 'https://www.indiana.edu/'},\n",
       " {'loc': 'District of Columbia, United States',\n",
       "  'name': 'George Washington University (GWU)',\n",
       "  'webpage': 'http://www.gwu.edu/'},\n",
       " {'loc': 'California, United States',\n",
       "  'name': 'Santa Clara University (Santa Clara)',\n",
       "  'webpage': 'www.scu.edu/'},\n",
       " {'loc': 'North Carolina, United States',\n",
       "  'name': 'University of North Carolina at Chapel Hill (UNC-Chapel)',\n",
       "  'webpage': 'http://www.unc.edu'},\n",
       " {'loc': 'California, United States',\n",
       "  'name': 'University of California - Riverside (UC Riverside)',\n",
       "  'webpage': 'www.ucr.edu/'},\n",
       " {'loc': 'Ohio, United States',\n",
       "  'name': 'Cleveland State University (Cleveland)',\n",
       "  'webpage': 'http://www.csuohio.edu/'},\n",
       " {'loc': 'Georgia, United States',\n",
       "  'name': 'Georgia State University (GSU)',\n",
       "  'webpage': 'www.gsu.edu/'},\n",
       " {'loc': 'Maryland, United States',\n",
       "  'name': 'Johns Hopkins University (J.Hopkins)',\n",
       "  'webpage': 'https://www.jhu.edu/'},\n",
       " {'loc': 'Kansas, United States',\n",
       "  'name': 'Kansas State University (Kansas SU)',\n",
       "  'webpage': 'www.k-state.edu/'},\n",
       " {'loc': 'Pennsylvania, United States',\n",
       "  'name': 'Lehigh University (Lehigh)',\n",
       "  'webpage': 'http://www1.lehigh.edu/'},\n",
       " {'loc': 'Massachusetts, United States',\n",
       "  'name': 'Worcester Polytechnic Institute (WPI)',\n",
       "  'webpage': 'https://www.wpi.edu/'},\n",
       " {'loc': 'California, United States',\n",
       "  'name': 'University of California - Santa Cruz (UCSC)',\n",
       "  'webpage': 'www.ucsc.edu/'}]"
      ]
     },
     "execution_count": 38,
     "metadata": {},
     "output_type": "execute_result"
    }
   ],
   "source": [
    "college_set"
   ]
  },
  {
   "cell_type": "code",
   "execution_count": 29,
   "metadata": {},
   "outputs": [
    {
     "data": {
      "text/plain": [
       "['Arizona State University (ASU)',\n",
       " 'Northeastern University (NEU)',\n",
       " 'Texas A&M University, College Station (TAMU)',\n",
       " 'University of Southern California (USC Viterbi)',\n",
       " 'University of Texas - Dallas (UTD)',\n",
       " 'North Carolina State University, Raleigh (NCSU)',\n",
       " 'State University of New York at Buffalo (SUNY Buffalo)',\n",
       " 'University of Texas - Arlington (UT Arlingt)',\n",
       " 'University of Illinois at Chicago (UIC)',\n",
       " 'Georgia Institute of Technology (GaTech)',\n",
       " 'Illinois Institute of Technology (IIT Chicago)',\n",
       " 'University of Texas - Austin (UT Austin)',\n",
       " 'University of North Carolina at Charlotte (UNCC)',\n",
       " 'University of Florida (UFL)',\n",
       " 'Carnegie Mellon University (CMU)',\n",
       " 'New York University (NYU)',\n",
       " 'San Jose State University (SJSU)',\n",
       " 'Pennsylvania State University (Penn State)',\n",
       " 'University of Maryland, College Park (UMCP)',\n",
       " 'University of Minnesota, Twin Cities (UM Twin)',\n",
       " 'Purdue University West Lafayette (Purdue)',\n",
       " 'Syracuse University (Syracuse)',\n",
       " 'University of California - San Diego (UCSD)',\n",
       " 'Virginia Tech (Virg. Tech)',\n",
       " 'University of California - Irvine (UC Irvine)',\n",
       " 'Rochester Institute of Technology (RIT)',\n",
       " 'Michigan State University (Mich. SU)',\n",
       " 'University of Cincinnati (U.Cincin)',\n",
       " 'Iowa State University (Iowa State)',\n",
       " 'State University of New York at Stony Brook (SUNY-SB)']"
      ]
     },
     "execution_count": 29,
     "metadata": {},
     "output_type": "execute_result"
    }
   ],
   "source": [
    "names"
   ]
  },
  {
   "cell_type": "code",
   "execution_count": 28,
   "metadata": {},
   "outputs": [
    {
     "data": {
      "text/plain": [
       "['/universities/reviews/782/arizona-state-university/engineering',\n",
       " '/universities/reviews/736/northeastern-university/engineering',\n",
       " '/universities/reviews/706/texas-a-and-m-university-college-station/engineering',\n",
       " '/universities/reviews/745/university-of-southern-california/engineering',\n",
       " '/universities/reviews/752/university-of-texas-dallas/engineering',\n",
       " '/universities/reviews/729/north-carolina-state-university-raleigh/engineering',\n",
       " '/universities/reviews/734/state-university-of-new-york-at-buffalo/engineering',\n",
       " '/universities/reviews/824/university-of-texas-arlington/engineering',\n",
       " '/universities/reviews/810/university-of-illinois-at-chicago/engineering',\n",
       " '/universities/reviews/703/georgia-institute-of-technology/engineering',\n",
       " '/universities/reviews/1043/illinois-institute-of-technology/engineering',\n",
       " '/universities/reviews/713/university-of-texas-austin/engineering',\n",
       " '/universities/reviews/860/university-of-north-carolina-at-charlotte/engineering',\n",
       " '/universities/reviews/710/university-of-florida/engineering',\n",
       " '/universities/reviews/702/carnegie-mellon-university/engineering',\n",
       " '/universities/reviews/2587/new-york-university/engineering',\n",
       " '/universities/reviews/2777/san-jose-state-university/engineering',\n",
       " '/universities/reviews/808/pennsylvania-state-university/engineering',\n",
       " '/universities/reviews/712/university-of-maryland-college-park/engineering',\n",
       " '/universities/reviews/1094/university-of-minnesota-twin-cities/engineering',\n",
       " '/universities/reviews/748/purdue-university-west-lafayette/engineering',\n",
       " '/universities/reviews/705/syracuse-university/engineering',\n",
       " '/universities/reviews/764/university-of-california-san-diego/engineering',\n",
       " '/universities/reviews/714/virginia-tech/engineering',\n",
       " '/universities/reviews/795/university-of-california-irvine/engineering',\n",
       " '/universities/reviews/746/rochester-institute-of-technology/engineering',\n",
       " '/universities/reviews/1856/michigan-state-university/engineering',\n",
       " '/universities/reviews/743/university-of-cincinnati/engineering',\n",
       " '/universities/reviews/818/iowa-state-university/engineering',\n",
       " '/universities/reviews/735/state-university-of-new-york-at-stony-brook/engineering']"
      ]
     },
     "execution_count": 28,
     "metadata": {},
     "output_type": "execute_result"
    }
   ],
   "source": [
    "href"
   ]
  },
  {
   "cell_type": "code",
   "execution_count": 20,
   "metadata": {
    "collapsed": true
   },
   "outputs": [],
   "source": [
    "college_page_url = 'https://yocket.in' + href[0]"
   ]
  },
  {
   "cell_type": "code",
   "execution_count": 21,
   "metadata": {},
   "outputs": [
    {
     "data": {
      "text/plain": [
       "'https://yocket.in/universities/reviews/782/arizona-state-university/engineering'"
      ]
     },
     "execution_count": 21,
     "metadata": {},
     "output_type": "execute_result"
    }
   ],
   "source": [
    "college_page_url"
   ]
  },
  {
   "cell_type": "code",
   "execution_count": 29,
   "metadata": {
    "collapsed": true
   },
   "outputs": [],
   "source": [
    "college_page_url = 'https://yocket.in/universities/reviews/2587/new-york-university/engineering'\n",
    "college_con = req.get(college_page_url)\n",
    "college_soup = bs(college_con.text, 'html.parser')"
   ]
  },
  {
   "cell_type": "code",
   "execution_count": 30,
   "metadata": {},
   "outputs": [
    {
     "name": "stdout",
     "output_type": "stream",
     "text": [
      "['http://www.nyu.edu/']\n"
     ]
    }
   ],
   "source": [
    "selector = etree.HTML(college_con.text)\n",
    "links = selector.xpath('//h4/a/@href')\n",
    "print(links)"
   ]
  },
  {
   "cell_type": "code",
   "execution_count": 34,
   "metadata": {
    "collapsed": true
   },
   "outputs": [],
   "source": [
    "`\n",
    "import re\n",
    "print(re.findall('Website: http://(.*)/', college_soup.text))"
   ]
  },
  {
   "cell_type": "code",
   "execution_count": null,
   "metadata": {
    "collapsed": true
   },
   "outputs": [],
   "source": []
  },
  {
   "cell_type": "code",
   "execution_count": 71,
   "metadata": {},
   "outputs": [
    {
     "name": "stdout",
     "output_type": "stream",
     "text": [
      "['www.asu.edu']\n"
     ]
    }
   ],
   "source": [
    "import re\n",
    "print(re.findall('(www.*edu)', college_soup.text))"
   ]
  },
  {
   "cell_type": "code",
   "execution_count": 24,
   "metadata": {},
   "outputs": [
    {
     "data": {
      "text/plain": [
       "30"
      ]
     },
     "execution_count": 24,
     "metadata": {},
     "output_type": "execute_result"
    }
   ],
   "source": [
    "len(locations)"
   ]
  },
  {
   "cell_type": "code",
   "execution_count": 25,
   "metadata": {},
   "outputs": [
    {
     "data": {
      "text/plain": [
       "['Arizona, United States',\n",
       " 'Massachusetts, United States',\n",
       " 'Texas, United States',\n",
       " 'California, United States',\n",
       " 'Texas, United States',\n",
       " 'North Carolina, United States',\n",
       " 'New York, United States',\n",
       " 'Texas, United States',\n",
       " 'Illinois, United States',\n",
       " 'Georgia, United States',\n",
       " 'Illinois, United States',\n",
       " 'Texas, United States',\n",
       " 'North Carolina, United States',\n",
       " 'Florida, United States',\n",
       " 'Pennsylvania, United States',\n",
       " 'New York, United States',\n",
       " 'California, United States',\n",
       " 'Pennsylvania, United States',\n",
       " 'Maryland, United States',\n",
       " 'Minnesota, United States',\n",
       " 'Indiana, United States',\n",
       " 'New York, United States',\n",
       " 'California, United States',\n",
       " 'Virginia, United States',\n",
       " 'California, United States',\n",
       " 'New York, United States',\n",
       " 'Michigan, United States',\n",
       " 'Ohio, United States',\n",
       " 'Iowa, United States',\n",
       " 'New York, United States']"
      ]
     },
     "execution_count": 25,
     "metadata": {},
     "output_type": "execute_result"
    }
   ],
   "source": [
    "locations"
   ]
  },
  {
   "cell_type": "code",
   "execution_count": 4,
   "metadata": {
    "collapsed": true
   },
   "outputs": [],
   "source": [
    "x = 'bad//'"
   ]
  },
  {
   "cell_type": "code",
   "execution_count": 5,
   "metadata": {},
   "outputs": [
    {
     "data": {
      "text/plain": [
       "3"
      ]
     },
     "execution_count": 5,
     "metadata": {},
     "output_type": "execute_result"
    }
   ],
   "source": [
    "x.find('//')"
   ]
  },
  {
   "cell_type": "code",
   "execution_count": null,
   "metadata": {
    "collapsed": true
   },
   "outputs": [],
   "source": []
  }
 ],
 "metadata": {
  "kernelspec": {
   "display_name": "Python 2",
   "language": "python",
   "name": "python2"
  },
  "language_info": {
   "codemirror_mode": {
    "name": "ipython",
    "version": 2
   },
   "file_extension": ".py",
   "mimetype": "text/x-python",
   "name": "python",
   "nbconvert_exporter": "python",
   "pygments_lexer": "ipython2",
   "version": "2.7.12"
  }
 },
 "nbformat": 4,
 "nbformat_minor": 2
}
